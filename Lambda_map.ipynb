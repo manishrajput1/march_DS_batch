{
 "cells": [
  {
   "cell_type": "markdown",
   "id": "a2c46518",
   "metadata": {},
   "source": [
    "                   lambda -----> \n",
    "                   \n",
    "                   \n",
    "                   keyword   ---> lambda \n",
    "                   ano---> \n",
    "                   inline-----> single line \n",
    "                   \n",
    "                   \n",
    "                   syntax----->\n",
    "                   \n",
    "                   \n",
    "                   lambda arguments(a,b): statement "
   ]
  },
  {
   "cell_type": "code",
   "execution_count": 1,
   "id": "3bd110b9",
   "metadata": {},
   "outputs": [],
   "source": [
    "def add(a,b):\n",
    "    c=a+b\n",
    "    return c"
   ]
  },
  {
   "cell_type": "code",
   "execution_count": 2,
   "id": "b45d693a",
   "metadata": {},
   "outputs": [
    {
     "data": {
      "text/plain": [
       "30"
      ]
     },
     "execution_count": 2,
     "metadata": {},
     "output_type": "execute_result"
    }
   ],
   "source": [
    "add(10,20)"
   ]
  },
  {
   "cell_type": "code",
   "execution_count": 3,
   "id": "18fa0fa3",
   "metadata": {},
   "outputs": [],
   "source": [
    "a=lambda x,y:x+y"
   ]
  },
  {
   "cell_type": "code",
   "execution_count": 4,
   "id": "70c30a4a",
   "metadata": {},
   "outputs": [
    {
     "data": {
      "text/plain": [
       "60"
      ]
     },
     "execution_count": 4,
     "metadata": {},
     "output_type": "execute_result"
    }
   ],
   "source": [
    "a(20,40)"
   ]
  },
  {
   "cell_type": "code",
   "execution_count": 5,
   "id": "9326c6e2",
   "metadata": {},
   "outputs": [],
   "source": [
    "msg=lambda name: f\"hello {name} how are you?\""
   ]
  },
  {
   "cell_type": "code",
   "execution_count": 6,
   "id": "1c3eea13",
   "metadata": {},
   "outputs": [
    {
     "data": {
      "text/plain": [
       "'hello manish how are you?'"
      ]
     },
     "execution_count": 6,
     "metadata": {},
     "output_type": "execute_result"
    }
   ],
   "source": [
    "msg('manish')"
   ]
  },
  {
   "cell_type": "code",
   "execution_count": 7,
   "id": "42144d7a",
   "metadata": {},
   "outputs": [],
   "source": [
    "# odd even"
   ]
  },
  {
   "cell_type": "code",
   "execution_count": 8,
   "id": "60a04718",
   "metadata": {},
   "outputs": [],
   "source": [
    "oodd_even=lambda x: 'even' if x%2==0 else 'odd'"
   ]
  },
  {
   "cell_type": "code",
   "execution_count": 9,
   "id": "af45047f",
   "metadata": {},
   "outputs": [
    {
     "data": {
      "text/plain": [
       "'even'"
      ]
     },
     "execution_count": 9,
     "metadata": {},
     "output_type": "execute_result"
    }
   ],
   "source": [
    "oodd_even(10)"
   ]
  },
  {
   "cell_type": "code",
   "execution_count": 10,
   "id": "d73a175f",
   "metadata": {},
   "outputs": [
    {
     "data": {
      "text/plain": [
       "'odd'"
      ]
     },
     "execution_count": 10,
     "metadata": {},
     "output_type": "execute_result"
    }
   ],
   "source": [
    "oodd_even(15)"
   ]
  },
  {
   "cell_type": "markdown",
   "id": "b7198888",
   "metadata": {},
   "source": [
    "              obj=  map(function,iter(sequence))"
   ]
  },
  {
   "cell_type": "code",
   "execution_count": 11,
   "id": "1117d9ac",
   "metadata": {},
   "outputs": [],
   "source": [
    "l=['10','20','30','40','50']"
   ]
  },
  {
   "cell_type": "code",
   "execution_count": 12,
   "id": "2baf0131",
   "metadata": {},
   "outputs": [
    {
     "name": "stdout",
     "output_type": "stream",
     "text": [
      "150\n"
     ]
    }
   ],
   "source": [
    "s=0\n",
    "for i in l:\n",
    "    s+=int(i)\n",
    "print(s)"
   ]
  },
  {
   "cell_type": "code",
   "execution_count": 14,
   "id": "2be1712f",
   "metadata": {},
   "outputs": [
    {
     "name": "stdout",
     "output_type": "stream",
     "text": [
      "150\n"
     ]
    }
   ],
   "source": [
    "\n",
    "r=0\n",
    "for i in range(len(l)):\n",
    "    r+=int(l[i])\n",
    "print(r)\n"
   ]
  },
  {
   "cell_type": "code",
   "execution_count": 16,
   "id": "f034d197",
   "metadata": {},
   "outputs": [
    {
     "data": {
      "text/plain": [
       "40.0"
      ]
     },
     "execution_count": 16,
     "metadata": {},
     "output_type": "execute_result"
    }
   ],
   "source": [
    "sum(map(int,l[2:]))"
   ]
  },
  {
   "cell_type": "code",
   "execution_count": 17,
   "id": "fcf2b37f",
   "metadata": {},
   "outputs": [],
   "source": [
    "para='''\n",
    "\n",
    "\n",
    "Python is a high-level, general-purpose programming language. Its design philosophy emphasizes code readability with the use of significant indentation. Its language constructs and object-oriented approach aim to help programmers write clear, logical code for small- and large-scale projects.[30]\n",
    "\n",
    "Python is dynamically-typed and garbage-collected. It supports multiple programming paradigms, including structured (particularly procedural), object-oriented and functional programming. It is often described as a \"batteries included\" language due to its comprehensive standard library.[31][32]\n",
    "\n",
    "Guido van Rossum began working on Python in the late 1980s as a successor to the ABC programming language and first released it in 1991 as Python 0.9.0.[33] Python 2.0 was released in 2000 and introduced new features such as list comprehensions, cycle-detecting garbage collection, reference counting, and Unicode support. Python 3.0, released in 2008, was a major revision that is not completely backward-compatible with earlier versions. Python 2 was discontinued with version 2.7.18 in 2020.[34]\n",
    "\n",
    "Python consistently ranks as one of the most popular programming languages\n",
    "\n",
    "'''"
   ]
  },
  {
   "cell_type": "code",
   "execution_count": 25,
   "id": "088bd252",
   "metadata": {},
   "outputs": [
    {
     "name": "stdout",
     "output_type": "stream",
     "text": [
      "\n",
      "\n",
      "\n",
      "Python is a high-level, general-purpose programming language. Its design philosophy emphasizes code readability with the use of significant indentation. Its language constructs and object-oriented approach aim to help programmers write clear, logical code for small- and large-scale projects.[30]\n",
      "\n",
      "Python is dynamically-typed and garbage-collected. It supports multiple programming paradigms, including structured (particularly procedural), object-oriented and functional programming. It is often described as a \"batteries included\" language due to its comprehensive standard library.[31][32]\n",
      "\n",
      "Guido van Rossum began working on Python in the late 1980s as a successor to the ABC programming language and first released it in 1991 as Python 0.9.0.[33] Python 2.0 was released in 2000 and introduced new features such as list comprehensions, cycle-detecting garbage collection, reference counting, and Unicode support. Python 3.0, released in 2008, was a major revision that is not completely backward-compatible with earlier versions. Python 2 was discontinued with version 2.7.18 in 2020.[34]\n",
      "\n",
      "Python consistently ranks as one of the most popular programming languages\n",
      "\n",
      "\n"
     ]
    }
   ],
   "source": [
    "print(para)"
   ]
  },
  {
   "cell_type": "code",
   "execution_count": 30,
   "id": "de91352b",
   "metadata": {},
   "outputs": [
    {
     "name": "stdout",
     "output_type": "stream",
     "text": [
      "   Python is a high-level, general-purpose programming language\n",
      " Its design philosophy emphasizes code readability with the use of significant indentation\n",
      " Its language constructs and object-oriented approach aim to help programmers write clear, logical code for small- and large-scale projects\n",
      "[30]  Python is dynamically-typed and garbage-collected\n",
      " It supports multiple programming paradigms, including structured (particularly procedural), object-oriented and functional programming\n",
      " It is often described as a \"batteries included\" language due to its comprehensive standard library\n",
      "[31][32]  Guido van Rossum began working on Python in the late 1980s as a successor to the ABC programming language and first released it in 1991 as Python 0\n",
      "9\n",
      "0\n",
      "[33] Python 2\n",
      "0 was released in 2000 and introduced new features such as list comprehensions, cycle-detecting garbage collection, reference counting, and Unicode support\n",
      " Python 3\n",
      "0, released in 2008, was a major revision that is not completely backward-compatible with earlier versions\n",
      " Python 2 was discontinued with version 2\n",
      "7\n",
      "18 in 2020\n",
      "[34]  Python consistently ranks as one of the most popular programming languages  \n"
     ]
    }
   ],
   "source": [
    "t=para.split('\\n')\n",
    "t=' '.join(t)\n",
    "d=t.split('.')\n",
    "data='\\n'.join(d)\n",
    "print(data)"
   ]
  },
  {
   "cell_type": "code",
   "execution_count": 31,
   "id": "ed293b0c",
   "metadata": {},
   "outputs": [
    {
     "name": "stdout",
     "output_type": "stream",
     "text": [
      "'   Python is a high-level, general-purpose programming language\\n Its design philosophy emphasizes code readability with the use of significant indentation\\n Its language constructs and object-oriented approach aim to help programmers write clear, logical code for small- and large-scale projects\\n[30]  Python is dynamically-typed and garbage-collected\\n It supports multiple programming paradigms, including structured (particularly procedural), object-oriented and functional programming\\n It is often described as a \"batteries included\" language due to its comprehensive standard library\\n[31][32]  Guido van Rossum began working on Python in the late 1980s as a successor to the ABC programming language and first released it in 1991 as Python 0\\n9\\n0\\n[33] Python 2\\n0 was released in 2000 and introduced new features such as list comprehensions, cycle-detecting garbage collection, reference counting, and Unicode support\\n Python 3\\n0, released in 2008, was a major revision that is not completely backward-compatible with earlier versions\\n Python 2 was discontinued with version 2\\n7\\n18 in 2020\\n[34]  Python consistently ranks as one of the most popular programming languages  '\n"
     ]
    }
   ],
   "source": [
    "print(repr(data))"
   ]
  },
  {
   "cell_type": "code",
   "execution_count": 32,
   "id": "6da2d23d",
   "metadata": {},
   "outputs": [],
   "source": [
    "l=[1,2,3,56,76,23,12,34,6,8,98,90]"
   ]
  },
  {
   "cell_type": "code",
   "execution_count": 39,
   "id": "3aa4d3a3",
   "metadata": {},
   "outputs": [],
   "source": [
    "obj=map(lambda x: x**2 if x%2==0 else x**3,l)"
   ]
  },
  {
   "cell_type": "code",
   "execution_count": 40,
   "id": "eee805d8",
   "metadata": {},
   "outputs": [
    {
     "name": "stdout",
     "output_type": "stream",
     "text": [
      "[1, 4, 27, 3136, 5776, 12167, 144, 1156, 36, 64, 9604, 8100]\n"
     ]
    }
   ],
   "source": [
    "print(list(obj))\n",
    "# iterate ----> * , list(), tuple()"
   ]
  },
  {
   "cell_type": "code",
   "execution_count": 36,
   "id": "1bc9121c",
   "metadata": {},
   "outputs": [],
   "source": [
    "p='manish'"
   ]
  },
  {
   "cell_type": "code",
   "execution_count": 37,
   "id": "01d9a865",
   "metadata": {},
   "outputs": [
    {
     "data": {
      "text/plain": [
       "['m', 'a', 'n', 'i', 's', 'h']"
      ]
     },
     "execution_count": 37,
     "metadata": {},
     "output_type": "execute_result"
    }
   ],
   "source": [
    "list(p)"
   ]
  },
  {
   "cell_type": "code",
   "execution_count": 38,
   "id": "786a781d",
   "metadata": {},
   "outputs": [
    {
     "data": {
      "text/plain": [
       "('m', 'a', 'n', 'i', 's', 'h')"
      ]
     },
     "execution_count": 38,
     "metadata": {},
     "output_type": "execute_result"
    }
   ],
   "source": [
    "tuple(p)"
   ]
  },
  {
   "cell_type": "code",
   "execution_count": 42,
   "id": "4d41a12d",
   "metadata": {},
   "outputs": [],
   "source": [
    "p=[\n",
    "    \n",
    "    \n",
    "    [1,2,3],\n",
    "    [5,6,7],\n",
    "    [7,8,9]\n",
    "]"
   ]
  },
  {
   "cell_type": "code",
   "execution_count": 43,
   "id": "6c82c542",
   "metadata": {},
   "outputs": [
    {
     "name": "stdout",
     "output_type": "stream",
     "text": [
      "[[1, 2, 3], [5, 6, 7], [7, 8, 9]]\n"
     ]
    }
   ],
   "source": [
    "print(p)"
   ]
  },
  {
   "cell_type": "code",
   "execution_count": 50,
   "id": "e3c5db3b",
   "metadata": {},
   "outputs": [
    {
     "name": "stdout",
     "output_type": "stream",
     "text": [
      "1\n",
      "2\n",
      "3\n",
      "5\n",
      "6\n",
      "7\n",
      "7\n",
      "8\n",
      "9\n"
     ]
    }
   ],
   "source": [
    "s=0\n",
    "for i in p:\n",
    "    for j in i:\n",
    "        \n",
    "        print(j)\n"
   ]
  },
  {
   "cell_type": "code",
   "execution_count": 45,
   "id": "3a59072c",
   "metadata": {},
   "outputs": [
    {
     "data": {
      "text/plain": [
       "[5, 6, 7]"
      ]
     },
     "execution_count": 45,
     "metadata": {},
     "output_type": "execute_result"
    }
   ],
   "source": [
    "p[1]"
   ]
  },
  {
   "cell_type": "code",
   "execution_count": 46,
   "id": "d22892d1",
   "metadata": {},
   "outputs": [
    {
     "data": {
      "text/plain": [
       "[7, 8, 9]"
      ]
     },
     "execution_count": 46,
     "metadata": {},
     "output_type": "execute_result"
    }
   ],
   "source": [
    "p[2]"
   ]
  },
  {
   "cell_type": "code",
   "execution_count": 51,
   "id": "547ecfcf",
   "metadata": {},
   "outputs": [
    {
     "data": {
      "text/plain": [
       "[[1, 2, 3], [5, 6, 7], [7, 8, 9]]"
      ]
     },
     "execution_count": 51,
     "metadata": {},
     "output_type": "execute_result"
    }
   ],
   "source": [
    "p"
   ]
  },
  {
   "cell_type": "code",
   "execution_count": 52,
   "id": "133e6ac1",
   "metadata": {},
   "outputs": [
    {
     "data": {
      "text/plain": [
       "48"
      ]
     },
     "execution_count": 52,
     "metadata": {},
     "output_type": "execute_result"
    }
   ],
   "source": [
    "sum(map(sum,p))"
   ]
  },
  {
   "cell_type": "code",
   "execution_count": 53,
   "id": "dab5327b",
   "metadata": {},
   "outputs": [],
   "source": [
    "# range ---> 0  to 5000"
   ]
  },
  {
   "cell_type": "code",
   "execution_count": 57,
   "id": "e2b405b8",
   "metadata": {},
   "outputs": [
    {
     "ename": "SyntaxError",
     "evalue": "invalid syntax (<ipython-input-57-e4824fd92679>, line 1)",
     "output_type": "error",
     "traceback": [
      "\u001b[1;36m  File \u001b[1;32m\"<ipython-input-57-e4824fd92679>\"\u001b[1;36m, line \u001b[1;32m1\u001b[0m\n\u001b[1;33m    d=map(lambda x: x if x%5==0 ,range(5000))\u001b[0m\n\u001b[1;37m                                ^\u001b[0m\n\u001b[1;31mSyntaxError\u001b[0m\u001b[1;31m:\u001b[0m invalid syntax\n"
     ]
    }
   ],
   "source": [
    "d=map(lambda x: x if x%5==0 ,range(5000))"
   ]
  },
  {
   "cell_type": "code",
   "execution_count": 56,
   "id": "2e1e10bb",
   "metadata": {},
   "outputs": [
    {
     "name": "stdout",
     "output_type": "stream",
     "text": [
      "0 invalid invalid invalid invalid 5 invalid invalid invalid invalid 10 invalid invalid invalid invalid 15 invalid invalid invalid invalid 20 invalid invalid invalid invalid 25 invalid invalid invalid invalid 30 invalid invalid invalid invalid 35 invalid invalid invalid invalid 40 invalid invalid invalid invalid 45 invalid invalid invalid invalid 50 invalid invalid invalid invalid 55 invalid invalid invalid invalid 60 invalid invalid invalid invalid 65 invalid invalid invalid invalid 70 invalid invalid invalid invalid 75 invalid invalid invalid invalid 80 invalid invalid invalid invalid 85 invalid invalid invalid invalid 90 invalid invalid invalid invalid 95 invalid invalid invalid invalid 100 invalid invalid invalid invalid 105 invalid invalid invalid invalid 110 invalid invalid invalid invalid 115 invalid invalid invalid invalid 120 invalid invalid invalid invalid 125 invalid invalid invalid invalid 130 invalid invalid invalid invalid 135 invalid invalid invalid invalid 140 invalid invalid invalid invalid 145 invalid invalid invalid invalid 150 invalid invalid invalid invalid 155 invalid invalid invalid invalid 160 invalid invalid invalid invalid 165 invalid invalid invalid invalid 170 invalid invalid invalid invalid 175 invalid invalid invalid invalid 180 invalid invalid invalid invalid 185 invalid invalid invalid invalid 190 invalid invalid invalid invalid 195 invalid invalid invalid invalid 200 invalid invalid invalid invalid 205 invalid invalid invalid invalid 210 invalid invalid invalid invalid 215 invalid invalid invalid invalid 220 invalid invalid invalid invalid 225 invalid invalid invalid invalid 230 invalid invalid invalid invalid 235 invalid invalid invalid invalid 240 invalid invalid invalid invalid 245 invalid invalid invalid invalid 250 invalid invalid invalid invalid 255 invalid invalid invalid invalid 260 invalid invalid invalid invalid 265 invalid invalid invalid invalid 270 invalid invalid invalid invalid 275 invalid invalid invalid invalid 280 invalid invalid invalid invalid 285 invalid invalid invalid invalid 290 invalid invalid invalid invalid 295 invalid invalid invalid invalid 300 invalid invalid invalid invalid 305 invalid invalid invalid invalid 310 invalid invalid invalid invalid 315 invalid invalid invalid invalid 320 invalid invalid invalid invalid 325 invalid invalid invalid invalid 330 invalid invalid invalid invalid 335 invalid invalid invalid invalid 340 invalid invalid invalid invalid 345 invalid invalid invalid invalid 350 invalid invalid invalid invalid 355 invalid invalid invalid invalid 360 invalid invalid invalid invalid 365 invalid invalid invalid invalid 370 invalid invalid invalid invalid 375 invalid invalid invalid invalid 380 invalid invalid invalid invalid 385 invalid invalid invalid invalid 390 invalid invalid invalid invalid 395 invalid invalid invalid invalid 400 invalid invalid invalid invalid 405 invalid invalid invalid invalid 410 invalid invalid invalid invalid 415 invalid invalid invalid invalid 420 invalid invalid invalid invalid 425 invalid invalid invalid invalid 430 invalid invalid invalid invalid 435 invalid invalid invalid invalid 440 invalid invalid invalid invalid 445 invalid invalid invalid invalid 450 invalid invalid invalid invalid 455 invalid invalid invalid invalid 460 invalid invalid invalid invalid 465 invalid invalid invalid invalid 470 invalid invalid invalid invalid 475 invalid invalid invalid invalid 480 invalid invalid invalid invalid 485 invalid invalid invalid invalid 490 invalid invalid invalid invalid 495 invalid invalid invalid invalid 500 invalid invalid invalid invalid 505 invalid invalid invalid invalid 510 invalid invalid invalid invalid 515 invalid invalid invalid invalid 520 invalid invalid invalid invalid 525 invalid invalid invalid invalid 530 invalid invalid invalid invalid 535 invalid invalid invalid invalid 540 invalid invalid invalid invalid 545 invalid invalid invalid invalid 550 invalid invalid invalid invalid 555 invalid invalid invalid invalid 560 invalid invalid invalid invalid 565 invalid invalid invalid invalid 570 invalid invalid invalid invalid 575 invalid invalid invalid invalid 580 invalid invalid invalid invalid 585 invalid invalid invalid invalid 590 invalid invalid invalid invalid 595 invalid invalid invalid invalid 600 invalid invalid invalid invalid 605 invalid invalid invalid invalid 610 invalid invalid invalid invalid 615 invalid invalid invalid invalid 620 invalid invalid invalid invalid 625 invalid invalid invalid invalid 630 invalid invalid invalid invalid 635 invalid invalid invalid invalid 640 invalid invalid invalid invalid 645 invalid invalid invalid invalid 650 invalid invalid invalid invalid 655 invalid invalid invalid invalid 660 invalid invalid invalid invalid 665 invalid invalid invalid invalid 670 invalid invalid invalid invalid 675 invalid invalid invalid invalid 680 invalid invalid invalid invalid 685 invalid invalid invalid invalid 690 invalid invalid invalid invalid 695 invalid invalid invalid invalid 700 invalid invalid invalid invalid 705 invalid invalid invalid invalid 710 invalid invalid invalid invalid 715 invalid invalid invalid invalid 720 invalid invalid invalid invalid 725 invalid invalid invalid invalid 730 invalid invalid invalid invalid 735 invalid invalid invalid invalid 740 invalid invalid invalid invalid 745 invalid invalid invalid invalid 750 invalid invalid invalid invalid 755 invalid invalid invalid invalid 760 invalid invalid invalid invalid 765 invalid invalid invalid invalid 770 invalid invalid invalid invalid 775 invalid invalid invalid invalid 780 invalid invalid invalid invalid 785 invalid invalid invalid invalid 790 invalid invalid invalid invalid 795 invalid invalid invalid invalid 800 invalid invalid invalid invalid 805 invalid invalid invalid invalid 810 invalid invalid invalid invalid 815 invalid invalid invalid invalid 820 invalid invalid invalid invalid 825 invalid invalid invalid invalid 830 invalid invalid invalid invalid 835 invalid invalid invalid invalid 840 invalid invalid invalid invalid 845 invalid invalid invalid invalid 850 invalid invalid invalid invalid 855 invalid invalid invalid invalid 860 invalid invalid invalid invalid 865 invalid invalid invalid invalid 870 invalid invalid invalid invalid 875 invalid invalid invalid invalid 880 invalid invalid invalid invalid 885 invalid invalid invalid invalid 890 invalid invalid invalid invalid 895 invalid invalid invalid invalid 900 invalid invalid invalid invalid 905 invalid invalid invalid invalid 910 invalid invalid invalid invalid 915 invalid invalid invalid invalid 920 invalid invalid invalid invalid 925 invalid invalid invalid invalid 930 invalid invalid invalid invalid 935 invalid invalid invalid invalid 940 invalid invalid invalid invalid 945 invalid invalid invalid invalid 950 invalid invalid invalid invalid 955 invalid invalid invalid invalid 960 invalid invalid invalid invalid 965 invalid invalid invalid invalid 970 invalid invalid invalid invalid 975 invalid invalid invalid invalid 980 invalid invalid invalid invalid 985 invalid invalid invalid invalid 990 invalid invalid invalid invalid 995 invalid invalid invalid invalid 1000 invalid invalid invalid invalid 1005 invalid invalid invalid invalid 1010 invalid invalid invalid invalid 1015 invalid invalid invalid invalid 1020 invalid invalid invalid invalid 1025 invalid invalid invalid invalid 1030 invalid invalid invalid invalid 1035 invalid invalid invalid invalid 1040 invalid invalid invalid invalid 1045 invalid invalid invalid invalid 1050 invalid invalid invalid invalid 1055 invalid invalid invalid invalid 1060 invalid invalid invalid invalid 1065 invalid invalid invalid invalid 1070 invalid invalid invalid invalid 1075 invalid invalid invalid invalid 1080 invalid invalid invalid invalid 1085 invalid invalid invalid invalid 1090 invalid invalid invalid invalid 1095 invalid invalid invalid invalid 1100 invalid invalid invalid invalid 1105 invalid invalid invalid invalid 1110 invalid invalid invalid invalid 1115 invalid invalid invalid invalid 1120 invalid invalid invalid invalid 1125 invalid invalid invalid invalid 1130 invalid invalid invalid invalid 1135 invalid invalid invalid invalid 1140 invalid invalid invalid invalid 1145 invalid invalid invalid invalid 1150 invalid invalid invalid invalid 1155 invalid invalid invalid invalid 1160 invalid invalid invalid invalid 1165 invalid invalid invalid invalid 1170 invalid invalid invalid invalid 1175 invalid invalid invalid invalid 1180 invalid invalid invalid invalid 1185 invalid invalid invalid invalid 1190 invalid invalid invalid invalid 1195 invalid invalid invalid invalid 1200 invalid invalid invalid invalid 1205 invalid invalid invalid invalid 1210 invalid invalid invalid invalid 1215 invalid invalid invalid invalid 1220 invalid invalid invalid invalid 1225 invalid invalid invalid invalid 1230 invalid invalid invalid invalid 1235 invalid invalid invalid invalid 1240 invalid invalid invalid invalid 1245 invalid invalid invalid invalid 1250 invalid invalid invalid invalid 1255 invalid invalid invalid invalid 1260 invalid invalid invalid invalid 1265 invalid invalid invalid invalid 1270 invalid invalid invalid invalid 1275 invalid invalid invalid invalid 1280 invalid invalid invalid invalid 1285 invalid invalid invalid invalid 1290 invalid invalid invalid invalid 1295 invalid invalid invalid invalid 1300 invalid invalid invalid invalid 1305 invalid invalid invalid invalid 1310 invalid invalid invalid invalid 1315 invalid invalid invalid invalid 1320 invalid invalid invalid invalid 1325 invalid invalid invalid invalid 1330 invalid invalid invalid invalid 1335 invalid invalid invalid invalid 1340 invalid invalid invalid invalid 1345 invalid invalid invalid invalid 1350 invalid invalid invalid invalid 1355 invalid invalid invalid invalid 1360 invalid invalid invalid invalid 1365 invalid invalid invalid invalid 1370 invalid invalid invalid invalid 1375 invalid invalid invalid invalid 1380 invalid invalid invalid invalid 1385 invalid invalid invalid invalid 1390 invalid invalid invalid invalid 1395 invalid invalid invalid invalid 1400 invalid invalid invalid invalid 1405 invalid invalid invalid invalid 1410 invalid invalid invalid invalid 1415 invalid invalid invalid invalid 1420 invalid invalid invalid invalid 1425 invalid invalid invalid invalid 1430 invalid invalid invalid invalid 1435 invalid invalid invalid invalid 1440 invalid invalid invalid invalid 1445 invalid invalid invalid invalid 1450 invalid invalid invalid invalid 1455 invalid invalid invalid invalid 1460 invalid invalid invalid invalid 1465 invalid invalid invalid invalid 1470 invalid invalid invalid invalid 1475 invalid invalid invalid invalid 1480 invalid invalid invalid invalid 1485 invalid invalid invalid invalid 1490 invalid invalid invalid invalid 1495 invalid invalid invalid invalid 1500 invalid invalid invalid invalid 1505 invalid invalid invalid invalid 1510 invalid invalid invalid invalid 1515 invalid invalid invalid invalid 1520 invalid invalid invalid invalid 1525 invalid invalid invalid invalid 1530 invalid invalid invalid invalid 1535 invalid invalid invalid invalid 1540 invalid invalid invalid invalid 1545 invalid invalid invalid invalid 1550 invalid invalid invalid invalid 1555 invalid invalid invalid invalid 1560 invalid invalid invalid invalid 1565 invalid invalid invalid invalid 1570 invalid invalid invalid invalid 1575 invalid invalid invalid invalid 1580 invalid invalid invalid invalid 1585 invalid invalid invalid invalid 1590 invalid invalid invalid invalid 1595 invalid invalid invalid invalid 1600 invalid invalid invalid invalid 1605 invalid invalid invalid invalid 1610 invalid invalid invalid invalid 1615 invalid invalid invalid invalid 1620 invalid invalid invalid invalid 1625 invalid invalid invalid invalid 1630 invalid invalid invalid invalid 1635 invalid invalid invalid invalid 1640 invalid invalid invalid invalid 1645 invalid invalid invalid invalid 1650 invalid invalid invalid invalid 1655 invalid invalid invalid invalid 1660 invalid invalid invalid invalid 1665 invalid invalid invalid invalid 1670 invalid invalid invalid invalid 1675 invalid invalid invalid invalid 1680 invalid invalid invalid invalid 1685 invalid invalid invalid invalid 1690 invalid invalid invalid invalid 1695 invalid invalid invalid invalid 1700 invalid invalid invalid invalid 1705 invalid invalid invalid invalid 1710 invalid invalid invalid invalid 1715 invalid invalid invalid invalid 1720 invalid invalid invalid invalid 1725 invalid invalid invalid invalid 1730 invalid invalid invalid invalid 1735 invalid invalid invalid invalid 1740 invalid invalid invalid invalid 1745 invalid invalid invalid invalid 1750 invalid invalid invalid invalid 1755 invalid invalid invalid invalid 1760 invalid invalid invalid invalid 1765 invalid invalid invalid invalid 1770 invalid invalid invalid invalid 1775 invalid invalid invalid invalid 1780 invalid invalid invalid invalid 1785 invalid invalid invalid invalid 1790 invalid invalid invalid invalid 1795 invalid invalid invalid invalid 1800 invalid invalid invalid invalid 1805 invalid invalid invalid invalid 1810 invalid invalid invalid invalid 1815 invalid invalid invalid invalid 1820 invalid invalid invalid invalid 1825 invalid invalid invalid invalid 1830 invalid invalid invalid invalid 1835 invalid invalid invalid invalid 1840 invalid invalid invalid invalid 1845 invalid invalid invalid invalid 1850 invalid invalid invalid invalid 1855 invalid invalid invalid invalid 1860 invalid invalid invalid invalid 1865 invalid invalid invalid invalid 1870 invalid invalid invalid invalid 1875 invalid invalid invalid invalid 1880 invalid invalid invalid invalid 1885 invalid invalid invalid invalid 1890 invalid invalid invalid invalid 1895 invalid invalid invalid invalid 1900 invalid invalid invalid invalid 1905 invalid invalid invalid invalid 1910 invalid invalid invalid invalid 1915 invalid invalid invalid invalid 1920 invalid invalid invalid invalid 1925 invalid invalid invalid invalid 1930 invalid invalid invalid invalid 1935 invalid invalid invalid invalid 1940 invalid invalid invalid invalid 1945 invalid invalid invalid invalid 1950 invalid invalid invalid invalid 1955 invalid invalid invalid invalid 1960 invalid invalid invalid invalid 1965 invalid invalid invalid invalid 1970 invalid invalid invalid invalid 1975 invalid invalid invalid invalid 1980 invalid invalid invalid invalid 1985 invalid invalid invalid invalid 1990 invalid invalid invalid invalid 1995 invalid invalid invalid invalid 2000 invalid invalid invalid invalid 2005 invalid invalid invalid invalid 2010 invalid invalid invalid invalid 2015 invalid invalid invalid invalid 2020 invalid invalid invalid invalid 2025 invalid invalid invalid invalid 2030 invalid invalid invalid invalid 2035 invalid invalid invalid invalid 2040 invalid invalid invalid invalid 2045 invalid invalid invalid invalid 2050 invalid invalid invalid invalid 2055 invalid invalid invalid invalid 2060 invalid invalid invalid invalid 2065 invalid invalid invalid invalid 2070 invalid invalid invalid invalid 2075 invalid invalid invalid invalid 2080 invalid invalid invalid invalid 2085 invalid invalid invalid invalid 2090 invalid invalid invalid invalid 2095 invalid invalid invalid invalid 2100 invalid invalid invalid invalid 2105 invalid invalid invalid invalid 2110 invalid invalid invalid invalid 2115 invalid invalid invalid invalid 2120 invalid invalid invalid invalid 2125 invalid invalid invalid invalid 2130 invalid invalid invalid invalid 2135 invalid invalid invalid invalid 2140 invalid"
     ]
    },
    {
     "name": "stdout",
     "output_type": "stream",
     "text": [
      " invalid invalid invalid 2145 invalid invalid invalid invalid 2150 invalid invalid invalid invalid 2155 invalid invalid invalid invalid 2160 invalid invalid invalid invalid 2165 invalid invalid invalid invalid 2170 invalid invalid invalid invalid 2175 invalid invalid invalid invalid 2180 invalid invalid invalid invalid 2185 invalid invalid invalid invalid 2190 invalid invalid invalid invalid 2195 invalid invalid invalid invalid 2200 invalid invalid invalid invalid 2205 invalid invalid invalid invalid 2210 invalid invalid invalid invalid 2215 invalid invalid invalid invalid 2220 invalid invalid invalid invalid 2225 invalid invalid invalid invalid 2230 invalid invalid invalid invalid 2235 invalid invalid invalid invalid 2240 invalid invalid invalid invalid 2245 invalid invalid invalid invalid 2250 invalid invalid invalid invalid 2255 invalid invalid invalid invalid 2260 invalid invalid invalid invalid 2265 invalid invalid invalid invalid 2270 invalid invalid invalid invalid 2275 invalid invalid invalid invalid 2280 invalid invalid invalid invalid 2285 invalid invalid invalid invalid 2290 invalid invalid invalid invalid 2295 invalid invalid invalid invalid 2300 invalid invalid invalid invalid 2305 invalid invalid invalid invalid 2310 invalid invalid invalid invalid 2315 invalid invalid invalid invalid 2320 invalid invalid invalid invalid 2325 invalid invalid invalid invalid 2330 invalid invalid invalid invalid 2335 invalid invalid invalid invalid 2340 invalid invalid invalid invalid 2345 invalid invalid invalid invalid 2350 invalid invalid invalid invalid 2355 invalid invalid invalid invalid 2360 invalid invalid invalid invalid 2365 invalid invalid invalid invalid 2370 invalid invalid invalid invalid 2375 invalid invalid invalid invalid 2380 invalid invalid invalid invalid 2385 invalid invalid invalid invalid 2390 invalid invalid invalid invalid 2395 invalid invalid invalid invalid 2400 invalid invalid invalid invalid 2405 invalid invalid invalid invalid 2410 invalid invalid invalid invalid 2415 invalid invalid invalid invalid 2420 invalid invalid invalid invalid 2425 invalid invalid invalid invalid 2430 invalid invalid invalid invalid 2435 invalid invalid invalid invalid 2440 invalid invalid invalid invalid 2445 invalid invalid invalid invalid 2450 invalid invalid invalid invalid 2455 invalid invalid invalid invalid 2460 invalid invalid invalid invalid 2465 invalid invalid invalid invalid 2470 invalid invalid invalid invalid 2475 invalid invalid invalid invalid 2480 invalid invalid invalid invalid 2485 invalid invalid invalid invalid 2490 invalid invalid invalid invalid 2495 invalid invalid invalid invalid 2500 invalid invalid invalid invalid 2505 invalid invalid invalid invalid 2510 invalid invalid invalid invalid 2515 invalid invalid invalid invalid 2520 invalid invalid invalid invalid 2525 invalid invalid invalid invalid 2530 invalid invalid invalid invalid 2535 invalid invalid invalid invalid 2540 invalid invalid invalid invalid 2545 invalid invalid invalid invalid 2550 invalid invalid invalid invalid 2555 invalid invalid invalid invalid 2560 invalid invalid invalid invalid 2565 invalid invalid invalid invalid 2570 invalid invalid invalid invalid 2575 invalid invalid invalid invalid 2580 invalid invalid invalid invalid 2585 invalid invalid invalid invalid 2590 invalid invalid invalid invalid 2595 invalid invalid invalid invalid 2600 invalid invalid invalid invalid 2605 invalid invalid invalid invalid 2610 invalid invalid invalid invalid 2615 invalid invalid invalid invalid 2620 invalid invalid invalid invalid 2625 invalid invalid invalid invalid 2630 invalid invalid invalid invalid 2635 invalid invalid invalid invalid 2640 invalid invalid invalid invalid 2645 invalid invalid invalid invalid 2650 invalid invalid invalid invalid 2655 invalid invalid invalid invalid 2660 invalid invalid invalid invalid 2665 invalid invalid invalid invalid 2670 invalid invalid invalid invalid 2675 invalid invalid invalid invalid 2680 invalid invalid invalid invalid 2685 invalid invalid invalid invalid 2690 invalid invalid invalid invalid 2695 invalid invalid invalid invalid 2700 invalid invalid invalid invalid 2705 invalid invalid invalid invalid 2710 invalid invalid invalid invalid 2715 invalid invalid invalid invalid 2720 invalid invalid invalid invalid 2725 invalid invalid invalid invalid 2730 invalid invalid invalid invalid 2735 invalid invalid invalid invalid 2740 invalid invalid invalid invalid 2745 invalid invalid invalid invalid 2750 invalid invalid invalid invalid 2755 invalid invalid invalid invalid 2760 invalid invalid invalid invalid 2765 invalid invalid invalid invalid 2770 invalid invalid invalid invalid 2775 invalid invalid invalid invalid 2780 invalid invalid invalid invalid 2785 invalid invalid invalid invalid 2790 invalid invalid invalid invalid 2795 invalid invalid invalid invalid 2800 invalid invalid invalid invalid 2805 invalid invalid invalid invalid 2810 invalid invalid invalid invalid 2815 invalid invalid invalid invalid 2820 invalid invalid invalid invalid 2825 invalid invalid invalid invalid 2830 invalid invalid invalid invalid 2835 invalid invalid invalid invalid 2840 invalid invalid invalid invalid 2845 invalid invalid invalid invalid 2850 invalid invalid invalid invalid 2855 invalid invalid invalid invalid 2860 invalid invalid invalid invalid 2865 invalid invalid invalid invalid 2870 invalid invalid invalid invalid 2875 invalid invalid invalid invalid 2880 invalid invalid invalid invalid 2885 invalid invalid invalid invalid 2890 invalid invalid invalid invalid 2895 invalid invalid invalid invalid 2900 invalid invalid invalid invalid 2905 invalid invalid invalid invalid 2910 invalid invalid invalid invalid 2915 invalid invalid invalid invalid 2920 invalid invalid invalid invalid 2925 invalid invalid invalid invalid 2930 invalid invalid invalid invalid 2935 invalid invalid invalid invalid 2940 invalid invalid invalid invalid 2945 invalid invalid invalid invalid 2950 invalid invalid invalid invalid 2955 invalid invalid invalid invalid 2960 invalid invalid invalid invalid 2965 invalid invalid invalid invalid 2970 invalid invalid invalid invalid 2975 invalid invalid invalid invalid 2980 invalid invalid invalid invalid 2985 invalid invalid invalid invalid 2990 invalid invalid invalid invalid 2995 invalid invalid invalid invalid 3000 invalid invalid invalid invalid 3005 invalid invalid invalid invalid 3010 invalid invalid invalid invalid 3015 invalid invalid invalid invalid 3020 invalid invalid invalid invalid 3025 invalid invalid invalid invalid 3030 invalid invalid invalid invalid 3035 invalid invalid invalid invalid 3040 invalid invalid invalid invalid 3045 invalid invalid invalid invalid 3050 invalid invalid invalid invalid 3055 invalid invalid invalid invalid 3060 invalid invalid invalid invalid 3065 invalid invalid invalid invalid 3070 invalid invalid invalid invalid 3075 invalid invalid invalid invalid 3080 invalid invalid invalid invalid 3085 invalid invalid invalid invalid 3090 invalid invalid invalid invalid 3095 invalid invalid invalid invalid 3100 invalid invalid invalid invalid 3105 invalid invalid invalid invalid 3110 invalid invalid invalid invalid 3115 invalid invalid invalid invalid 3120 invalid invalid invalid invalid 3125 invalid invalid invalid invalid 3130 invalid invalid invalid invalid 3135 invalid invalid invalid invalid 3140 invalid invalid invalid invalid 3145 invalid invalid invalid invalid 3150 invalid invalid invalid invalid 3155 invalid invalid invalid invalid 3160 invalid invalid invalid invalid 3165 invalid invalid invalid invalid 3170 invalid invalid invalid invalid 3175 invalid invalid invalid invalid 3180 invalid invalid invalid invalid 3185 invalid invalid invalid invalid 3190 invalid invalid invalid invalid 3195 invalid invalid invalid invalid 3200 invalid invalid invalid invalid 3205 invalid invalid invalid invalid 3210 invalid invalid invalid invalid 3215 invalid invalid invalid invalid 3220 invalid invalid invalid invalid 3225 invalid invalid invalid invalid 3230 invalid invalid invalid invalid 3235 invalid invalid invalid invalid 3240 invalid invalid invalid invalid 3245 invalid invalid invalid invalid 3250 "
     ]
    },
    {
     "name": "stdout",
     "output_type": "stream",
     "text": [
      "invalid invalid invalid invalid 3255 invalid invalid invalid invalid 3260 invalid invalid invalid invalid 3265 invalid invalid invalid invalid 3270 invalid invalid invalid invalid 3275 invalid invalid invalid invalid 3280 invalid invalid invalid invalid 3285 invalid invalid invalid invalid 3290 invalid invalid invalid invalid 3295 invalid invalid invalid invalid 3300 invalid invalid invalid invalid 3305 invalid invalid invalid invalid 3310 invalid invalid invalid invalid 3315 invalid invalid invalid invalid 3320 invalid invalid invalid invalid 3325 invalid invalid invalid invalid 3330 invalid invalid invalid invalid 3335 invalid invalid invalid invalid 3340 invalid invalid invalid invalid 3345 invalid invalid invalid invalid 3350 invalid invalid invalid invalid 3355 invalid invalid invalid invalid 3360 invalid invalid invalid invalid 3365 invalid invalid invalid invalid 3370 invalid invalid invalid invalid 3375 invalid invalid invalid invalid 3380 invalid invalid invalid invalid 3385 invalid invalid invalid invalid 3390 invalid invalid invalid invalid 3395 invalid invalid invalid invalid 3400 invalid invalid invalid invalid 3405 invalid invalid invalid invalid 3410 invalid invalid invalid invalid 3415 invalid invalid invalid invalid 3420 invalid invalid invalid invalid 3425 invalid invalid invalid invalid 3430 invalid invalid invalid invalid 3435 invalid invalid invalid invalid 3440 invalid invalid invalid invalid 3445 invalid invalid invalid invalid 3450 invalid invalid invalid invalid 3455 invalid invalid invalid invalid 3460 invalid invalid invalid invalid 3465 invalid invalid invalid invalid 3470 invalid invalid invalid invalid 3475 invalid invalid invalid invalid 3480 invalid invalid invalid invalid 3485 invalid invalid invalid invalid 3490 invalid invalid invalid invalid 3495 invalid invalid invalid invalid 3500 invalid invalid invalid invalid 3505 invalid invalid invalid invalid 3510 invalid invalid invalid invalid 3515 invalid invalid invalid invalid 3520 invalid invalid invalid invalid 3525 invalid invalid invalid invalid 3530 invalid invalid invalid invalid 3535 invalid invalid invalid invalid 3540 invalid invalid invalid invalid 3545 invalid invalid invalid invalid 3550 invalid invalid invalid invalid 3555 invalid invalid invalid invalid 3560 invalid invalid invalid invalid 3565 invalid invalid invalid invalid 3570 invalid invalid invalid invalid 3575 invalid invalid invalid invalid 3580 invalid invalid invalid invalid 3585 invalid invalid invalid invalid 3590 invalid invalid invalid invalid 3595 invalid invalid invalid invalid 3600 invalid invalid invalid invalid 3605 invalid invalid invalid invalid 3610 invalid invalid invalid invalid 3615 invalid invalid invalid invalid 3620 invalid invalid invalid invalid 3625 invalid invalid invalid invalid 3630 invalid invalid invalid invalid 3635 invalid invalid invalid invalid 3640 invalid invalid invalid invalid 3645 invalid invalid invalid invalid 3650 invalid invalid invalid invalid 3655 invalid invalid invalid invalid 3660 invalid invalid invalid invalid 3665 invalid invalid invalid invalid 3670 invalid invalid invalid invalid 3675 invalid invalid invalid invalid 3680 invalid invalid invalid invalid 3685 invalid invalid invalid invalid 3690 invalid invalid invalid invalid 3695 invalid invalid invalid invalid 3700 invalid invalid invalid invalid 3705 invalid invalid invalid invalid 3710 invalid invalid invalid invalid 3715 invalid invalid invalid invalid 3720 invalid invalid invalid invalid 3725 invalid invalid invalid invalid 3730 invalid invalid invalid invalid 3735 invalid invalid invalid invalid 3740 invalid invalid invalid invalid 3745 invalid invalid invalid invalid 3750 invalid invalid invalid invalid 3755 invalid invalid invalid invalid 3760 invalid invalid invalid invalid 3765 invalid invalid invalid invalid 3770 invalid invalid invalid invalid 3775 invalid invalid invalid invalid 3780 invalid invalid invalid invalid 3785 invalid invalid invalid invalid 3790 invalid invalid invalid invalid 3795 invalid invalid invalid invalid 3800 invalid invalid invalid invalid 3805 invalid invalid invalid invalid 3810 invalid invalid invalid invalid 3815 invalid invalid invalid invalid 3820 invalid invalid invalid invalid 3825 invalid invalid invalid invalid 3830 invalid invalid invalid invalid 3835 invalid invalid invalid invalid 3840 invalid invalid invalid invalid 3845 invalid invalid invalid invalid 3850 invalid invalid invalid invalid 3855 invalid invalid invalid invalid 3860 invalid invalid invalid invalid 3865 invalid invalid invalid invalid 3870 invalid invalid invalid invalid 3875 invalid invalid invalid invalid 3880 invalid invalid invalid invalid 3885 invalid invalid invalid invalid 3890 invalid invalid invalid invalid 3895 invalid invalid invalid invalid 3900 invalid invalid invalid invalid 3905 invalid invalid invalid invalid 3910 invalid invalid invalid invalid 3915 invalid invalid invalid invalid 3920 invalid invalid invalid invalid 3925 invalid invalid invalid invalid 3930 invalid invalid invalid invalid 3935 invalid invalid invalid invalid 3940 invalid invalid invalid invalid 3945 invalid invalid invalid invalid 3950 invalid invalid invalid invalid 3955 invalid invalid invalid invalid 3960 invalid invalid invalid invalid 3965 invalid invalid invalid invalid 3970 invalid invalid invalid invalid 3975 invalid invalid invalid invalid 3980 invalid invalid invalid invalid 3985 invalid invalid invalid invalid 3990 invalid invalid invalid invalid 3995 invalid invalid invalid invalid 4000 invalid invalid invalid invalid 4005 invalid invalid invalid invalid 4010 invalid invalid invalid invalid 4015 invalid invalid invalid invalid 4020 invalid invalid invalid invalid 4025 invalid invalid invalid invalid 4030 invalid invalid invalid invalid 4035 invalid invalid invalid invalid 4040 invalid invalid invalid invalid 4045 invalid invalid invalid invalid 4050 invalid invalid invalid invalid 4055 invalid invalid invalid invalid 4060 invalid invalid invalid invalid 4065 invalid invalid invalid invalid 4070 invalid invalid invalid invalid 4075 invalid invalid invalid invalid 4080 invalid invalid invalid invalid 4085 invalid invalid invalid invalid 4090 invalid invalid invalid invalid 4095 invalid invalid invalid invalid 4100 invalid invalid invalid invalid 4105 invalid invalid invalid invalid 4110 invalid invalid invalid invalid 4115 invalid invalid invalid invalid 4120 invalid invalid invalid invalid 4125 invalid invalid invalid invalid 4130 invalid invalid invalid invalid 4135 invalid invalid invalid invalid 4140 invalid invalid invalid invalid 4145 invalid invalid invalid invalid 4150 invalid invalid invalid invalid 4155 invalid invalid invalid invalid 4160 invalid invalid invalid invalid 4165 invalid invalid invalid invalid 4170 invalid invalid invalid invalid 4175 invalid invalid invalid invalid 4180 invalid invalid invalid invalid 4185 invalid invalid invalid invalid 4190 invalid invalid invalid invalid 4195 invalid invalid invalid invalid 4200 invalid invalid invalid invalid 4205 invalid invalid invalid invalid 4210 invalid invalid invalid invalid 4215 invalid invalid invalid invalid 4220 invalid invalid invalid invalid 4225 invalid invalid invalid invalid 4230 invalid invalid invalid invalid 4235 invalid invalid invalid invalid 4240 invalid invalid invalid invalid 4245 invalid invalid invalid invalid 4250 invalid invalid invalid invalid 4255 invalid invalid invalid invalid 4260 invalid invalid invalid invalid 4265 invalid invalid invalid invalid 4270 invalid invalid invalid invalid 4275 invalid invalid invalid invalid 4280 invalid invalid invalid invalid 4285 invalid invalid invalid invalid 4290 invalid invalid invalid invalid 4295 invalid invalid invalid invalid 4300 invalid invalid invalid invalid 4305 invalid invalid invalid invalid 4310 invalid invalid invalid invalid 4315 invalid invalid invalid invalid 4320 invalid invalid invalid invalid 4325 invalid invalid invalid invalid 4330 invalid invalid invalid invalid 4335 invalid invalid invalid invalid 4340 invalid invalid invalid invalid 4345 invalid invalid invalid invalid 4350 invalid invalid invalid invalid 4355 invalid invalid invalid invalid 4360 invalid invalid invalid invalid 4365 invalid invalid invalid invalid 4370 invalid invalid invalid invalid 4375 invalid invalid invalid invalid 4380 invalid invalid invalid invalid 4385 invalid invalid invalid invalid 4390 invalid invalid invalid invalid 4395 invalid invalid invalid invalid 4400 invalid invalid invalid invalid 4405 invalid invalid invalid invalid 4410 invalid invalid invalid invalid 4415 invalid invalid invalid invalid 4420 invalid invalid invalid invalid 4425 invalid invalid invalid invalid 4430 invalid invalid invalid invalid 4435 invalid invalid invalid invalid 4440 invalid invalid invalid invalid 4445 invalid invalid invalid invalid 4450 invalid invalid invalid invalid 4455 invalid invalid invalid invalid 4460 invalid invalid invalid invalid 4465 invalid invalid invalid invalid 4470 invalid invalid invalid invalid 4475 invalid invalid invalid invalid 4480 invalid invalid invalid invalid 4485 invalid invalid invalid invalid 4490 invalid invalid invalid invalid 4495 invalid invalid invalid invalid 4500 invalid invalid invalid invalid 4505 invalid invalid invalid invalid 4510 invalid invalid invalid invalid 4515 invalid invalid invalid invalid 4520 invalid invalid invalid invalid 4525 invalid invalid invalid invalid 4530 invalid invalid invalid invalid 4535 invalid invalid invalid invalid 4540 invalid invalid invalid invalid 4545 invalid invalid invalid invalid 4550 invalid invalid invalid invalid 4555 invalid invalid invalid invalid 4560 invalid invalid invalid invalid 4565 invalid invalid invalid invalid 4570 invalid invalid invalid invalid 4575 invalid invalid invalid invalid 4580 invalid invalid invalid invalid 4585 invalid invalid invalid invalid 4590 invalid invalid invalid invalid 4595 invalid invalid invalid invalid 4600 invalid invalid invalid invalid 4605 invalid invalid invalid invalid 4610 invalid invalid invalid invalid 4615 invalid invalid invalid invalid 4620 invalid invalid invalid invalid 4625 invalid invalid invalid invalid 4630 invalid invalid invalid invalid 4635 invalid invalid invalid invalid 4640 invalid invalid invalid invalid 4645 invalid invalid invalid invalid 4650 invalid invalid invalid invalid 4655 invalid invalid invalid invalid 4660 invalid invalid invalid invalid 4665 invalid invalid invalid invalid 4670 invalid invalid invalid invalid 4675 invalid invalid invalid invalid 4680 invalid invalid invalid invalid 4685 invalid invalid invalid invalid 4690 invalid invalid invalid invalid 4695 invalid invalid invalid invalid 4700 invalid invalid invalid invalid 4705 invalid invalid invalid invalid 4710 invalid invalid invalid invalid 4715 invalid invalid invalid invalid 4720 invalid invalid invalid invalid 4725 invalid invalid invalid invalid 4730 invalid invalid invalid invalid 4735 invalid invalid invalid invalid 4740 invalid invalid invalid invalid 4745 invalid invalid invalid invalid 4750 invalid invalid invalid invalid 4755 invalid invalid invalid invalid 4760 invalid invalid invalid invalid 4765 invalid invalid invalid invalid 4770 invalid invalid invalid invalid 4775 invalid invalid invalid invalid 4780 invalid invalid invalid invalid 4785 invalid invalid invalid invalid 4790 invalid invalid invalid invalid 4795 invalid invalid invalid invalid 4800 invalid invalid invalid invalid 4805 invalid invalid invalid invalid 4810 invalid invalid invalid invalid 4815 invalid invalid invalid invalid 4820 invalid invalid invalid invalid 4825 invalid invalid invalid invalid 4830 invalid invalid invalid invalid 4835 invalid invalid invalid invalid 4840 invalid invalid invalid invalid 4845 invalid invalid invalid invalid 4850 invalid invalid invalid invalid 4855 invalid invalid invalid invalid 4860 invalid invalid invalid invalid 4865 invalid invalid invalid invalid 4870 invalid invalid invalid invalid 4875 invalid invalid invalid invalid 4880 invalid invalid invalid invalid 4885 invalid invalid invalid invalid 4890 invalid invalid invalid invalid 4895 invalid invalid invalid invalid 4900 invalid invalid invalid invalid 4905 invalid invalid"
     ]
    },
    {
     "name": "stdout",
     "output_type": "stream",
     "text": [
      " invalid invalid 4910 invalid invalid invalid invalid 4915 invalid invalid invalid invalid 4920 invalid invalid invalid invalid 4925 invalid invalid invalid invalid 4930 invalid invalid invalid invalid 4935 invalid invalid invalid invalid 4940 invalid invalid invalid invalid 4945 invalid invalid invalid invalid 4950 invalid invalid invalid invalid 4955 invalid invalid invalid invalid 4960 invalid invalid invalid invalid 4965 invalid invalid invalid invalid 4970 invalid invalid invalid invalid 4975 invalid invalid invalid invalid 4980 invalid invalid invalid invalid 4985 invalid invalid invalid invalid 4990 invalid invalid invalid invalid 4995 invalid invalid invalid invalid\n"
     ]
    }
   ],
   "source": [
    "print(*d)"
   ]
  },
  {
   "cell_type": "code",
   "execution_count": null,
   "id": "728af03e",
   "metadata": {},
   "outputs": [],
   "source": []
  }
 ],
 "metadata": {
  "kernelspec": {
   "display_name": "Python 3",
   "language": "python",
   "name": "python3"
  },
  "language_info": {
   "codemirror_mode": {
    "name": "ipython",
    "version": 3
   },
   "file_extension": ".py",
   "mimetype": "text/x-python",
   "name": "python",
   "nbconvert_exporter": "python",
   "pygments_lexer": "ipython3",
   "version": "3.6.4"
  }
 },
 "nbformat": 4,
 "nbformat_minor": 5
}
