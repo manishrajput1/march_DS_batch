{
 "cells": [
  {
   "cell_type": "code",
   "execution_count": 1,
   "id": "59002a6b",
   "metadata": {},
   "outputs": [],
   "source": [
    "l=[1,3,'manish','shan','jeet']"
   ]
  },
  {
   "cell_type": "code",
   "execution_count": 2,
   "id": "30cd536b",
   "metadata": {},
   "outputs": [
    {
     "data": {
      "text/plain": [
       "list"
      ]
     },
     "execution_count": 2,
     "metadata": {},
     "output_type": "execute_result"
    }
   ],
   "source": [
    "type(l)"
   ]
  },
  {
   "cell_type": "code",
   "execution_count": 3,
   "id": "771e3762",
   "metadata": {},
   "outputs": [
    {
     "name": "stdout",
     "output_type": "stream",
     "text": [
      "['__add__', '__class__', '__contains__', '__delattr__', '__delitem__', '__dir__', '__doc__', '__eq__', '__format__', '__ge__', '__getattribute__', '__getitem__', '__gt__', '__hash__', '__iadd__', '__imul__', '__init__', '__init_subclass__', '__iter__', '__le__', '__len__', '__lt__', '__mul__', '__ne__', '__new__', '__reduce__', '__reduce_ex__', '__repr__', '__reversed__', '__rmul__', '__setattr__', '__setitem__', '__sizeof__', '__str__', '__subclasshook__', 'append', 'clear', 'copy', 'count', 'extend', 'index', 'insert', 'pop', 'remove', 'reverse', 'sort']\n"
     ]
    }
   ],
   "source": [
    "print(dir(list))"
   ]
  },
  {
   "cell_type": "code",
   "execution_count": 4,
   "id": "7fd0f5a7",
   "metadata": {},
   "outputs": [],
   "source": [
    "# append ---> last \n",
    "# insert (index, element) ---> \n",
    "# extend "
   ]
  },
  {
   "cell_type": "code",
   "execution_count": 5,
   "id": "1aed61bf",
   "metadata": {},
   "outputs": [],
   "source": [
    "# remove element from elemnt\n",
    "# pop\n",
    "# remove\n",
    "# del"
   ]
  },
  {
   "cell_type": "code",
   "execution_count": 6,
   "id": "ee71f5b7",
   "metadata": {},
   "outputs": [
    {
     "data": {
      "text/plain": [
       "[1, 3, 'manish', 'shan', 'jeet']"
      ]
     },
     "execution_count": 6,
     "metadata": {},
     "output_type": "execute_result"
    }
   ],
   "source": [
    "l"
   ]
  },
  {
   "cell_type": "code",
   "execution_count": 7,
   "id": "ff95766c",
   "metadata": {},
   "outputs": [
    {
     "data": {
      "text/plain": [
       "'jeet'"
      ]
     },
     "execution_count": 7,
     "metadata": {},
     "output_type": "execute_result"
    }
   ],
   "source": [
    "l.pop()"
   ]
  },
  {
   "cell_type": "code",
   "execution_count": 8,
   "id": "6b56a15f",
   "metadata": {},
   "outputs": [
    {
     "data": {
      "text/plain": [
       "[1, 3, 'manish', 'shan']"
      ]
     },
     "execution_count": 8,
     "metadata": {},
     "output_type": "execute_result"
    }
   ],
   "source": [
    "l"
   ]
  },
  {
   "cell_type": "code",
   "execution_count": 9,
   "id": "bfe7b4d1",
   "metadata": {},
   "outputs": [
    {
     "data": {
      "text/plain": [
       "'manish'"
      ]
     },
     "execution_count": 9,
     "metadata": {},
     "output_type": "execute_result"
    }
   ],
   "source": [
    "l.pop(2)"
   ]
  },
  {
   "cell_type": "code",
   "execution_count": 10,
   "id": "0efff20c",
   "metadata": {},
   "outputs": [
    {
     "data": {
      "text/plain": [
       "[1, 3, 'shan']"
      ]
     },
     "execution_count": 10,
     "metadata": {},
     "output_type": "execute_result"
    }
   ],
   "source": [
    "l"
   ]
  },
  {
   "cell_type": "code",
   "execution_count": 11,
   "id": "093b0a67",
   "metadata": {},
   "outputs": [],
   "source": [
    "l.append('jaipur')"
   ]
  },
  {
   "cell_type": "code",
   "execution_count": 21,
   "id": "9952f4ce",
   "metadata": {},
   "outputs": [],
   "source": [
    "l.extend(['khan','neha','ruhul','rohit'])"
   ]
  },
  {
   "cell_type": "code",
   "execution_count": 13,
   "id": "589bc26a",
   "metadata": {},
   "outputs": [
    {
     "data": {
      "text/plain": [
       "[1, 3, 'shan', 'jaipur', 'khan', 'neha', 'ruhul', 'rohit']"
      ]
     },
     "execution_count": 13,
     "metadata": {},
     "output_type": "execute_result"
    }
   ],
   "source": [
    "l"
   ]
  },
  {
   "cell_type": "code",
   "execution_count": 14,
   "id": "b7f368c6",
   "metadata": {},
   "outputs": [],
   "source": [
    "l.remove('neha')"
   ]
  },
  {
   "cell_type": "code",
   "execution_count": 15,
   "id": "b9713fa9",
   "metadata": {},
   "outputs": [
    {
     "data": {
      "text/plain": [
       "[1, 3, 'shan', 'jaipur', 'khan', 'ruhul', 'rohit']"
      ]
     },
     "execution_count": 15,
     "metadata": {},
     "output_type": "execute_result"
    }
   ],
   "source": [
    "l"
   ]
  },
  {
   "cell_type": "code",
   "execution_count": 16,
   "id": "5bde2ab9",
   "metadata": {},
   "outputs": [],
   "source": [
    "del l[2:6]"
   ]
  },
  {
   "cell_type": "code",
   "execution_count": 17,
   "id": "cca84754",
   "metadata": {},
   "outputs": [
    {
     "data": {
      "text/plain": [
       "[1, 3, 'rohit']"
      ]
     },
     "execution_count": 17,
     "metadata": {},
     "output_type": "execute_result"
    }
   ],
   "source": [
    "l"
   ]
  },
  {
   "cell_type": "code",
   "execution_count": 18,
   "id": "94f7f1a9",
   "metadata": {},
   "outputs": [],
   "source": [
    "# clear\n",
    "# copy\n",
    "# sort\n",
    "# reverve\n",
    "# count\n",
    "# index"
   ]
  },
  {
   "cell_type": "code",
   "execution_count": 19,
   "id": "f6009940",
   "metadata": {},
   "outputs": [],
   "source": [
    "# copy----> shallow \n",
    "# deep copy"
   ]
  },
  {
   "cell_type": "code",
   "execution_count": 22,
   "id": "86c3a6b2",
   "metadata": {},
   "outputs": [
    {
     "data": {
      "text/plain": [
       "[1, 3, 'rohit', 'khan', 'neha', 'ruhul', 'rohit']"
      ]
     },
     "execution_count": 22,
     "metadata": {},
     "output_type": "execute_result"
    }
   ],
   "source": [
    "l"
   ]
  },
  {
   "cell_type": "code",
   "execution_count": 23,
   "id": "b1757abc",
   "metadata": {},
   "outputs": [],
   "source": [
    "m=l"
   ]
  },
  {
   "cell_type": "code",
   "execution_count": 24,
   "id": "46a78acf",
   "metadata": {},
   "outputs": [
    {
     "data": {
      "text/plain": [
       "[1, 3, 'rohit', 'khan', 'neha', 'ruhul', 'rohit']"
      ]
     },
     "execution_count": 24,
     "metadata": {},
     "output_type": "execute_result"
    }
   ],
   "source": [
    "l"
   ]
  },
  {
   "cell_type": "code",
   "execution_count": 25,
   "id": "ff2caad4",
   "metadata": {},
   "outputs": [
    {
     "data": {
      "text/plain": [
       "[1, 3, 'rohit', 'khan', 'neha', 'ruhul', 'rohit']"
      ]
     },
     "execution_count": 25,
     "metadata": {},
     "output_type": "execute_result"
    }
   ],
   "source": [
    "m"
   ]
  },
  {
   "cell_type": "code",
   "execution_count": 26,
   "id": "6edeb0a4",
   "metadata": {},
   "outputs": [
    {
     "data": {
      "text/plain": [
       "'rohit'"
      ]
     },
     "execution_count": 26,
     "metadata": {},
     "output_type": "execute_result"
    }
   ],
   "source": [
    "l.pop()"
   ]
  },
  {
   "cell_type": "code",
   "execution_count": 27,
   "id": "e574cdbb",
   "metadata": {},
   "outputs": [
    {
     "data": {
      "text/plain": [
       "[1, 3, 'rohit', 'khan', 'neha', 'ruhul']"
      ]
     },
     "execution_count": 27,
     "metadata": {},
     "output_type": "execute_result"
    }
   ],
   "source": [
    "l"
   ]
  },
  {
   "cell_type": "code",
   "execution_count": 28,
   "id": "e4c34bba",
   "metadata": {},
   "outputs": [
    {
     "data": {
      "text/plain": [
       "[1, 3, 'rohit', 'khan', 'neha', 'ruhul']"
      ]
     },
     "execution_count": 28,
     "metadata": {},
     "output_type": "execute_result"
    }
   ],
   "source": [
    "m"
   ]
  },
  {
   "cell_type": "code",
   "execution_count": 29,
   "id": "7eb86e64",
   "metadata": {},
   "outputs": [],
   "source": [
    "deep=l.copy()"
   ]
  },
  {
   "cell_type": "code",
   "execution_count": 30,
   "id": "7e323813",
   "metadata": {},
   "outputs": [
    {
     "data": {
      "text/plain": [
       "[1, 3, 'rohit', 'khan', 'neha', 'ruhul']"
      ]
     },
     "execution_count": 30,
     "metadata": {},
     "output_type": "execute_result"
    }
   ],
   "source": [
    "deep"
   ]
  },
  {
   "cell_type": "code",
   "execution_count": 31,
   "id": "ffa729a8",
   "metadata": {},
   "outputs": [
    {
     "data": {
      "text/plain": [
       "[1, 3, 'rohit', 'khan', 'neha', 'ruhul']"
      ]
     },
     "execution_count": 31,
     "metadata": {},
     "output_type": "execute_result"
    }
   ],
   "source": [
    "l"
   ]
  },
  {
   "cell_type": "code",
   "execution_count": 32,
   "id": "71e3b6d5",
   "metadata": {},
   "outputs": [
    {
     "data": {
      "text/plain": [
       "[1, 3, 'rohit', 'khan', 'neha', 'ruhul']"
      ]
     },
     "execution_count": 32,
     "metadata": {},
     "output_type": "execute_result"
    }
   ],
   "source": [
    "m"
   ]
  },
  {
   "cell_type": "code",
   "execution_count": 33,
   "id": "9daee1be",
   "metadata": {},
   "outputs": [],
   "source": [
    "l.append('jaipur')"
   ]
  },
  {
   "cell_type": "code",
   "execution_count": 34,
   "id": "2968bd52",
   "metadata": {},
   "outputs": [
    {
     "data": {
      "text/plain": [
       "[1, 3, 'rohit', 'khan', 'neha', 'ruhul', 'jaipur']"
      ]
     },
     "execution_count": 34,
     "metadata": {},
     "output_type": "execute_result"
    }
   ],
   "source": [
    "l"
   ]
  },
  {
   "cell_type": "code",
   "execution_count": 35,
   "id": "8a05ed96",
   "metadata": {},
   "outputs": [
    {
     "data": {
      "text/plain": [
       "[1, 3, 'rohit', 'khan', 'neha', 'ruhul', 'jaipur']"
      ]
     },
     "execution_count": 35,
     "metadata": {},
     "output_type": "execute_result"
    }
   ],
   "source": [
    "m"
   ]
  },
  {
   "cell_type": "code",
   "execution_count": 36,
   "id": "cfe011c3",
   "metadata": {},
   "outputs": [
    {
     "data": {
      "text/plain": [
       "[1, 3, 'rohit', 'khan', 'neha', 'ruhul']"
      ]
     },
     "execution_count": 36,
     "metadata": {},
     "output_type": "execute_result"
    }
   ],
   "source": [
    "deep"
   ]
  },
  {
   "cell_type": "code",
   "execution_count": 38,
   "id": "4e6ce09d",
   "metadata": {},
   "outputs": [],
   "source": [
    "l.clear()"
   ]
  },
  {
   "cell_type": "code",
   "execution_count": 39,
   "id": "e9f08853",
   "metadata": {},
   "outputs": [
    {
     "data": {
      "text/plain": [
       "[]"
      ]
     },
     "execution_count": 39,
     "metadata": {},
     "output_type": "execute_result"
    }
   ],
   "source": [
    "l"
   ]
  },
  {
   "cell_type": "code",
   "execution_count": 40,
   "id": "68b7a222",
   "metadata": {},
   "outputs": [
    {
     "data": {
      "text/plain": [
       "[]"
      ]
     },
     "execution_count": 40,
     "metadata": {},
     "output_type": "execute_result"
    }
   ],
   "source": [
    "m"
   ]
  },
  {
   "cell_type": "code",
   "execution_count": 41,
   "id": "0f812bec",
   "metadata": {},
   "outputs": [
    {
     "data": {
      "text/plain": [
       "[1, 3, 'rohit', 'khan', 'neha', 'ruhul']"
      ]
     },
     "execution_count": 41,
     "metadata": {},
     "output_type": "execute_result"
    }
   ],
   "source": [
    "deep"
   ]
  },
  {
   "cell_type": "code",
   "execution_count": 43,
   "id": "fb286b2f",
   "metadata": {},
   "outputs": [],
   "source": [
    "del deep[:2]"
   ]
  },
  {
   "cell_type": "code",
   "execution_count": 44,
   "id": "9d8d9dd9",
   "metadata": {},
   "outputs": [
    {
     "data": {
      "text/plain": [
       "['rohit', 'khan', 'neha', 'ruhul']"
      ]
     },
     "execution_count": 44,
     "metadata": {},
     "output_type": "execute_result"
    }
   ],
   "source": [
    "deep"
   ]
  },
  {
   "cell_type": "code",
   "execution_count": 49,
   "id": "63908b3d",
   "metadata": {},
   "outputs": [],
   "source": [
    "deep.sort(reverse=True)"
   ]
  },
  {
   "cell_type": "code",
   "execution_count": 50,
   "id": "04d545f6",
   "metadata": {},
   "outputs": [
    {
     "data": {
      "text/plain": [
       "['ruhul', 'rohit', 'neha', 'khan']"
      ]
     },
     "execution_count": 50,
     "metadata": {},
     "output_type": "execute_result"
    }
   ],
   "source": [
    "deep"
   ]
  },
  {
   "cell_type": "code",
   "execution_count": 47,
   "id": "ba07ac6e",
   "metadata": {},
   "outputs": [],
   "source": [
    "deep.reverse()"
   ]
  },
  {
   "cell_type": "code",
   "execution_count": 48,
   "id": "f042dc45",
   "metadata": {},
   "outputs": [
    {
     "data": {
      "text/plain": [
       "['ruhul', 'rohit', 'neha', 'khan']"
      ]
     },
     "execution_count": 48,
     "metadata": {},
     "output_type": "execute_result"
    }
   ],
   "source": [
    "deep"
   ]
  },
  {
   "cell_type": "code",
   "execution_count": 52,
   "id": "20ed0a31",
   "metadata": {},
   "outputs": [
    {
     "data": {
      "text/plain": [
       "1"
      ]
     },
     "execution_count": 52,
     "metadata": {},
     "output_type": "execute_result"
    }
   ],
   "source": [
    "deep.count('rohit')"
   ]
  },
  {
   "cell_type": "code",
   "execution_count": 54,
   "id": "bdf98595",
   "metadata": {},
   "outputs": [],
   "source": [
    "deep.append('rohit')"
   ]
  },
  {
   "cell_type": "code",
   "execution_count": 55,
   "id": "3f1f57d3",
   "metadata": {},
   "outputs": [
    {
     "data": {
      "text/plain": [
       "['ruhul', 'rohit', 'neha', 'khan', 'rohot', 'rohit']"
      ]
     },
     "execution_count": 55,
     "metadata": {},
     "output_type": "execute_result"
    }
   ],
   "source": [
    "deep"
   ]
  },
  {
   "cell_type": "code",
   "execution_count": 56,
   "id": "6df30e66",
   "metadata": {},
   "outputs": [
    {
     "data": {
      "text/plain": [
       "2"
      ]
     },
     "execution_count": 56,
     "metadata": {},
     "output_type": "execute_result"
    }
   ],
   "source": [
    "deep.count('rohit')"
   ]
  },
  {
   "cell_type": "code",
   "execution_count": 57,
   "id": "6b962ea4",
   "metadata": {},
   "outputs": [
    {
     "data": {
      "text/plain": [
       "'ruhul'"
      ]
     },
     "execution_count": 57,
     "metadata": {},
     "output_type": "execute_result"
    }
   ],
   "source": [
    "deep[0]"
   ]
  },
  {
   "cell_type": "code",
   "execution_count": 59,
   "id": "b7a9001b",
   "metadata": {},
   "outputs": [
    {
     "data": {
      "text/plain": [
       "'neha'"
      ]
     },
     "execution_count": 59,
     "metadata": {},
     "output_type": "execute_result"
    }
   ],
   "source": [
    "deep[2]"
   ]
  },
  {
   "cell_type": "code",
   "execution_count": 60,
   "id": "56bdaf65",
   "metadata": {},
   "outputs": [
    {
     "data": {
      "text/plain": [
       "['ruhul', 'rohit', 'neha', 'khan', 'rohot', 'rohit']"
      ]
     },
     "execution_count": 60,
     "metadata": {},
     "output_type": "execute_result"
    }
   ],
   "source": [
    "deep"
   ]
  },
  {
   "cell_type": "code",
   "execution_count": 61,
   "id": "ccff8fc2",
   "metadata": {},
   "outputs": [
    {
     "data": {
      "text/plain": [
       "'rohit'"
      ]
     },
     "execution_count": 61,
     "metadata": {},
     "output_type": "execute_result"
    }
   ],
   "source": [
    "deep[-1]"
   ]
  },
  {
   "cell_type": "markdown",
   "id": "7e9b2959",
   "metadata": {},
   "source": [
    "# Tuple"
   ]
  },
  {
   "cell_type": "code",
   "execution_count": 62,
   "id": "fe42e0a2",
   "metadata": {},
   "outputs": [],
   "source": [
    "# list ----> mutable \n",
    "# tuple ---> immutable \n",
    "# "
   ]
  },
  {
   "cell_type": "code",
   "execution_count": 63,
   "id": "824ac1da",
   "metadata": {},
   "outputs": [
    {
     "data": {
      "text/plain": [
       "['ruhul', 'rohit', 'neha', 'khan', 'rohot', 'rohit']"
      ]
     },
     "execution_count": 63,
     "metadata": {},
     "output_type": "execute_result"
    }
   ],
   "source": [
    "deep"
   ]
  },
  {
   "cell_type": "code",
   "execution_count": 64,
   "id": "b60c8140",
   "metadata": {},
   "outputs": [],
   "source": [
    "tup=('ruhul', 'rohit', 'neha', 'khan', 'rohot', 'rohit')"
   ]
  },
  {
   "cell_type": "code",
   "execution_count": 65,
   "id": "c56540ef",
   "metadata": {},
   "outputs": [
    {
     "data": {
      "text/plain": [
       "['ruhul', 'rohit', 'neha', 'khan', 'rohot', 'rohit']"
      ]
     },
     "execution_count": 65,
     "metadata": {},
     "output_type": "execute_result"
    }
   ],
   "source": [
    "deep"
   ]
  },
  {
   "cell_type": "code",
   "execution_count": 66,
   "id": "b384682c",
   "metadata": {},
   "outputs": [
    {
     "data": {
      "text/plain": [
       "('ruhul', 'rohit', 'neha', 'khan', 'rohot', 'rohit')"
      ]
     },
     "execution_count": 66,
     "metadata": {},
     "output_type": "execute_result"
    }
   ],
   "source": [
    "tup"
   ]
  },
  {
   "cell_type": "code",
   "execution_count": 67,
   "id": "84418b78",
   "metadata": {},
   "outputs": [
    {
     "data": {
      "text/plain": [
       "44"
      ]
     },
     "execution_count": 67,
     "metadata": {},
     "output_type": "execute_result"
    }
   ],
   "source": [
    "deep.__sizeof__()"
   ]
  },
  {
   "cell_type": "code",
   "execution_count": 68,
   "id": "22ee6321",
   "metadata": {},
   "outputs": [
    {
     "data": {
      "text/plain": [
       "36"
      ]
     },
     "execution_count": 68,
     "metadata": {},
     "output_type": "execute_result"
    }
   ],
   "source": [
    "tup.__sizeof__()"
   ]
  },
  {
   "cell_type": "code",
   "execution_count": 69,
   "id": "a8409735",
   "metadata": {},
   "outputs": [
    {
     "name": "stdout",
     "output_type": "stream",
     "text": [
      "['__add__', '__class__', '__contains__', '__delattr__', '__dir__', '__doc__', '__eq__', '__format__', '__ge__', '__getattribute__', '__getitem__', '__getnewargs__', '__gt__', '__hash__', '__init__', '__init_subclass__', '__iter__', '__le__', '__len__', '__lt__', '__mul__', '__ne__', '__new__', '__reduce__', '__reduce_ex__', '__repr__', '__rmul__', '__setattr__', '__sizeof__', '__str__', '__subclasshook__', 'count', 'index']\n"
     ]
    }
   ],
   "source": [
    "print(dir(tuple))"
   ]
  },
  {
   "cell_type": "code",
   "execution_count": 70,
   "id": "1f61f711",
   "metadata": {},
   "outputs": [
    {
     "data": {
      "text/plain": [
       "('ruhul', 'rohit', 'neha', 'khan', 'rohot', 'rohit')"
      ]
     },
     "execution_count": 70,
     "metadata": {},
     "output_type": "execute_result"
    }
   ],
   "source": [
    "tup"
   ]
  },
  {
   "cell_type": "code",
   "execution_count": 71,
   "id": "6b81a9ca",
   "metadata": {},
   "outputs": [
    {
     "ename": "AttributeError",
     "evalue": "'tuple' object has no attribute 'append'",
     "output_type": "error",
     "traceback": [
      "\u001b[1;31m---------------------------------------------------------------------------\u001b[0m",
      "\u001b[1;31mAttributeError\u001b[0m                            Traceback (most recent call last)",
      "\u001b[1;32m<ipython-input-71-0a7171e9c60b>\u001b[0m in \u001b[0;36m<module>\u001b[1;34m\u001b[0m\n\u001b[1;32m----> 1\u001b[1;33m \u001b[0mtup\u001b[0m\u001b[1;33m.\u001b[0m\u001b[0mappend\u001b[0m\u001b[1;33m(\u001b[0m\u001b[1;34m'jaipur'\u001b[0m\u001b[1;33m)\u001b[0m\u001b[1;33m\u001b[0m\u001b[0m\n\u001b[0m",
      "\u001b[1;31mAttributeError\u001b[0m: 'tuple' object has no attribute 'append'"
     ]
    }
   ],
   "source": [
    "tup.append('jaipur')"
   ]
  },
  {
   "cell_type": "code",
   "execution_count": 72,
   "id": "51846ab3",
   "metadata": {},
   "outputs": [
    {
     "data": {
      "text/plain": [
       "('ruhul', 'rohit', 'neha', 'khan', 'rohot', 'rohit')"
      ]
     },
     "execution_count": 72,
     "metadata": {},
     "output_type": "execute_result"
    }
   ],
   "source": [
    "tup"
   ]
  },
  {
   "cell_type": "code",
   "execution_count": 73,
   "id": "694a7af9",
   "metadata": {},
   "outputs": [
    {
     "data": {
      "text/plain": [
       "2"
      ]
     },
     "execution_count": 73,
     "metadata": {},
     "output_type": "execute_result"
    }
   ],
   "source": [
    "tup.count('rohit')"
   ]
  },
  {
   "cell_type": "code",
   "execution_count": 74,
   "id": "d7daf3a7",
   "metadata": {},
   "outputs": [
    {
     "data": {
      "text/plain": [
       "'ruhul'"
      ]
     },
     "execution_count": 74,
     "metadata": {},
     "output_type": "execute_result"
    }
   ],
   "source": [
    "tup[0]"
   ]
  },
  {
   "cell_type": "code",
   "execution_count": 75,
   "id": "0593018f",
   "metadata": {},
   "outputs": [
    {
     "data": {
      "text/plain": [
       "'rohit'"
      ]
     },
     "execution_count": 75,
     "metadata": {},
     "output_type": "execute_result"
    }
   ],
   "source": [
    "tup[1]"
   ]
  },
  {
   "cell_type": "markdown",
   "id": "7a9b7931",
   "metadata": {},
   "source": [
    "# Dict "
   ]
  },
  {
   "cell_type": "markdown",
   "id": "4c53dfd8",
   "metadata": {},
   "source": [
    "                            key:valaue\n",
    "                            key1:value1\n",
    "                            key2:value1\n",
    "                            \n",
    "                           keys must be unique\n",
    "                           \n",
    "                           keys must be  immutable (string, number ,tuple)\n",
    "                           values can be mutable or immutable "
   ]
  },
  {
   "cell_type": "code",
   "execution_count": 86,
   "id": "1de09ded",
   "metadata": {},
   "outputs": [],
   "source": [
    "d={'name':'manish','age':24,'address':'jaipur',(10,20):['number','int'],'name':'shan'}"
   ]
  },
  {
   "cell_type": "code",
   "execution_count": 87,
   "id": "a7dfa256",
   "metadata": {},
   "outputs": [
    {
     "data": {
      "text/plain": [
       "{'name': 'shan', 'age': 24, 'address': 'jaipur', (10, 20): ['number', 'int']}"
      ]
     },
     "execution_count": 87,
     "metadata": {},
     "output_type": "execute_result"
    }
   ],
   "source": [
    "d"
   ]
  },
  {
   "cell_type": "code",
   "execution_count": 78,
   "id": "134109ab",
   "metadata": {},
   "outputs": [
    {
     "data": {
      "text/plain": [
       "dict"
      ]
     },
     "execution_count": 78,
     "metadata": {},
     "output_type": "execute_result"
    }
   ],
   "source": [
    "type(d)"
   ]
  },
  {
   "cell_type": "code",
   "execution_count": 88,
   "id": "771affdd",
   "metadata": {},
   "outputs": [
    {
     "data": {
      "text/plain": [
       "{'name': 'shan', 'age': 24, 'address': 'jaipur', (10, 20): ['number', 'int']}"
      ]
     },
     "execution_count": 88,
     "metadata": {},
     "output_type": "execute_result"
    }
   ],
   "source": [
    "d"
   ]
  },
  {
   "cell_type": "code",
   "execution_count": 89,
   "id": "c4c89a82",
   "metadata": {},
   "outputs": [
    {
     "data": {
      "text/plain": [
       "24"
      ]
     },
     "execution_count": 89,
     "metadata": {},
     "output_type": "execute_result"
    }
   ],
   "source": [
    "d.get('age')"
   ]
  },
  {
   "cell_type": "code",
   "execution_count": 90,
   "id": "659019ca",
   "metadata": {},
   "outputs": [
    {
     "data": {
      "text/plain": [
       "'jaipur'"
      ]
     },
     "execution_count": 90,
     "metadata": {},
     "output_type": "execute_result"
    }
   ],
   "source": [
    "d.get('address')"
   ]
  },
  {
   "cell_type": "code",
   "execution_count": 91,
   "id": "b830dd96",
   "metadata": {},
   "outputs": [],
   "source": [
    "d.get('jaipur')"
   ]
  },
  {
   "cell_type": "code",
   "execution_count": 92,
   "id": "e3c4afff",
   "metadata": {},
   "outputs": [
    {
     "data": {
      "text/plain": [
       "{'name': 'shan', 'age': 24, 'address': 'jaipur', (10, 20): ['number', 'int']}"
      ]
     },
     "execution_count": 92,
     "metadata": {},
     "output_type": "execute_result"
    }
   ],
   "source": [
    "d"
   ]
  },
  {
   "cell_type": "code",
   "execution_count": 93,
   "id": "ce19502a",
   "metadata": {},
   "outputs": [
    {
     "data": {
      "text/plain": [
       "dict_keys(['name', 'age', 'address', (10, 20)])"
      ]
     },
     "execution_count": 93,
     "metadata": {},
     "output_type": "execute_result"
    }
   ],
   "source": [
    "d.keys()"
   ]
  },
  {
   "cell_type": "code",
   "execution_count": 94,
   "id": "f11c4805",
   "metadata": {},
   "outputs": [
    {
     "data": {
      "text/plain": [
       "dict_values(['shan', 24, 'jaipur', ['number', 'int']])"
      ]
     },
     "execution_count": 94,
     "metadata": {},
     "output_type": "execute_result"
    }
   ],
   "source": [
    "d.values()"
   ]
  },
  {
   "cell_type": "code",
   "execution_count": 95,
   "id": "cf2044b0",
   "metadata": {},
   "outputs": [
    {
     "data": {
      "text/plain": [
       "dict_items([('name', 'shan'), ('age', 24), ('address', 'jaipur'), ((10, 20), ['number', 'int'])])"
      ]
     },
     "execution_count": 95,
     "metadata": {},
     "output_type": "execute_result"
    }
   ],
   "source": [
    "d.items()"
   ]
  },
  {
   "cell_type": "code",
   "execution_count": 96,
   "id": "9aa7f790",
   "metadata": {},
   "outputs": [
    {
     "data": {
      "text/plain": [
       "{'name': 'shan', 'age': 24, 'address': 'jaipur', (10, 20): ['number', 'int']}"
      ]
     },
     "execution_count": 96,
     "metadata": {},
     "output_type": "execute_result"
    }
   ],
   "source": [
    "d"
   ]
  },
  {
   "cell_type": "code",
   "execution_count": 97,
   "id": "1eacac1a",
   "metadata": {},
   "outputs": [
    {
     "data": {
      "text/plain": [
       "'shan'"
      ]
     },
     "execution_count": 97,
     "metadata": {},
     "output_type": "execute_result"
    }
   ],
   "source": [
    "d.get('name')"
   ]
  },
  {
   "cell_type": "code",
   "execution_count": 98,
   "id": "17d774c4",
   "metadata": {},
   "outputs": [],
   "source": [
    "# add pair or remove pair"
   ]
  },
  {
   "cell_type": "code",
   "execution_count": 99,
   "id": "9e0a08c3",
   "metadata": {},
   "outputs": [],
   "source": [
    "# setdefault\n",
    "# []"
   ]
  },
  {
   "cell_type": "code",
   "execution_count": 100,
   "id": "88ecc0f5",
   "metadata": {},
   "outputs": [
    {
     "data": {
      "text/plain": [
       "{'name': 'shan', 'age': 24, 'address': 'jaipur', (10, 20): ['number', 'int']}"
      ]
     },
     "execution_count": 100,
     "metadata": {},
     "output_type": "execute_result"
    }
   ],
   "source": [
    "d"
   ]
  },
  {
   "cell_type": "code",
   "execution_count": 101,
   "id": "d88353fa",
   "metadata": {},
   "outputs": [
    {
     "data": {
      "text/plain": [
       "'rmann123'"
      ]
     },
     "execution_count": 101,
     "metadata": {},
     "output_type": "execute_result"
    }
   ],
   "source": [
    "d.setdefault('empid','rmann123')"
   ]
  },
  {
   "cell_type": "code",
   "execution_count": 102,
   "id": "1feab166",
   "metadata": {},
   "outputs": [
    {
     "name": "stdout",
     "output_type": "stream",
     "text": [
      "{'name': 'shan', 'age': 24, 'address': 'jaipur', (10, 20): ['number', 'int'], 'empid': 'rmann123'}\n"
     ]
    }
   ],
   "source": [
    "print(d)"
   ]
  },
  {
   "cell_type": "code",
   "execution_count": 104,
   "id": "1b81c51a",
   "metadata": {},
   "outputs": [
    {
     "data": {
      "text/plain": [
       "'shan'"
      ]
     },
     "execution_count": 104,
     "metadata": {},
     "output_type": "execute_result"
    }
   ],
   "source": [
    "d['name']"
   ]
  },
  {
   "cell_type": "code",
   "execution_count": 105,
   "id": "960c759d",
   "metadata": {},
   "outputs": [
    {
     "data": {
      "text/plain": [
       "'rmann123'"
      ]
     },
     "execution_count": 105,
     "metadata": {},
     "output_type": "execute_result"
    }
   ],
   "source": [
    "d['empid']"
   ]
  },
  {
   "cell_type": "code",
   "execution_count": 107,
   "id": "b57a7880",
   "metadata": {},
   "outputs": [],
   "source": [
    "d[10]='something'"
   ]
  },
  {
   "cell_type": "code",
   "execution_count": 110,
   "id": "da2524a0",
   "metadata": {},
   "outputs": [
    {
     "data": {
      "text/plain": [
       "{'name': 'shan',\n",
       " 'age': 24,\n",
       " 'address': 'jaipur',\n",
       " (10, 20): ['number', 'int'],\n",
       " 'empid': 'rmann123',\n",
       " 10: 'something'}"
      ]
     },
     "execution_count": 110,
     "metadata": {},
     "output_type": "execute_result"
    }
   ],
   "source": [
    "d"
   ]
  },
  {
   "cell_type": "code",
   "execution_count": 111,
   "id": "96e97e96",
   "metadata": {},
   "outputs": [],
   "source": [
    "bankdata={\n",
    "    1001:{'name':'manish','bal':50000,'age':24,'ph_no':9166319212},\n",
    "    1002:{'name':'shan','bal':60000,'age':40,'ph_no':99988787},\n",
    "    1003:{'name':'rahul','bal':70000,'age':80,'ph_no':90088778}\n",
    "}"
   ]
  },
  {
   "cell_type": "code",
   "execution_count": 112,
   "id": "b5ff908d",
   "metadata": {},
   "outputs": [
    {
     "name": "stdout",
     "output_type": "stream",
     "text": [
      "{1001: {'name': 'manish', 'bal': 50000, 'age': 24, 'ph_no': 9166319212}, 1002: {'name': 'shan', 'bal': 60000, 'age': 40, 'ph_no': 99988787}, 1003: {'name': 'rahul', 'bal': 70000, 'age': 80, 'ph_no': 90088778}}\n"
     ]
    }
   ],
   "source": [
    "print(bankdata)"
   ]
  },
  {
   "cell_type": "code",
   "execution_count": null,
   "id": "96e07aa3",
   "metadata": {},
   "outputs": [],
   "source": [
    "\n"
   ]
  },
  {
   "cell_type": "code",
   "execution_count": null,
   "id": "c8ae483c",
   "metadata": {},
   "outputs": [],
   "source": []
  },
  {
   "cell_type": "code",
   "execution_count": null,
   "id": "2f9b0897",
   "metadata": {},
   "outputs": [],
   "source": []
  },
  {
   "cell_type": "code",
   "execution_count": null,
   "id": "c086595f",
   "metadata": {},
   "outputs": [],
   "source": []
  },
  {
   "cell_type": "code",
   "execution_count": null,
   "id": "4df31ffe",
   "metadata": {},
   "outputs": [],
   "source": []
  },
  {
   "cell_type": "code",
   "execution_count": null,
   "id": "bc1a3626",
   "metadata": {},
   "outputs": [],
   "source": []
  },
  {
   "cell_type": "code",
   "execution_count": 119,
   "id": "9f1e0634",
   "metadata": {},
   "outputs": [
    {
     "data": {
      "text/plain": [
       "{1001: {'name': 'manish', 'bal': 50000, 'age': 24, 'ph_no': 9166319212},\n",
       " 1002: {'name': 'shan', 'bal': 60000, 'age': 40, 'ph_no': 99988787},\n",
       " 1003: {'name': 'rahul', 'bal': 70000, 'age': 80, 'ph_no': 90088778}}"
      ]
     },
     "execution_count": 119,
     "metadata": {},
     "output_type": "execute_result"
    }
   ],
   "source": [
    "bankdata"
   ]
  },
  {
   "cell_type": "code",
   "execution_count": 120,
   "id": "8365aa5c",
   "metadata": {},
   "outputs": [
    {
     "name": "stdout",
     "output_type": "stream",
     "text": [
      "['__class__', '__contains__', '__delattr__', '__delitem__', '__dir__', '__doc__', '__eq__', '__format__', '__ge__', '__getattribute__', '__getitem__', '__gt__', '__hash__', '__init__', '__init_subclass__', '__iter__', '__le__', '__len__', '__lt__', '__ne__', '__new__', '__reduce__', '__reduce_ex__', '__repr__', '__setattr__', '__setitem__', '__sizeof__', '__str__', '__subclasshook__', 'clear', 'copy', 'fromkeys', 'get', 'items', 'keys', 'pop', 'popitem', 'setdefault', 'update', 'values']\n"
     ]
    }
   ],
   "source": [
    "print(dir(dict))"
   ]
  },
  {
   "cell_type": "code",
   "execution_count": 123,
   "id": "d2050dd4",
   "metadata": {},
   "outputs": [],
   "source": [
    "bankdata[1001]['ph_no']=8949745332"
   ]
  },
  {
   "cell_type": "code",
   "execution_count": 124,
   "id": "6b79559a",
   "metadata": {},
   "outputs": [
    {
     "data": {
      "text/plain": [
       "{'name': 'manish', 'bal': 50000, 'age': 24, 'ph_no': 8949745332}"
      ]
     },
     "execution_count": 124,
     "metadata": {},
     "output_type": "execute_result"
    }
   ],
   "source": [
    "bankdata[1001]"
   ]
  },
  {
   "cell_type": "code",
   "execution_count": 125,
   "id": "948c1906",
   "metadata": {},
   "outputs": [
    {
     "data": {
      "text/plain": [
       "{'name': 'shan',\n",
       " 'age': 24,\n",
       " 'address': 'jaipur',\n",
       " (10, 20): ['number', 'int'],\n",
       " 'empid': 'rmann123',\n",
       " 10: 'something'}"
      ]
     },
     "execution_count": 125,
     "metadata": {},
     "output_type": "execute_result"
    }
   ],
   "source": [
    "d"
   ]
  },
  {
   "cell_type": "code",
   "execution_count": 127,
   "id": "2c55d38f",
   "metadata": {},
   "outputs": [],
   "source": [
    "d['name']='amit'"
   ]
  },
  {
   "cell_type": "code",
   "execution_count": 128,
   "id": "6bd788b9",
   "metadata": {},
   "outputs": [
    {
     "data": {
      "text/plain": [
       "{'name': 'amit',\n",
       " 'age': 24,\n",
       " 'address': 'jaipur',\n",
       " (10, 20): ['number', 'int'],\n",
       " 'empid': 'rmann123',\n",
       " 10: 'something'}"
      ]
     },
     "execution_count": 128,
     "metadata": {},
     "output_type": "execute_result"
    }
   ],
   "source": [
    "d"
   ]
  },
  {
   "cell_type": "code",
   "execution_count": 129,
   "id": "dba7ada8",
   "metadata": {},
   "outputs": [],
   "source": [
    "# pop\n",
    "# popitem"
   ]
  },
  {
   "cell_type": "code",
   "execution_count": 130,
   "id": "cd44ca88",
   "metadata": {},
   "outputs": [
    {
     "data": {
      "text/plain": [
       "'rmann123'"
      ]
     },
     "execution_count": 130,
     "metadata": {},
     "output_type": "execute_result"
    }
   ],
   "source": [
    "d.pop('empid')"
   ]
  },
  {
   "cell_type": "code",
   "execution_count": 131,
   "id": "c9a5d2b3",
   "metadata": {},
   "outputs": [
    {
     "data": {
      "text/plain": [
       "{'name': 'amit',\n",
       " 'age': 24,\n",
       " 'address': 'jaipur',\n",
       " (10, 20): ['number', 'int'],\n",
       " 10: 'something'}"
      ]
     },
     "execution_count": 131,
     "metadata": {},
     "output_type": "execute_result"
    }
   ],
   "source": [
    "d"
   ]
  },
  {
   "cell_type": "code",
   "execution_count": 132,
   "id": "ea32b94e",
   "metadata": {},
   "outputs": [
    {
     "data": {
      "text/plain": [
       "(10, 'something')"
      ]
     },
     "execution_count": 132,
     "metadata": {},
     "output_type": "execute_result"
    }
   ],
   "source": [
    "d.popitem()"
   ]
  },
  {
   "cell_type": "code",
   "execution_count": 133,
   "id": "b57b4745",
   "metadata": {},
   "outputs": [
    {
     "data": {
      "text/plain": [
       "{'name': 'amit', 'age': 24, 'address': 'jaipur', (10, 20): ['number', 'int']}"
      ]
     },
     "execution_count": 133,
     "metadata": {},
     "output_type": "execute_result"
    }
   ],
   "source": [
    "d"
   ]
  },
  {
   "cell_type": "code",
   "execution_count": 134,
   "id": "b98b5bdb",
   "metadata": {},
   "outputs": [],
   "source": [
    "r=d.copy()"
   ]
  },
  {
   "cell_type": "code",
   "execution_count": 135,
   "id": "805a8a94",
   "metadata": {},
   "outputs": [
    {
     "data": {
      "text/plain": [
       "{'name': 'amit', 'age': 24, 'address': 'jaipur', (10, 20): ['number', 'int']}"
      ]
     },
     "execution_count": 135,
     "metadata": {},
     "output_type": "execute_result"
    }
   ],
   "source": [
    "r"
   ]
  },
  {
   "cell_type": "code",
   "execution_count": 136,
   "id": "2bf0b444",
   "metadata": {},
   "outputs": [
    {
     "data": {
      "text/plain": [
       "{'name': 'amit', 'age': 24, 'address': 'jaipur', (10, 20): ['number', 'int']}"
      ]
     },
     "execution_count": 136,
     "metadata": {},
     "output_type": "execute_result"
    }
   ],
   "source": [
    "d"
   ]
  },
  {
   "cell_type": "code",
   "execution_count": 137,
   "id": "18aeaa15",
   "metadata": {},
   "outputs": [],
   "source": [
    "r.clear()"
   ]
  },
  {
   "cell_type": "code",
   "execution_count": 138,
   "id": "9be49cad",
   "metadata": {},
   "outputs": [
    {
     "data": {
      "text/plain": [
       "{}"
      ]
     },
     "execution_count": 138,
     "metadata": {},
     "output_type": "execute_result"
    }
   ],
   "source": [
    "r"
   ]
  },
  {
   "cell_type": "markdown",
   "id": "daa7c076",
   "metadata": {},
   "source": [
    "#  Set"
   ]
  },
  {
   "cell_type": "code",
   "execution_count": null,
   "id": "6ff8cc08",
   "metadata": {},
   "outputs": [],
   "source": []
  }
 ],
 "metadata": {
  "kernelspec": {
   "display_name": "Python 3",
   "language": "python",
   "name": "python3"
  },
  "language_info": {
   "codemirror_mode": {
    "name": "ipython",
    "version": 3
   },
   "file_extension": ".py",
   "mimetype": "text/x-python",
   "name": "python",
   "nbconvert_exporter": "python",
   "pygments_lexer": "ipython3",
   "version": "3.6.4"
  }
 },
 "nbformat": 4,
 "nbformat_minor": 5
}
