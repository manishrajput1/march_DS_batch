{
 "cells": [
  {
   "cell_type": "code",
   "execution_count": 1,
   "id": "f657fb09",
   "metadata": {},
   "outputs": [],
   "source": [
    "import my_module"
   ]
  },
  {
   "cell_type": "code",
   "execution_count": 2,
   "id": "d42ef16c",
   "metadata": {},
   "outputs": [
    {
     "name": "stdout",
     "output_type": "stream",
     "text": [
      "['OTP', '__builtins__', '__cached__', '__doc__', '__file__', '__loader__', '__name__', '__package__', '__spec__', 'mail', 'my_range']\n"
     ]
    }
   ],
   "source": [
    "print(dir(my_module))"
   ]
  },
  {
   "cell_type": "code",
   "execution_count": 3,
   "id": "509c402b",
   "metadata": {},
   "outputs": [
    {
     "data": {
      "text/plain": [
       "'7960'"
      ]
     },
     "execution_count": 3,
     "metadata": {},
     "output_type": "execute_result"
    }
   ],
   "source": [
    "my_module.OTP()"
   ]
  },
  {
   "cell_type": "code",
   "execution_count": 4,
   "id": "af39ce9c",
   "metadata": {},
   "outputs": [
    {
     "name": "stdout",
     "output_type": "stream",
     "text": [
      "Enter reciever email: rmanish911@gmail.com\n",
      "Enter msg: hello manish how are you? \n",
      "mail sent\n"
     ]
    }
   ],
   "source": [
    "my_module.mail()"
   ]
  },
  {
   "cell_type": "code",
   "execution_count": null,
   "id": "a533aad1",
   "metadata": {},
   "outputs": [],
   "source": []
  }
 ],
 "metadata": {
  "kernelspec": {
   "display_name": "Python 3",
   "language": "python",
   "name": "python3"
  },
  "language_info": {
   "codemirror_mode": {
    "name": "ipython",
    "version": 3
   },
   "file_extension": ".py",
   "mimetype": "text/x-python",
   "name": "python",
   "nbconvert_exporter": "python",
   "pygments_lexer": "ipython3",
   "version": "3.6.4"
  }
 },
 "nbformat": 4,
 "nbformat_minor": 5
}
