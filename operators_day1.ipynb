{
 "cells": [
  {
   "cell_type": "markdown",
   "id": "ad16af48",
   "metadata": {},
   "source": [
    "                Operators\n",
    "                1. Arithmatic\n",
    "                2. assignment\n",
    "                3. comparision\n",
    "                4. membership\n",
    "                5. Logical\n",
    "                6. indentity "
   ]
  },
  {
   "cell_type": "markdown",
   "id": "67541c93",
   "metadata": {},
   "source": [
    "## Arithmatic"
   ]
  },
  {
   "cell_type": "markdown",
   "id": "54d1c308",
   "metadata": {},
   "source": [
    "                  Addition (+) ---> numbers , string , list , tuple\n",
    "                  sub(-) ---> numbers \n",
    "                  mul(*) ---> numbers , (int,string)\n",
    "                  div (/) --> numbers \n",
    "                  floordivision(//) --> numbers \n",
    "                  modulus(%) ---> numbers \n",
    "                  power(**)---> numbers \n",
    "                  "
   ]
  },
  {
   "cell_type": "code",
   "execution_count": 16,
   "id": "772d29f7",
   "metadata": {},
   "outputs": [
    {
     "name": "stdout",
     "output_type": "stream",
     "text": [
      "Enter value of a: 46.7\n"
     ]
    }
   ],
   "source": [
    "a=float(input('Enter value of a: '))   # string"
   ]
  },
  {
   "cell_type": "code",
   "execution_count": 17,
   "id": "67d4a11b",
   "metadata": {},
   "outputs": [
    {
     "data": {
      "text/plain": [
       "46.7"
      ]
     },
     "execution_count": 17,
     "metadata": {},
     "output_type": "execute_result"
    }
   ],
   "source": [
    "a"
   ]
  },
  {
   "cell_type": "code",
   "execution_count": 18,
   "id": "2f788230",
   "metadata": {},
   "outputs": [
    {
     "data": {
      "text/plain": [
       "float"
      ]
     },
     "execution_count": 18,
     "metadata": {},
     "output_type": "execute_result"
    }
   ],
   "source": [
    "type(a)"
   ]
  },
  {
   "cell_type": "code",
   "execution_count": 20,
   "id": "79452fe2",
   "metadata": {},
   "outputs": [
    {
     "name": "stdout",
     "output_type": "stream",
     "text": [
      "Enter value of a : 40.5\n",
      "Enter value of b: 24.8\n",
      "addition of a and b :  65.3\n"
     ]
    }
   ],
   "source": [
    "a=float(input('Enter value of a : '))\n",
    "b=float(input('Enter value of b: '))\n",
    "print('addition of a and b : ',a+b)"
   ]
  },
  {
   "cell_type": "code",
   "execution_count": 22,
   "id": "0df38691",
   "metadata": {},
   "outputs": [
    {
     "name": "stdout",
     "output_type": "stream",
     "text": [
      "Enter value of a : manish\n",
      "Enter value of b: rajput\n",
      "addition of a and b :  manishrajput\n"
     ]
    }
   ],
   "source": [
    "a=(input('Enter value of a : '))\n",
    "b=(input('Enter value of b: '))\n",
    "print('addition of a and b : ',a+b)"
   ]
  },
  {
   "cell_type": "code",
   "execution_count": 29,
   "id": "c7ccde29",
   "metadata": {},
   "outputs": [],
   "source": [
    "l=[1,2,3]"
   ]
  },
  {
   "cell_type": "code",
   "execution_count": 30,
   "id": "5038aa4e",
   "metadata": {},
   "outputs": [],
   "source": [
    "l1=[5,6,7]"
   ]
  },
  {
   "cell_type": "code",
   "execution_count": 39,
   "id": "13b748a0",
   "metadata": {},
   "outputs": [
    {
     "data": {
      "text/plain": [
       "[1, 2, 3, 5, 6, 7]"
      ]
     },
     "execution_count": 39,
     "metadata": {},
     "output_type": "execute_result"
    }
   ],
   "source": [
    "l+l1"
   ]
  },
  {
   "cell_type": "code",
   "execution_count": 40,
   "id": "b4c15578",
   "metadata": {},
   "outputs": [
    {
     "data": {
      "text/plain": [
       "5"
      ]
     },
     "execution_count": 40,
     "metadata": {},
     "output_type": "execute_result"
    }
   ],
   "source": [
    "10-5"
   ]
  },
  {
   "cell_type": "code",
   "execution_count": 42,
   "id": "350e6a36",
   "metadata": {},
   "outputs": [
    {
     "data": {
      "text/plain": [
       "17.1"
      ]
     },
     "execution_count": 42,
     "metadata": {},
     "output_type": "execute_result"
    }
   ],
   "source": [
    "25-7.9"
   ]
  },
  {
   "cell_type": "code",
   "execution_count": 43,
   "id": "f58eb6c2",
   "metadata": {},
   "outputs": [
    {
     "ename": "TypeError",
     "evalue": "unsupported operand type(s) for -: 'str' and 'str'",
     "output_type": "error",
     "traceback": [
      "\u001b[1;31m---------------------------------------------------------------------------\u001b[0m",
      "\u001b[1;31mTypeError\u001b[0m                                 Traceback (most recent call last)",
      "\u001b[1;32m<ipython-input-43-5248a82f7bd4>\u001b[0m in \u001b[0;36m<module>\u001b[1;34m\u001b[0m\n\u001b[1;32m----> 1\u001b[1;33m \u001b[1;34m'manish'\u001b[0m\u001b[1;33m-\u001b[0m\u001b[1;34m'manish'\u001b[0m\u001b[1;33m\u001b[0m\u001b[0m\n\u001b[0m",
      "\u001b[1;31mTypeError\u001b[0m: unsupported operand type(s) for -: 'str' and 'str'"
     ]
    }
   ],
   "source": [
    "'manish'-'manish'"
   ]
  },
  {
   "cell_type": "code",
   "execution_count": 44,
   "id": "e2ec0bef",
   "metadata": {},
   "outputs": [],
   "source": [
    "# mul(*)"
   ]
  },
  {
   "cell_type": "code",
   "execution_count": 45,
   "id": "b0e76831",
   "metadata": {},
   "outputs": [
    {
     "data": {
      "text/plain": [
       "100"
      ]
     },
     "execution_count": 45,
     "metadata": {},
     "output_type": "execute_result"
    }
   ],
   "source": [
    "10*10"
   ]
  },
  {
   "cell_type": "code",
   "execution_count": 46,
   "id": "bf4fd73d",
   "metadata": {},
   "outputs": [
    {
     "data": {
      "text/plain": [
       "100"
      ]
     },
     "execution_count": 46,
     "metadata": {},
     "output_type": "execute_result"
    }
   ],
   "source": [
    "20*5"
   ]
  },
  {
   "cell_type": "code",
   "execution_count": 47,
   "id": "f8982a5c",
   "metadata": {},
   "outputs": [
    {
     "data": {
      "text/plain": [
       "90"
      ]
     },
     "execution_count": 47,
     "metadata": {},
     "output_type": "execute_result"
    }
   ],
   "source": [
    "30*3"
   ]
  },
  {
   "cell_type": "code",
   "execution_count": 48,
   "id": "f64cf4bf",
   "metadata": {},
   "outputs": [
    {
     "data": {
      "text/plain": [
       "67.19999999999999"
      ]
     },
     "execution_count": 48,
     "metadata": {},
     "output_type": "execute_result"
    }
   ],
   "source": [
    "12*5.6"
   ]
  },
  {
   "cell_type": "code",
   "execution_count": 49,
   "id": "6cffbc18",
   "metadata": {},
   "outputs": [
    {
     "data": {
      "text/plain": [
       "'manishmanishmanishmanishmanish'"
      ]
     },
     "execution_count": 49,
     "metadata": {},
     "output_type": "execute_result"
    }
   ],
   "source": [
    "5*'manish'"
   ]
  },
  {
   "cell_type": "code",
   "execution_count": 50,
   "id": "2a1e5649",
   "metadata": {},
   "outputs": [
    {
     "data": {
      "text/plain": [
       "'**********'"
      ]
     },
     "execution_count": 50,
     "metadata": {},
     "output_type": "execute_result"
    }
   ],
   "source": [
    "'*'*10"
   ]
  },
  {
   "cell_type": "code",
   "execution_count": 54,
   "id": "d9a3af43",
   "metadata": {},
   "outputs": [
    {
     "data": {
      "text/plain": [
       "'**********'"
      ]
     },
     "execution_count": 54,
     "metadata": {},
     "output_type": "execute_result"
    }
   ],
   "source": [
    "'*'*10"
   ]
  },
  {
   "cell_type": "code",
   "execution_count": 55,
   "id": "23b89caf",
   "metadata": {},
   "outputs": [
    {
     "data": {
      "text/plain": [
       "'86868686868686868686868686868686868686868686868686868686868686868686868686868686868686868686868686868686868686868686868686868686868686868686868686868686868686868686868686868686868686868686868686868686'"
      ]
     },
     "execution_count": 55,
     "metadata": {},
     "output_type": "execute_result"
    }
   ],
   "source": [
    "'86'*100"
   ]
  },
  {
   "cell_type": "code",
   "execution_count": 56,
   "id": "d946a4e9",
   "metadata": {},
   "outputs": [],
   "source": [
    "# modulus(%)"
   ]
  },
  {
   "cell_type": "code",
   "execution_count": 57,
   "id": "fa941fbe",
   "metadata": {},
   "outputs": [
    {
     "data": {
      "text/plain": [
       "1"
      ]
     },
     "execution_count": 57,
     "metadata": {},
     "output_type": "execute_result"
    }
   ],
   "source": [
    "10%3"
   ]
  },
  {
   "cell_type": "code",
   "execution_count": 58,
   "id": "7fe70f4c",
   "metadata": {},
   "outputs": [
    {
     "data": {
      "text/plain": [
       "2"
      ]
     },
     "execution_count": 58,
     "metadata": {},
     "output_type": "execute_result"
    }
   ],
   "source": [
    "20%3"
   ]
  },
  {
   "cell_type": "code",
   "execution_count": 59,
   "id": "4c2c36d1",
   "metadata": {},
   "outputs": [],
   "source": [
    "# div(/) | floor division(//)"
   ]
  },
  {
   "cell_type": "code",
   "execution_count": 60,
   "id": "cfaf7053",
   "metadata": {},
   "outputs": [
    {
     "data": {
      "text/plain": [
       "3.3333333333333335"
      ]
     },
     "execution_count": 60,
     "metadata": {},
     "output_type": "execute_result"
    }
   ],
   "source": [
    "10/3"
   ]
  },
  {
   "cell_type": "code",
   "execution_count": 61,
   "id": "1fadc74c",
   "metadata": {},
   "outputs": [
    {
     "data": {
      "text/plain": [
       "4.0"
      ]
     },
     "execution_count": 61,
     "metadata": {},
     "output_type": "execute_result"
    }
   ],
   "source": [
    "20/5"
   ]
  },
  {
   "cell_type": "code",
   "execution_count": 62,
   "id": "d2b993a4",
   "metadata": {},
   "outputs": [
    {
     "data": {
      "text/plain": [
       "3"
      ]
     },
     "execution_count": 62,
     "metadata": {},
     "output_type": "execute_result"
    }
   ],
   "source": [
    "10//3"
   ]
  },
  {
   "cell_type": "code",
   "execution_count": 63,
   "id": "2b5b90d9",
   "metadata": {},
   "outputs": [],
   "source": [
    "# power (**)"
   ]
  },
  {
   "cell_type": "code",
   "execution_count": 64,
   "id": "c4366ca4",
   "metadata": {},
   "outputs": [
    {
     "data": {
      "text/plain": [
       "16"
      ]
     },
     "execution_count": 64,
     "metadata": {},
     "output_type": "execute_result"
    }
   ],
   "source": [
    "2**4"
   ]
  },
  {
   "cell_type": "code",
   "execution_count": 65,
   "id": "ee8549b9",
   "metadata": {},
   "outputs": [
    {
     "data": {
      "text/plain": [
       "3125"
      ]
     },
     "execution_count": 65,
     "metadata": {},
     "output_type": "execute_result"
    }
   ],
   "source": [
    "5**5"
   ]
  },
  {
   "cell_type": "code",
   "execution_count": 66,
   "id": "fe4e20a6",
   "metadata": {},
   "outputs": [
    {
     "data": {
      "text/plain": [
       "4"
      ]
     },
     "execution_count": 66,
     "metadata": {},
     "output_type": "execute_result"
    }
   ],
   "source": [
    "2**2"
   ]
  },
  {
   "cell_type": "code",
   "execution_count": 67,
   "id": "65cf683e",
   "metadata": {},
   "outputs": [
    {
     "data": {
      "text/plain": [
       "8"
      ]
     },
     "execution_count": 67,
     "metadata": {},
     "output_type": "execute_result"
    }
   ],
   "source": [
    "2**3"
   ]
  },
  {
   "cell_type": "code",
   "execution_count": 69,
   "id": "2a1698b0",
   "metadata": {},
   "outputs": [],
   "source": [
    "# assignment\n",
    "# =\n",
    "# +=\n",
    "# -=\n",
    "# /=\n",
    "# *="
   ]
  },
  {
   "cell_type": "code",
   "execution_count": 70,
   "id": "c8b1a8d5",
   "metadata": {},
   "outputs": [],
   "source": [
    "a=100"
   ]
  },
  {
   "cell_type": "code",
   "execution_count": 71,
   "id": "0bd50570",
   "metadata": {},
   "outputs": [
    {
     "data": {
      "text/plain": [
       "100"
      ]
     },
     "execution_count": 71,
     "metadata": {},
     "output_type": "execute_result"
    }
   ],
   "source": [
    "a"
   ]
  },
  {
   "cell_type": "code",
   "execution_count": 72,
   "id": "558132a4",
   "metadata": {},
   "outputs": [],
   "source": [
    "a+=50"
   ]
  },
  {
   "cell_type": "code",
   "execution_count": 73,
   "id": "32dd2c55",
   "metadata": {},
   "outputs": [
    {
     "data": {
      "text/plain": [
       "150"
      ]
     },
     "execution_count": 73,
     "metadata": {},
     "output_type": "execute_result"
    }
   ],
   "source": [
    "a"
   ]
  },
  {
   "cell_type": "code",
   "execution_count": 74,
   "id": "48e3340b",
   "metadata": {},
   "outputs": [],
   "source": [
    "a-=40"
   ]
  },
  {
   "cell_type": "code",
   "execution_count": 75,
   "id": "54be02b0",
   "metadata": {},
   "outputs": [
    {
     "data": {
      "text/plain": [
       "110"
      ]
     },
     "execution_count": 75,
     "metadata": {},
     "output_type": "execute_result"
    }
   ],
   "source": [
    "a"
   ]
  },
  {
   "cell_type": "code",
   "execution_count": 76,
   "id": "e8d42633",
   "metadata": {},
   "outputs": [],
   "source": [
    "a*=2"
   ]
  },
  {
   "cell_type": "code",
   "execution_count": 77,
   "id": "b61227aa",
   "metadata": {},
   "outputs": [
    {
     "data": {
      "text/plain": [
       "220"
      ]
     },
     "execution_count": 77,
     "metadata": {},
     "output_type": "execute_result"
    }
   ],
   "source": [
    "a"
   ]
  },
  {
   "cell_type": "code",
   "execution_count": 80,
   "id": "bbcd764a",
   "metadata": {},
   "outputs": [],
   "source": [
    "a+=80"
   ]
  },
  {
   "cell_type": "code",
   "execution_count": 81,
   "id": "306b9e06",
   "metadata": {},
   "outputs": [
    {
     "data": {
      "text/plain": [
       "300"
      ]
     },
     "execution_count": 81,
     "metadata": {},
     "output_type": "execute_result"
    }
   ],
   "source": [
    "a"
   ]
  },
  {
   "cell_type": "code",
   "execution_count": 82,
   "id": "c364bcc5",
   "metadata": {},
   "outputs": [],
   "source": [
    "a**=4"
   ]
  },
  {
   "cell_type": "code",
   "execution_count": 83,
   "id": "2781451b",
   "metadata": {},
   "outputs": [
    {
     "data": {
      "text/plain": [
       "8100000000"
      ]
     },
     "execution_count": 83,
     "metadata": {},
     "output_type": "execute_result"
    }
   ],
   "source": [
    "a"
   ]
  },
  {
   "cell_type": "code",
   "execution_count": 84,
   "id": "b819abc4",
   "metadata": {},
   "outputs": [],
   "source": [
    "# comparision return True or False\n",
    "# <\n",
    "# >\n",
    "# <=\n",
    "# >=\n",
    "# ==\n",
    "# !="
   ]
  },
  {
   "cell_type": "code",
   "execution_count": 85,
   "id": "5b2ce601",
   "metadata": {},
   "outputs": [],
   "source": [
    "b=30"
   ]
  },
  {
   "cell_type": "code",
   "execution_count": 86,
   "id": "a92d6d57",
   "metadata": {},
   "outputs": [
    {
     "data": {
      "text/plain": [
       "False"
      ]
     },
     "execution_count": 86,
     "metadata": {},
     "output_type": "execute_result"
    }
   ],
   "source": [
    "b<25"
   ]
  },
  {
   "cell_type": "code",
   "execution_count": 87,
   "id": "92a96b06",
   "metadata": {},
   "outputs": [
    {
     "data": {
      "text/plain": [
       "False"
      ]
     },
     "execution_count": 87,
     "metadata": {},
     "output_type": "execute_result"
    }
   ],
   "source": [
    "b<30"
   ]
  },
  {
   "cell_type": "code",
   "execution_count": 88,
   "id": "7e28064b",
   "metadata": {},
   "outputs": [
    {
     "data": {
      "text/plain": [
       "True"
      ]
     },
     "execution_count": 88,
     "metadata": {},
     "output_type": "execute_result"
    }
   ],
   "source": [
    "b<30.001"
   ]
  },
  {
   "cell_type": "code",
   "execution_count": 89,
   "id": "379a38a2",
   "metadata": {},
   "outputs": [
    {
     "data": {
      "text/plain": [
       "True"
      ]
     },
     "execution_count": 89,
     "metadata": {},
     "output_type": "execute_result"
    }
   ],
   "source": [
    "b<=30"
   ]
  },
  {
   "cell_type": "code",
   "execution_count": 90,
   "id": "bc465834",
   "metadata": {},
   "outputs": [
    {
     "data": {
      "text/plain": [
       "False"
      ]
     },
     "execution_count": 90,
     "metadata": {},
     "output_type": "execute_result"
    }
   ],
   "source": [
    "b>30"
   ]
  },
  {
   "cell_type": "code",
   "execution_count": 91,
   "id": "8e11999f",
   "metadata": {},
   "outputs": [
    {
     "data": {
      "text/plain": [
       "True"
      ]
     },
     "execution_count": 91,
     "metadata": {},
     "output_type": "execute_result"
    }
   ],
   "source": [
    "b>29.5"
   ]
  },
  {
   "cell_type": "code",
   "execution_count": 92,
   "id": "e6695e57",
   "metadata": {},
   "outputs": [
    {
     "data": {
      "text/plain": [
       "True"
      ]
     },
     "execution_count": 92,
     "metadata": {},
     "output_type": "execute_result"
    }
   ],
   "source": [
    "b>=30"
   ]
  },
  {
   "cell_type": "code",
   "execution_count": 93,
   "id": "7c4653c5",
   "metadata": {},
   "outputs": [
    {
     "data": {
      "text/plain": [
       "True"
      ]
     },
     "execution_count": 93,
     "metadata": {},
     "output_type": "execute_result"
    }
   ],
   "source": [
    "b==30"
   ]
  },
  {
   "cell_type": "code",
   "execution_count": 94,
   "id": "ee1bccaf",
   "metadata": {},
   "outputs": [
    {
     "data": {
      "text/plain": [
       "False"
      ]
     },
     "execution_count": 94,
     "metadata": {},
     "output_type": "execute_result"
    }
   ],
   "source": [
    "b==29"
   ]
  },
  {
   "cell_type": "code",
   "execution_count": 95,
   "id": "d07e9016",
   "metadata": {},
   "outputs": [
    {
     "data": {
      "text/plain": [
       "False"
      ]
     },
     "execution_count": 95,
     "metadata": {},
     "output_type": "execute_result"
    }
   ],
   "source": [
    "b==31"
   ]
  },
  {
   "cell_type": "code",
   "execution_count": 96,
   "id": "7b518dc3",
   "metadata": {},
   "outputs": [
    {
     "data": {
      "text/plain": [
       "False"
      ]
     },
     "execution_count": 96,
     "metadata": {},
     "output_type": "execute_result"
    }
   ],
   "source": [
    "b!=30\n"
   ]
  },
  {
   "cell_type": "code",
   "execution_count": 97,
   "id": "104bb91c",
   "metadata": {},
   "outputs": [
    {
     "data": {
      "text/plain": [
       "True"
      ]
     },
     "execution_count": 97,
     "metadata": {},
     "output_type": "execute_result"
    }
   ],
   "source": [
    "b!=29"
   ]
  },
  {
   "cell_type": "code",
   "execution_count": 98,
   "id": "7d28c787",
   "metadata": {},
   "outputs": [
    {
     "data": {
      "text/plain": [
       "True"
      ]
     },
     "execution_count": 98,
     "metadata": {},
     "output_type": "execute_result"
    }
   ],
   "source": [
    "b!=31"
   ]
  },
  {
   "cell_type": "markdown",
   "id": "efa5fdc1",
   "metadata": {},
   "source": [
    "                    # Logical\n",
    "                    # and , or , not \n",
    "                    \n",
    "           and ---->if all conditions are true return true otherwise return false\n",
    "           or ----->if any condition is true return true otherwise false\n",
    "           \n",
    "           not ----> not False ---> true\n",
    "                     not true ---> false \n",
    "                     \n",
    "           False conditions---> 0,False,None ,(),[],'',{}\n",
    "           "
   ]
  },
  {
   "cell_type": "code",
   "execution_count": 99,
   "id": "6d7595da",
   "metadata": {},
   "outputs": [
    {
     "data": {
      "text/plain": [
       "'manish'"
      ]
     },
     "execution_count": 99,
     "metadata": {},
     "output_type": "execute_result"
    }
   ],
   "source": [
    "10%3 and 5 and 'manish'"
   ]
  },
  {
   "cell_type": "code",
   "execution_count": 100,
   "id": "4822a914",
   "metadata": {},
   "outputs": [
    {
     "data": {
      "text/plain": [
       "0"
      ]
     },
     "execution_count": 100,
     "metadata": {},
     "output_type": "execute_result"
    }
   ],
   "source": [
    "10 and 0 and False and None and 'manish'"
   ]
  },
  {
   "cell_type": "code",
   "execution_count": null,
   "id": "f7bb9607",
   "metadata": {},
   "outputs": [],
   "source": []
  }
 ],
 "metadata": {
  "kernelspec": {
   "display_name": "Python 3",
   "language": "python",
   "name": "python3"
  },
  "language_info": {
   "codemirror_mode": {
    "name": "ipython",
    "version": 3
   },
   "file_extension": ".py",
   "mimetype": "text/x-python",
   "name": "python",
   "nbconvert_exporter": "python",
   "pygments_lexer": "ipython3",
   "version": "3.6.4"
  }
 },
 "nbformat": 4,
 "nbformat_minor": 5
}
