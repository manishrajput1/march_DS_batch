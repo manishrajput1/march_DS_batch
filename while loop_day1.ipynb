{
 "cells": [
  {
   "cell_type": "code",
   "execution_count": 2,
   "id": "a12a9b32",
   "metadata": {},
   "outputs": [
    {
     "name": "stdout",
     "output_type": "stream",
     "text": [
      "Enter : hel\n",
      "hel\n"
     ]
    }
   ],
   "source": [
    "a=input('Enter : ')\n",
    "print(a)"
   ]
  },
  {
   "cell_type": "code",
   "execution_count": 3,
   "id": "468ce1b6",
   "metadata": {},
   "outputs": [
    {
     "name": "stdout",
     "output_type": "stream",
     "text": [
      "hello\n"
     ]
    }
   ],
   "source": [
    "print('hello')"
   ]
  },
  {
   "cell_type": "markdown",
   "id": "c633d877",
   "metadata": {},
   "source": [
    "# Write a Python program to count total number of notes in given amount.# "
   ]
  },
  {
   "cell_type": "code",
   "execution_count": null,
   "id": "87b7b289",
   "metadata": {},
   "outputs": [],
   "source": [
    "12700\n",
    "\n",
    "tw_th=6\n",
    "a=700\n",
    "five=1\n",
    "a=200\n",
    "tw_hun=1\n",
    "a=0\n",
    "# max prob"
   ]
  },
  {
   "cell_type": "code",
   "execution_count": 4,
   "id": "2ba69625",
   "metadata": {},
   "outputs": [
    {
     "data": {
      "text/plain": [
       "6"
      ]
     },
     "execution_count": 4,
     "metadata": {},
     "output_type": "execute_result"
    }
   ],
   "source": [
    "12700//2000"
   ]
  },
  {
   "cell_type": "code",
   "execution_count": 5,
   "id": "810409bd",
   "metadata": {},
   "outputs": [
    {
     "data": {
      "text/plain": [
       "700"
      ]
     },
     "execution_count": 5,
     "metadata": {},
     "output_type": "execute_result"
    }
   ],
   "source": [
    "12700%2000"
   ]
  },
  {
   "cell_type": "code",
   "execution_count": 11,
   "id": "e117d88b",
   "metadata": {},
   "outputs": [
    {
     "name": "stdout",
     "output_type": "stream",
     "text": [
      "enter amount: 0\n",
      "please enter amount\n"
     ]
    }
   ],
   "source": [
    "amount=int(input('enter amount: '))\n",
    "if amount:\n",
    "    tw_th=amount//2000\n",
    "    amount=amount%2000\n",
    "    five_hun=amount//500\n",
    "    amount=amount%500\n",
    "    tw_hun=amount//200\n",
    "    amount=amount%200\n",
    "    total=tw_th+five_hun+tw_hun\n",
    "    print('total notes in given amount: ',total)\n",
    "    print('two thousand : ',tw_th)\n",
    "    print('five hun : ',five_hun)\n",
    "    print('two hundred : ',tw_hun)\n",
    "else:\n",
    "    print('please enter amount')"
   ]
  },
  {
   "cell_type": "code",
   "execution_count": 12,
   "id": "510ef3a1",
   "metadata": {},
   "outputs": [
    {
     "name": "stdout",
     "output_type": "stream",
     "text": [
      "Enter value of a: 4\n",
      "Enter value of b: 7\n",
      "Enter value of c: 2\n",
      "root1:  1.2462112512353212\n",
      "root2:  -15.246211251235321\n"
     ]
    }
   ],
   "source": [
    "a=int(input('Enter value of a: '))\n",
    "b=int(input('Enter value of b: '))\n",
    "c=int(input('Enter value of c: '))\n",
    "root1=-b+(b**2-4*a*c)**0.5/2*a\n",
    "root2=-b-(b**2-4*a*c)**0.5/2*a\n",
    "if root1 and root2:\n",
    "    print('root1: ',root1)\n",
    "    print('root2: ',root2)\n",
    "else:\n",
    "    print('invalid values')"
   ]
  },
  {
   "cell_type": "code",
   "execution_count": 18,
   "id": "73015b56",
   "metadata": {},
   "outputs": [
    {
     "name": "stdout",
     "output_type": "stream",
     "text": [
      "Enter any number: 4\n",
      "not weird\n"
     ]
    }
   ],
   "source": [
    "n=int(input('Enter any number: '))\n",
    "if n%2 or 6<=n<=20:\n",
    "    print('weird')\n",
    "else:\n",
    "    print('not weird')"
   ]
  },
  {
   "cell_type": "markdown",
   "id": "91fa6f23",
   "metadata": {},
   "source": [
    "# Looping"
   ]
  },
  {
   "cell_type": "markdown",
   "id": "fe7e32bb",
   "metadata": {},
   "source": [
    "                        while loop\n",
    "                        for loop\n",
    "                        \n",
    "                        \n",
    "                        while loop\n",
    "                        \n",
    "                        \n",
    "                        \n",
    "                        1. initial value\n",
    "                        2. condition\n",
    "                        3. statement\n",
    "                        4. increment | decrement"
   ]
  },
  {
   "cell_type": "code",
   "execution_count": 25,
   "id": "67c441b0",
   "metadata": {},
   "outputs": [
    {
     "name": "stdout",
     "output_type": "stream",
     "text": [
      "Enter value : 150\n",
      "out of range\n"
     ]
    }
   ],
   "source": [
    "# 0 to 100 \n",
    "r=int(input('Enter value : '))\n",
    "if r<=100:\n",
    "    c=r\n",
    "    while c>=0:\n",
    "        print(c)\n",
    "        c-=1\n",
    "else:\n",
    "    print('out of range')"
   ]
  },
  {
   "cell_type": "code",
   "execution_count": null,
   "id": "c93a8123",
   "metadata": {},
   "outputs": [],
   "source": [
    "print('h')"
   ]
  },
  {
   "cell_type": "code",
   "execution_count": null,
   "id": "4fb5b482",
   "metadata": {},
   "outputs": [],
   "source": []
  }
 ],
 "metadata": {
  "kernelspec": {
   "display_name": "Python 3",
   "language": "python",
   "name": "python3"
  },
  "language_info": {
   "codemirror_mode": {
    "name": "ipython",
    "version": 3
   },
   "file_extension": ".py",
   "mimetype": "text/x-python",
   "name": "python",
   "nbconvert_exporter": "python",
   "pygments_lexer": "ipython3",
   "version": "3.6.4"
  }
 },
 "nbformat": 4,
 "nbformat_minor": 5
}
