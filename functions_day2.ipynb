{
 "cells": [
  {
   "cell_type": "markdown",
   "id": "27b24359",
   "metadata": {},
   "source": [
    "                        def test(arguments):  # function definition\n",
    "                            statement    # function suite\n",
    "                            return statement  # return statement\n",
    "                        test()    # function calling"
   ]
  },
  {
   "cell_type": "code",
   "execution_count": 1,
   "id": "3292bc05",
   "metadata": {},
   "outputs": [],
   "source": [
    "def add(a,b):\n",
    "    c=a+b\n",
    "    return c"
   ]
  },
  {
   "cell_type": "code",
   "execution_count": 2,
   "id": "7cfc25ba",
   "metadata": {},
   "outputs": [
    {
     "data": {
      "text/plain": [
       "30"
      ]
     },
     "execution_count": 2,
     "metadata": {},
     "output_type": "execute_result"
    }
   ],
   "source": [
    "add(10,20)"
   ]
  },
  {
   "cell_type": "code",
   "execution_count": 3,
   "id": "66c8e0b8",
   "metadata": {},
   "outputs": [
    {
     "data": {
      "text/plain": [
       "110"
      ]
     },
     "execution_count": 3,
     "metadata": {},
     "output_type": "execute_result"
    }
   ],
   "source": [
    "add(50,60)"
   ]
  },
  {
   "cell_type": "code",
   "execution_count": null,
   "id": "d232925e",
   "metadata": {},
   "outputs": [],
   "source": [
    " "
   ]
  },
  {
   "cell_type": "code",
   "execution_count": null,
   "id": "4a1a8edf",
   "metadata": {},
   "outputs": [],
   "source": []
  },
  {
   "cell_type": "code",
   "execution_count": null,
   "id": "2a5a2eae",
   "metadata": {},
   "outputs": [],
   "source": []
  },
  {
   "cell_type": "code",
   "execution_count": null,
   "id": "c16f9456",
   "metadata": {},
   "outputs": [],
   "source": []
  },
  {
   "cell_type": "code",
   "execution_count": null,
   "id": "5bf8280d",
   "metadata": {},
   "outputs": [],
   "source": []
  },
  {
   "cell_type": "code",
   "execution_count": null,
   "id": "d74a5bdc",
   "metadata": {},
   "outputs": [],
   "source": []
  },
  {
   "cell_type": "code",
   "execution_count": 4,
   "id": "d44e577c",
   "metadata": {},
   "outputs": [
    {
     "data": {
      "text/plain": [
       "7"
      ]
     },
     "execution_count": 4,
     "metadata": {},
     "output_type": "execute_result"
    }
   ],
   "source": [
    "add(1,6)"
   ]
  },
  {
   "cell_type": "code",
   "execution_count": 5,
   "id": "efe75693",
   "metadata": {},
   "outputs": [],
   "source": [
    "def add(a,b):\n",
    "    c=a+b\n",
    "    return c\n",
    "def add1(a,b):\n",
    "    c=a+b\n",
    "    print(c)"
   ]
  },
  {
   "cell_type": "code",
   "execution_count": 6,
   "id": "1f2e8467",
   "metadata": {},
   "outputs": [
    {
     "data": {
      "text/plain": [
       "50"
      ]
     },
     "execution_count": 6,
     "metadata": {},
     "output_type": "execute_result"
    }
   ],
   "source": [
    "add(10,40)"
   ]
  },
  {
   "cell_type": "code",
   "execution_count": 7,
   "id": "c7ffae9d",
   "metadata": {},
   "outputs": [
    {
     "name": "stdout",
     "output_type": "stream",
     "text": [
      "90\n"
     ]
    }
   ],
   "source": [
    "add1(40,50)"
   ]
  },
  {
   "cell_type": "code",
   "execution_count": 8,
   "id": "6b54800f",
   "metadata": {},
   "outputs": [],
   "source": [
    "m=add(10,30)"
   ]
  },
  {
   "cell_type": "code",
   "execution_count": 9,
   "id": "7062864f",
   "metadata": {},
   "outputs": [
    {
     "name": "stdout",
     "output_type": "stream",
     "text": [
      "40\n"
     ]
    }
   ],
   "source": [
    "n=add1(10,30)"
   ]
  },
  {
   "cell_type": "code",
   "execution_count": 10,
   "id": "0c0bdc74",
   "metadata": {},
   "outputs": [
    {
     "data": {
      "text/plain": [
       "40"
      ]
     },
     "execution_count": 10,
     "metadata": {},
     "output_type": "execute_result"
    }
   ],
   "source": [
    "m"
   ]
  },
  {
   "cell_type": "code",
   "execution_count": 12,
   "id": "2e011ec5",
   "metadata": {},
   "outputs": [
    {
     "name": "stdout",
     "output_type": "stream",
     "text": [
      "None\n"
     ]
    }
   ],
   "source": [
    "print(n)"
   ]
  },
  {
   "cell_type": "code",
   "execution_count": 13,
   "id": "46c69253",
   "metadata": {},
   "outputs": [],
   "source": [
    "# arguments \n",
    "# positional\n",
    "# default\n",
    "# keyword argument"
   ]
  },
  {
   "cell_type": "code",
   "execution_count": 14,
   "id": "ec9aaad2",
   "metadata": {},
   "outputs": [],
   "source": [
    "def robot(a,b,c):\n",
    "    print('a: ',a)\n",
    "    print('b: ',b)\n",
    "    print('c: ',c)\n",
    "    return a+b+c"
   ]
  },
  {
   "cell_type": "code",
   "execution_count": 22,
   "id": "049fc8db",
   "metadata": {},
   "outputs": [
    {
     "name": "stdout",
     "output_type": "stream",
     "text": [
      "a:  0\n",
      "b:  15\n",
      "c:  5\n"
     ]
    },
    {
     "data": {
      "text/plain": [
       "20"
      ]
     },
     "execution_count": 22,
     "metadata": {},
     "output_type": "execute_result"
    }
   ],
   "source": [
    "robot(0,15,5)"
   ]
  },
  {
   "cell_type": "code",
   "execution_count": 23,
   "id": "7b8d24c0",
   "metadata": {},
   "outputs": [],
   "source": [
    "def robot(a=1,b=2,c=3):\n",
    "    print('a: ',a)\n",
    "    print('b: ',b)\n",
    "    print('c: ',c)\n",
    "    return a+b+c"
   ]
  },
  {
   "cell_type": "code",
   "execution_count": 28,
   "id": "a2dde660",
   "metadata": {},
   "outputs": [
    {
     "name": "stdout",
     "output_type": "stream",
     "text": [
      "a:  1\n",
      "b:  0\n",
      "c:  0\n"
     ]
    },
    {
     "data": {
      "text/plain": [
       "1"
      ]
     },
     "execution_count": 28,
     "metadata": {},
     "output_type": "execute_result"
    }
   ],
   "source": [
    "robot(b=0,c=0)"
   ]
  },
  {
   "cell_type": "code",
   "execution_count": 29,
   "id": "fcd8569a",
   "metadata": {},
   "outputs": [],
   "source": [
    "def robot(*a):\n",
    "    print('values : ',list(a))\n",
    "    return sum(a)"
   ]
  },
  {
   "cell_type": "code",
   "execution_count": 31,
   "id": "0854e892",
   "metadata": {},
   "outputs": [
    {
     "name": "stdout",
     "output_type": "stream",
     "text": [
      "values :  [1, 2, 3, 5, 6, 7, 8, 9, 0, 67, 54, 43, 2]\n"
     ]
    },
    {
     "data": {
      "text/plain": [
       "207"
      ]
     },
     "execution_count": 31,
     "metadata": {},
     "output_type": "execute_result"
    }
   ],
   "source": [
    "robot(1,2,3,5,6,7,8,9,0,67,54,43,2)"
   ]
  },
  {
   "cell_type": "code",
   "execution_count": 32,
   "id": "f95e2551",
   "metadata": {},
   "outputs": [],
   "source": [
    "# my_range()"
   ]
  },
  {
   "cell_type": "code",
   "execution_count": 38,
   "id": "292e9e56",
   "metadata": {},
   "outputs": [
    {
     "data": {
      "text/plain": [
       "[10, 12, 14, 16, 18]"
      ]
     },
     "execution_count": 38,
     "metadata": {},
     "output_type": "execute_result"
    }
   ],
   "source": [
    "list(range(10,20,2))"
   ]
  },
  {
   "cell_type": "code",
   "execution_count": 39,
   "id": "d775678b",
   "metadata": {},
   "outputs": [],
   "source": [
    "def my_range(*l):\n",
    "    o=list(l)\n",
    "    if len(o)==1:\n",
    "        c=0\n",
    "        while c<o[0]:\n",
    "            yield c\n",
    "            c+=1\n",
    "    elif len(o)==2:\n",
    "        c=o[0]\n",
    "        while c<o[1]:\n",
    "            yield c\n",
    "            c+=1\n",
    "    elif len(o)==3:\n",
    "        c=o[0]\n",
    "        while c<o[1]:\n",
    "            yield c\n",
    "            c+=o[2]"
   ]
  },
  {
   "cell_type": "code",
   "execution_count": 45,
   "id": "0824f375",
   "metadata": {},
   "outputs": [
    {
     "data": {
      "text/plain": [
       "[10, 12, 14, 16, 18, 20, 22, 24]"
      ]
     },
     "execution_count": 45,
     "metadata": {},
     "output_type": "execute_result"
    }
   ],
   "source": [
    "list(range(10,25,2))"
   ]
  },
  {
   "cell_type": "code",
   "execution_count": 46,
   "id": "f0bb1684",
   "metadata": {},
   "outputs": [
    {
     "data": {
      "text/plain": [
       "[10, 12, 14, 16, 18, 20, 22, 24]"
      ]
     },
     "execution_count": 46,
     "metadata": {},
     "output_type": "execute_result"
    }
   ],
   "source": [
    "list(my_range(10,25,2))"
   ]
  },
  {
   "cell_type": "code",
   "execution_count": 48,
   "id": "9837fc8a",
   "metadata": {},
   "outputs": [
    {
     "name": "stdout",
     "output_type": "stream",
     "text": [
      "10\n",
      "12\n",
      "14\n",
      "16\n",
      "18\n"
     ]
    }
   ],
   "source": [
    "for i in my_range(10,20,2):\n",
    "    print(i)"
   ]
  },
  {
   "cell_type": "code",
   "execution_count": 49,
   "id": "6c9d220d",
   "metadata": {},
   "outputs": [],
   "source": [
    "def my_max(a):\n",
    "    t=a[0]\n",
    "    for i in a:\n",
    "        if i>t:\n",
    "            t=i\n",
    "    return t"
   ]
  },
  {
   "cell_type": "code",
   "execution_count": 50,
   "id": "8579da43",
   "metadata": {},
   "outputs": [
    {
     "data": {
      "text/plain": [
       "89"
      ]
     },
     "execution_count": 50,
     "metadata": {},
     "output_type": "execute_result"
    }
   ],
   "source": [
    "my_max([1,2,5,9,23,54,67,89,8,4])"
   ]
  },
  {
   "cell_type": "code",
   "execution_count": 51,
   "id": "4268edcf",
   "metadata": {},
   "outputs": [],
   "source": [
    "# otp"
   ]
  },
  {
   "cell_type": "code",
   "execution_count": 52,
   "id": "3802df2b",
   "metadata": {},
   "outputs": [],
   "source": [
    "# 4 digit\n"
   ]
  },
  {
   "cell_type": "code",
   "execution_count": 53,
   "id": "a442b341",
   "metadata": {},
   "outputs": [],
   "source": [
    "import random"
   ]
  },
  {
   "cell_type": "code",
   "execution_count": 62,
   "id": "9753a008",
   "metadata": {},
   "outputs": [
    {
     "data": {
      "text/plain": [
       "19"
      ]
     },
     "execution_count": 62,
     "metadata": {},
     "output_type": "execute_result"
    }
   ],
   "source": [
    "random.randint(10,20)"
   ]
  },
  {
   "cell_type": "code",
   "execution_count": 63,
   "id": "3cccb497",
   "metadata": {},
   "outputs": [],
   "source": [
    "def OTP():\n",
    "    import random\n",
    "    o=''\n",
    "    for i in range(4):\n",
    "        o=o+str(random.randint(0,9))\n",
    "    return o"
   ]
  },
  {
   "cell_type": "code",
   "execution_count": 74,
   "id": "c48f84f3",
   "metadata": {},
   "outputs": [
    {
     "data": {
      "text/plain": [
       "'4521'"
      ]
     },
     "execution_count": 74,
     "metadata": {},
     "output_type": "execute_result"
    }
   ],
   "source": [
    "OTP()"
   ]
  },
  {
   "cell_type": "code",
   "execution_count": 75,
   "id": "40b569ac",
   "metadata": {},
   "outputs": [],
   "source": [
    "# mailing "
   ]
  },
  {
   "cell_type": "code",
   "execution_count": 79,
   "id": "649b68c9",
   "metadata": {},
   "outputs": [
    {
     "name": "stdout",
     "output_type": "stream",
     "text": [
      "mail sent\n"
     ]
    }
   ],
   "source": [
    "def mail():\n",
    "    i=input('Enter reciever email: ')\n",
    "    msg=input('Enter msg: ')\n",
    "    import smtplib\n",
    "    con=smtplib.SMTP('smtp.gmail.com',587)\n",
    "    con.starttls()\n",
    "    con.login('bankapplication7@gmail.com','Bankapp@')\n",
    "    con.sendmail('bankapplication7@gmail.com',i,msg)\n",
    "    print('mail sent')\n",
    "    "
   ]
  },
  {
   "cell_type": "code",
   "execution_count": null,
   "id": "3832e4d2",
   "metadata": {},
   "outputs": [],
   "source": []
  }
 ],
 "metadata": {
  "kernelspec": {
   "display_name": "Python 3",
   "language": "python",
   "name": "python3"
  },
  "language_info": {
   "codemirror_mode": {
    "name": "ipython",
    "version": 3
   },
   "file_extension": ".py",
   "mimetype": "text/x-python",
   "name": "python",
   "nbconvert_exporter": "python",
   "pygments_lexer": "ipython3",
   "version": "3.6.4"
  }
 },
 "nbformat": 4,
 "nbformat_minor": 5
}
