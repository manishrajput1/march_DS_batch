{
 "cells": [
  {
   "cell_type": "markdown",
   "id": "b56e25dc",
   "metadata": {},
   "source": [
    "# for loop"
   ]
  },
  {
   "cell_type": "markdown",
   "id": "5eebff97",
   "metadata": {},
   "source": [
    "                    \n",
    "                    syntax\n",
    "                    \n",
    "                    string,tuple , list , range() generator\n",
    "                    \n",
    "                    \n",
    "                    for variable in sequence:\n",
    "                        statement"
   ]
  },
  {
   "cell_type": "code",
   "execution_count": 10,
   "id": "990b99cf",
   "metadata": {},
   "outputs": [
    {
     "name": "stdout",
     "output_type": "stream",
     "text": [
      "m a n i s h "
     ]
    }
   ],
   "source": [
    "for i in 'manish':\n",
    "    print(i,end=' ')"
   ]
  },
  {
   "cell_type": "code",
   "execution_count": 13,
   "id": "a3cd1df6",
   "metadata": {},
   "outputs": [
    {
     "name": "stdout",
     "output_type": "stream",
     "text": [
      "manish , shan , amit , rahul , payal , susmit , "
     ]
    }
   ],
   "source": [
    "for a in ['manish','shan','amit','rahul','payal','susmit']:\n",
    "    print(a,end=' , ')"
   ]
  },
  {
   "cell_type": "code",
   "execution_count": 14,
   "id": "ac6f0660",
   "metadata": {},
   "outputs": [],
   "source": [
    "# range(startpoint,endpoint,step)\n",
    "\n",
    "# range(10) ----> 0 to 9\n",
    "# range(10,20)----> 10 to 19\n",
    "# range(10,30,2)---> 10,12,14,16,...28"
   ]
  },
  {
   "cell_type": "code",
   "execution_count": 22,
   "id": "62661bad",
   "metadata": {},
   "outputs": [
    {
     "name": "stdout",
     "output_type": "stream",
     "text": [
      "10\t12\t14\t16\t18\t"
     ]
    }
   ],
   "source": [
    "for i in range(10,20,2):\n",
    "    print(i,end='\\t')"
   ]
  },
  {
   "cell_type": "code",
   "execution_count": 25,
   "id": "5694ce57",
   "metadata": {},
   "outputs": [
    {
     "name": "stdout",
     "output_type": "stream",
     "text": [
      "Enter n: 8\n",
      "8\n",
      "16\n",
      "24\n",
      "32\n",
      "40\n",
      "48\n",
      "56\n",
      "64\n",
      "72\n",
      "80\n"
     ]
    }
   ],
   "source": [
    "n=int(input('Enter n: '))\n",
    "for i in range(n,n*10+1,n):\n",
    "    print(i)"
   ]
  },
  {
   "cell_type": "code",
   "execution_count": 27,
   "id": "80c1a75c",
   "metadata": {},
   "outputs": [],
   "source": [
    "\n",
    "s='bbhjhj$%$#23676VJCDFw3@!#@#bvvghg'"
   ]
  },
  {
   "cell_type": "code",
   "execution_count": 29,
   "id": "1534182e",
   "metadata": {},
   "outputs": [
    {
     "name": "stdout",
     "output_type": "stream",
     "text": [
      "alphabets:  bbhjhjVJCDFwbvvghg\n",
      "digits:  236763\n",
      "special char:  $%$#@!#@#\n"
     ]
    }
   ],
   "source": [
    "# to extract alpha or digit or specail\n",
    "alpha=''\n",
    "digit=''\n",
    "special=''\n",
    "for i in s:\n",
    "    if i.isalpha():\n",
    "        alpha=alpha+i\n",
    "    elif  i.isdigit():\n",
    "        digit=digit+i\n",
    "    else:\n",
    "        special=special+i\n",
    "print('alphabets: ',alpha)\n",
    "print('digits: ',digit)\n",
    "print('special char: ',special)"
   ]
  },
  {
   "cell_type": "markdown",
   "id": "16658765",
   "metadata": {},
   "source": [
    "                        # patterns\n",
    "                       1. \n",
    "                        *\n",
    "                        ** \n",
    "                        ***\n",
    "                        ****\n",
    "                        *****\n",
    "                        ******\n",
    "                       2.\n",
    "                       ******\n",
    "                       *****\n",
    "                       ****\n",
    "                       ***\n",
    "                       **\n",
    "                       *\n",
    "                      3.\n",
    "                           *\n",
    "                          **\n",
    "                         ***\n",
    "                        ****\n",
    "                       *****\n",
    "                      ******\n",
    "                     4. \n",
    "                         *\n",
    "                        * *\n",
    "                       * * *\n",
    "                      * * * *\n",
    "                     * * * * *\n",
    "                     \n",
    "                    5.\n",
    "                         *\n",
    "                        * *\n",
    "                       * * *\n",
    "                      * * * *\n",
    "                     * * * * *\n",
    "                      * * * * \n",
    "                       * * *\n",
    "                        * *\n",
    "                         *\n",
    "                     \n",
    "                        \n",
    "    \n",
    "    \n",
    "    \n",
    "    \n",
    "    \n"
   ]
  },
  {
   "cell_type": "code",
   "execution_count": null,
   "id": "0d221822",
   "metadata": {},
   "outputs": [],
   "source": [
    "                        *      1*'*'\n",
    "                        **     2\n",
    "                        ***    3\n",
    "                        ****\n",
    "                        *****\n",
    "                        ******"
   ]
  },
  {
   "cell_type": "code",
   "execution_count": 42,
   "id": "c8c0d70c",
   "metadata": {},
   "outputs": [
    {
     "name": "stdout",
     "output_type": "stream",
     "text": [
      "*\n",
      "**\n",
      "***\n",
      "****\n",
      "*****\n",
      "******\n"
     ]
    }
   ],
   "source": [
    "for i in range(1,7):\n",
    "    print(i*'*')"
   ]
  },
  {
   "cell_type": "code",
   "execution_count": 39,
   "id": "86861ccf",
   "metadata": {},
   "outputs": [
    {
     "data": {
      "text/plain": [
       "'*****'"
      ]
     },
     "execution_count": 39,
     "metadata": {},
     "output_type": "execute_result"
    }
   ],
   "source": [
    "                       ******    6\n",
    "                       *****     5\n",
    "                       ****      4\n",
    "                       ***\n",
    "                       **\n",
    "                       *"
   ]
  },
  {
   "cell_type": "code",
   "execution_count": 44,
   "id": "b76a7720",
   "metadata": {},
   "outputs": [
    {
     "name": "stdout",
     "output_type": "stream",
     "text": [
      "******\n",
      "*****\n",
      "****\n",
      "***\n",
      "**\n",
      "*\n"
     ]
    }
   ],
   "source": [
    "for i in range(6,0,-1):\n",
    "    print('*'*i)"
   ]
  },
  {
   "cell_type": "code",
   "execution_count": null,
   "id": "aed96a57",
   "metadata": {},
   "outputs": [],
   "source": [
    "-----*        5*' '+'*'*1\n",
    "----**        4*' '+'*'*2   \n",
    "---***\n",
    "--****\n",
    "-*****\n",
    "******"
   ]
  },
  {
   "cell_type": "code",
   "execution_count": 49,
   "id": "756bd9c1",
   "metadata": {},
   "outputs": [
    {
     "name": "stdout",
     "output_type": "stream",
     "text": [
      "     *\n",
      "    **\n",
      "   ***\n",
      "  ****\n",
      " *****\n",
      "******\n"
     ]
    }
   ],
   "source": [
    "for i in range(1,7):\n",
    "    print(' '*(6-i)+'*'*i)"
   ]
  },
  {
   "cell_type": "code",
   "execution_count": null,
   "id": "837a956f",
   "metadata": {},
   "outputs": [],
   "source": [
    "                         *\n",
    "                        * *\n",
    "                       * * *\n",
    "                      * * * *\n",
    "                     * * * * *"
   ]
  },
  {
   "cell_type": "code",
   "execution_count": 54,
   "id": "cccf7ce7",
   "metadata": {},
   "outputs": [
    {
     "name": "stdout",
     "output_type": "stream",
     "text": [
      "     * \n",
      "    * * \n",
      "   * * * \n",
      "  * * * * \n",
      " * * * * * \n",
      "* * * * * * \n",
      "* * * * * * \n",
      " * * * * * \n",
      "  * * * * \n",
      "   * * * \n",
      "    * * \n",
      "     * \n"
     ]
    }
   ],
   "source": [
    "for i in range(1,7):\n",
    "    print(' '*(6-i)+'* '*i)\n",
    "for i in range(6,0,-1):\n",
    "    print(' '*(6-i)+'* '*i)"
   ]
  },
  {
   "cell_type": "code",
   "execution_count": 58,
   "id": "fac49f7c",
   "metadata": {},
   "outputs": [
    {
     "name": "stdout",
     "output_type": "stream",
     "text": [
      "\n",
      "1\n",
      "12\n",
      "123\n",
      "1234\n",
      "12345\n",
      "123456\n"
     ]
    }
   ],
   "source": [
    "for i in range(7):\n",
    "    for j in range(1,i+1):\n",
    "        print(j,end='')\n",
    "    print()"
   ]
  },
  {
   "cell_type": "code",
   "execution_count": null,
   "id": "563ffb6d",
   "metadata": {},
   "outputs": [],
   "source": []
  }
 ],
 "metadata": {
  "kernelspec": {
   "display_name": "Python 3",
   "language": "python",
   "name": "python3"
  },
  "language_info": {
   "codemirror_mode": {
    "name": "ipython",
    "version": 3
   },
   "file_extension": ".py",
   "mimetype": "text/x-python",
   "name": "python",
   "nbconvert_exporter": "python",
   "pygments_lexer": "ipython3",
   "version": "3.6.4"
  }
 },
 "nbformat": 4,
 "nbformat_minor": 5
}
