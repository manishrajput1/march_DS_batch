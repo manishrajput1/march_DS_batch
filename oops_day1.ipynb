{
 "cells": [
  {
   "cell_type": "code",
   "execution_count": 6,
   "id": "e2bb40b2",
   "metadata": {},
   "outputs": [],
   "source": [
    "class test:\n",
    "    def car(a):\n",
    "        return 'this is car method'\n",
    "    def bike():\n",
    "        return 'bike method'\n",
    "    "
   ]
  },
  {
   "cell_type": "code",
   "execution_count": 7,
   "id": "62b1be8d",
   "metadata": {},
   "outputs": [
    {
     "name": "stdout",
     "output_type": "stream",
     "text": [
      "['__class__', '__delattr__', '__dict__', '__dir__', '__doc__', '__eq__', '__format__', '__ge__', '__getattribute__', '__gt__', '__hash__', '__init__', '__init_subclass__', '__le__', '__lt__', '__module__', '__ne__', '__new__', '__reduce__', '__reduce_ex__', '__repr__', '__setattr__', '__sizeof__', '__str__', '__subclasshook__', '__weakref__', 'bike', 'car']\n"
     ]
    }
   ],
   "source": [
    "print(dir(test))"
   ]
  },
  {
   "cell_type": "code",
   "execution_count": 8,
   "id": "369089f2",
   "metadata": {},
   "outputs": [],
   "source": [
    "obj=test()"
   ]
  },
  {
   "cell_type": "code",
   "execution_count": 9,
   "id": "534e3eb2",
   "metadata": {},
   "outputs": [
    {
     "name": "stdout",
     "output_type": "stream",
     "text": [
      "['__class__', '__delattr__', '__dict__', '__dir__', '__doc__', '__eq__', '__format__', '__ge__', '__getattribute__', '__gt__', '__hash__', '__init__', '__init_subclass__', '__le__', '__lt__', '__module__', '__ne__', '__new__', '__reduce__', '__reduce_ex__', '__repr__', '__setattr__', '__sizeof__', '__str__', '__subclasshook__', '__weakref__', 'bike', 'car']\n"
     ]
    }
   ],
   "source": [
    "print(dir(obj))"
   ]
  },
  {
   "cell_type": "code",
   "execution_count": 10,
   "id": "b30a2316",
   "metadata": {},
   "outputs": [
    {
     "data": {
      "text/plain": [
       "'this is car method'"
      ]
     },
     "execution_count": 10,
     "metadata": {},
     "output_type": "execute_result"
    }
   ],
   "source": [
    "obj.car()\n",
    "#__new__  ------> obj.car(obj)"
   ]
  },
  {
   "cell_type": "code",
   "execution_count": 11,
   "id": "5bc80d1b",
   "metadata": {},
   "outputs": [],
   "source": [
    "class robot:\n",
    "    def testing(self):\n",
    "        print('a: ',self)\n",
    "        print('executed.....')"
   ]
  },
  {
   "cell_type": "code",
   "execution_count": 12,
   "id": "f2a1ee86",
   "metadata": {},
   "outputs": [],
   "source": [
    "ob=robot()"
   ]
  },
  {
   "cell_type": "code",
   "execution_count": 13,
   "id": "24c1bed8",
   "metadata": {},
   "outputs": [
    {
     "name": "stdout",
     "output_type": "stream",
     "text": [
      "<__main__.robot object at 0x05D2E5D0>\n"
     ]
    }
   ],
   "source": [
    "print(ob)"
   ]
  },
  {
   "cell_type": "code",
   "execution_count": 14,
   "id": "3a1b48ac",
   "metadata": {},
   "outputs": [
    {
     "name": "stdout",
     "output_type": "stream",
     "text": [
      "a:  <__main__.robot object at 0x05D2E5D0>\n",
      "executed.....\n"
     ]
    }
   ],
   "source": [
    "ob.testing()"
   ]
  },
  {
   "cell_type": "code",
   "execution_count": 15,
   "id": "2f5497d6",
   "metadata": {},
   "outputs": [],
   "source": [
    "obj=robot()"
   ]
  },
  {
   "cell_type": "code",
   "execution_count": 16,
   "id": "b662b120",
   "metadata": {},
   "outputs": [
    {
     "name": "stdout",
     "output_type": "stream",
     "text": [
      "<__main__.robot object at 0x05D2E530>\n"
     ]
    }
   ],
   "source": [
    "print(obj)"
   ]
  },
  {
   "cell_type": "code",
   "execution_count": 17,
   "id": "253613c2",
   "metadata": {},
   "outputs": [
    {
     "name": "stdout",
     "output_type": "stream",
     "text": [
      "a:  <__main__.robot object at 0x05D2E530>\n",
      "executed.....\n"
     ]
    }
   ],
   "source": [
    "obj.testing()"
   ]
  },
  {
   "cell_type": "code",
   "execution_count": 18,
   "id": "8355be61",
   "metadata": {},
   "outputs": [],
   "source": [
    "x=10"
   ]
  },
  {
   "cell_type": "code",
   "execution_count": 19,
   "id": "fc9139b4",
   "metadata": {},
   "outputs": [],
   "source": [
    "x=30"
   ]
  },
  {
   "cell_type": "code",
   "execution_count": 20,
   "id": "d9b09896",
   "metadata": {},
   "outputs": [],
   "source": [
    "x=50"
   ]
  },
  {
   "cell_type": "code",
   "execution_count": 21,
   "id": "6f3e23bc",
   "metadata": {},
   "outputs": [
    {
     "name": "stdout",
     "output_type": "stream",
     "text": [
      "50\n"
     ]
    }
   ],
   "source": [
    "print(x)"
   ]
  },
  {
   "cell_type": "code",
   "execution_count": 22,
   "id": "eb2c8ab7",
   "metadata": {},
   "outputs": [],
   "source": [
    "name='global scope'\n",
    "class test:\n",
    "    name='class scope'\n",
    "    def method(self):\n",
    "        name='local scope'\n",
    "        print(name)\n",
    "    "
   ]
  },
  {
   "cell_type": "code",
   "execution_count": 23,
   "id": "0f835443",
   "metadata": {},
   "outputs": [],
   "source": [
    "obj=test()"
   ]
  },
  {
   "cell_type": "code",
   "execution_count": 24,
   "id": "177399be",
   "metadata": {},
   "outputs": [],
   "source": [
    "obj.name='object scope'"
   ]
  },
  {
   "cell_type": "code",
   "execution_count": null,
   "id": "7a4931ba",
   "metadata": {},
   "outputs": [],
   "source": []
  },
  {
   "cell_type": "code",
   "execution_count": 34,
   "id": "19c6658a",
   "metadata": {},
   "outputs": [],
   "source": [
    "name='manish'"
   ]
  },
  {
   "cell_type": "code",
   "execution_count": null,
   "id": "82383a31",
   "metadata": {},
   "outputs": [],
   "source": []
  },
  {
   "cell_type": "code",
   "execution_count": null,
   "id": "5b0655e4",
   "metadata": {},
   "outputs": [],
   "source": []
  },
  {
   "cell_type": "code",
   "execution_count": null,
   "id": "0ea3721a",
   "metadata": {},
   "outputs": [],
   "source": []
  },
  {
   "cell_type": "code",
   "execution_count": null,
   "id": "36849748",
   "metadata": {},
   "outputs": [],
   "source": []
  },
  {
   "cell_type": "code",
   "execution_count": null,
   "id": "a97a28ec",
   "metadata": {},
   "outputs": [],
   "source": []
  },
  {
   "cell_type": "code",
   "execution_count": null,
   "id": "c993f712",
   "metadata": {},
   "outputs": [],
   "source": []
  },
  {
   "cell_type": "code",
   "execution_count": 25,
   "id": "12408b8b",
   "metadata": {},
   "outputs": [
    {
     "data": {
      "text/plain": [
       "'global scope'"
      ]
     },
     "execution_count": 25,
     "metadata": {},
     "output_type": "execute_result"
    }
   ],
   "source": [
    "\n",
    "name"
   ]
  },
  {
   "cell_type": "code",
   "execution_count": 26,
   "id": "2ebbf8cb",
   "metadata": {},
   "outputs": [
    {
     "data": {
      "text/plain": [
       "'class scope'"
      ]
     },
     "execution_count": 26,
     "metadata": {},
     "output_type": "execute_result"
    }
   ],
   "source": [
    "test.name"
   ]
  },
  {
   "cell_type": "code",
   "execution_count": 27,
   "id": "ddf9c4df",
   "metadata": {},
   "outputs": [
    {
     "data": {
      "text/plain": [
       "'global scope'"
      ]
     },
     "execution_count": 27,
     "metadata": {},
     "output_type": "execute_result"
    }
   ],
   "source": [
    "name"
   ]
  },
  {
   "cell_type": "code",
   "execution_count": 28,
   "id": "7bd0b07a",
   "metadata": {},
   "outputs": [
    {
     "name": "stdout",
     "output_type": "stream",
     "text": [
      "local scope\n"
     ]
    }
   ],
   "source": [
    "obj.method()"
   ]
  },
  {
   "cell_type": "code",
   "execution_count": 29,
   "id": "b4dc1ede",
   "metadata": {},
   "outputs": [
    {
     "data": {
      "text/plain": [
       "'object scope'"
      ]
     },
     "execution_count": 29,
     "metadata": {},
     "output_type": "execute_result"
    }
   ],
   "source": [
    "obj.name"
   ]
  },
  {
   "cell_type": "code",
   "execution_count": 30,
   "id": "b3d6b619",
   "metadata": {},
   "outputs": [
    {
     "data": {
      "text/plain": [
       "'global scope'"
      ]
     },
     "execution_count": 30,
     "metadata": {},
     "output_type": "execute_result"
    }
   ],
   "source": [
    "name"
   ]
  },
  {
   "cell_type": "code",
   "execution_count": 31,
   "id": "c3568e0b",
   "metadata": {},
   "outputs": [
    {
     "data": {
      "text/plain": [
       "'class scope'"
      ]
     },
     "execution_count": 31,
     "metadata": {},
     "output_type": "execute_result"
    }
   ],
   "source": [
    "test.name"
   ]
  },
  {
   "cell_type": "code",
   "execution_count": 32,
   "id": "9d7b40fb",
   "metadata": {},
   "outputs": [
    {
     "name": "stdout",
     "output_type": "stream",
     "text": [
      "local scope\n"
     ]
    }
   ],
   "source": [
    "obj.method()"
   ]
  },
  {
   "cell_type": "code",
   "execution_count": 33,
   "id": "8b76efb3",
   "metadata": {},
   "outputs": [
    {
     "data": {
      "text/plain": [
       "'object scope'"
      ]
     },
     "execution_count": 33,
     "metadata": {},
     "output_type": "execute_result"
    }
   ],
   "source": [
    "obj.name"
   ]
  },
  {
   "cell_type": "code",
   "execution_count": 35,
   "id": "2bd2d191",
   "metadata": {},
   "outputs": [
    {
     "data": {
      "text/plain": [
       "'manish'"
      ]
     },
     "execution_count": 35,
     "metadata": {},
     "output_type": "execute_result"
    }
   ],
   "source": [
    "name"
   ]
  },
  {
   "cell_type": "code",
   "execution_count": 36,
   "id": "3d1360a7",
   "metadata": {},
   "outputs": [],
   "source": [
    "class world:\n",
    "    def get(self):\n",
    "        a=10\n",
    "        b=20\n",
    "        c=30\n",
    "        print('values assigned.....')\n",
    "    def show(self):\n",
    "        print('addition of a and b and c: ')\n",
    "        print(a+b+c)"
   ]
  },
  {
   "cell_type": "code",
   "execution_count": 37,
   "id": "519c973c",
   "metadata": {},
   "outputs": [],
   "source": [
    "ob=world()"
   ]
  },
  {
   "cell_type": "code",
   "execution_count": 38,
   "id": "07201e00",
   "metadata": {},
   "outputs": [
    {
     "name": "stdout",
     "output_type": "stream",
     "text": [
      "values assigned.....\n"
     ]
    }
   ],
   "source": [
    "ob.get()"
   ]
  },
  {
   "cell_type": "code",
   "execution_count": 39,
   "id": "9fbf40ca",
   "metadata": {},
   "outputs": [
    {
     "name": "stdout",
     "output_type": "stream",
     "text": [
      "addition of a and b and c: \n"
     ]
    },
    {
     "ename": "NameError",
     "evalue": "name 'a' is not defined",
     "output_type": "error",
     "traceback": [
      "\u001b[1;31m---------------------------------------------------------------------------\u001b[0m",
      "\u001b[1;31mNameError\u001b[0m                                 Traceback (most recent call last)",
      "\u001b[1;32m<ipython-input-39-78f104d76477>\u001b[0m in \u001b[0;36m<module>\u001b[1;34m\u001b[0m\n\u001b[1;32m----> 1\u001b[1;33m \u001b[0mob\u001b[0m\u001b[1;33m.\u001b[0m\u001b[0mshow\u001b[0m\u001b[1;33m(\u001b[0m\u001b[1;33m)\u001b[0m\u001b[1;33m\u001b[0m\u001b[0m\n\u001b[0m",
      "\u001b[1;32m<ipython-input-36-7cb91ef416f3>\u001b[0m in \u001b[0;36mshow\u001b[1;34m(self)\u001b[0m\n\u001b[0;32m      7\u001b[0m     \u001b[1;32mdef\u001b[0m \u001b[0mshow\u001b[0m\u001b[1;33m(\u001b[0m\u001b[0mself\u001b[0m\u001b[1;33m)\u001b[0m\u001b[1;33m:\u001b[0m\u001b[1;33m\u001b[0m\u001b[0m\n\u001b[0;32m      8\u001b[0m         \u001b[0mprint\u001b[0m\u001b[1;33m(\u001b[0m\u001b[1;34m'addition of a and b and c: '\u001b[0m\u001b[1;33m)\u001b[0m\u001b[1;33m\u001b[0m\u001b[0m\n\u001b[1;32m----> 9\u001b[1;33m         \u001b[0mprint\u001b[0m\u001b[1;33m(\u001b[0m\u001b[0ma\u001b[0m\u001b[1;33m+\u001b[0m\u001b[0mb\u001b[0m\u001b[1;33m+\u001b[0m\u001b[0mc\u001b[0m\u001b[1;33m)\u001b[0m\u001b[1;33m\u001b[0m\u001b[0m\n\u001b[0m",
      "\u001b[1;31mNameError\u001b[0m: name 'a' is not defined"
     ]
    }
   ],
   "source": [
    "ob.show()"
   ]
  },
  {
   "cell_type": "code",
   "execution_count": 46,
   "id": "56f2fef5",
   "metadata": {},
   "outputs": [],
   "source": [
    "salary=70000\n",
    "class john:\n",
    "    def add(self):\n",
    "        global salary\n",
    "        salary+=10000\n",
    "        return salary"
   ]
  },
  {
   "cell_type": "code",
   "execution_count": 47,
   "id": "9f817484",
   "metadata": {},
   "outputs": [],
   "source": [
    "obj=john()"
   ]
  },
  {
   "cell_type": "code",
   "execution_count": 48,
   "id": "a0a53483",
   "metadata": {},
   "outputs": [
    {
     "data": {
      "text/plain": [
       "80000"
      ]
     },
     "execution_count": 48,
     "metadata": {},
     "output_type": "execute_result"
    }
   ],
   "source": [
    "obj.add()"
   ]
  },
  {
   "cell_type": "code",
   "execution_count": 52,
   "id": "7a1bdbd0",
   "metadata": {},
   "outputs": [],
   "source": [
    "class john:\n",
    "    addr='vrindavan'\n",
    "    def add(self):\n",
    "        return john.addr"
   ]
  },
  {
   "cell_type": "code",
   "execution_count": 53,
   "id": "1a6c1e1f",
   "metadata": {},
   "outputs": [],
   "source": [
    "o=john()"
   ]
  },
  {
   "cell_type": "code",
   "execution_count": 54,
   "id": "5fbedcc1",
   "metadata": {},
   "outputs": [
    {
     "data": {
      "text/plain": [
       "'vrindavan'"
      ]
     },
     "execution_count": 54,
     "metadata": {},
     "output_type": "execute_result"
    }
   ],
   "source": [
    "o.add()"
   ]
  },
  {
   "cell_type": "code",
   "execution_count": 55,
   "id": "2e82151c",
   "metadata": {},
   "outputs": [],
   "source": [
    "class get:\n",
    "    def get_data(self):\n",
    "        self.a=10\n",
    "        self.b=20\n",
    "        self.c=30\n",
    "    def show_data(self):\n",
    "        print(self.a+self.b+self.c)"
   ]
  },
  {
   "cell_type": "code",
   "execution_count": 56,
   "id": "9c209d79",
   "metadata": {},
   "outputs": [],
   "source": [
    "o=get()"
   ]
  },
  {
   "cell_type": "code",
   "execution_count": 58,
   "id": "7a4db21e",
   "metadata": {},
   "outputs": [],
   "source": [
    "o.get_data()"
   ]
  },
  {
   "cell_type": "code",
   "execution_count": 59,
   "id": "1fa7fc49",
   "metadata": {},
   "outputs": [
    {
     "name": "stdout",
     "output_type": "stream",
     "text": [
      "60\n"
     ]
    }
   ],
   "source": [
    "o.show_data()"
   ]
  },
  {
   "cell_type": "code",
   "execution_count": 60,
   "id": "02b40485",
   "metadata": {},
   "outputs": [
    {
     "data": {
      "text/plain": [
       "10"
      ]
     },
     "execution_count": 60,
     "metadata": {},
     "output_type": "execute_result"
    }
   ],
   "source": [
    "o.a"
   ]
  },
  {
   "cell_type": "code",
   "execution_count": 61,
   "id": "8862ec12",
   "metadata": {},
   "outputs": [
    {
     "data": {
      "text/plain": [
       "20"
      ]
     },
     "execution_count": 61,
     "metadata": {},
     "output_type": "execute_result"
    }
   ],
   "source": [
    "o.b"
   ]
  },
  {
   "cell_type": "code",
   "execution_count": 62,
   "id": "d3190f89",
   "metadata": {},
   "outputs": [
    {
     "data": {
      "text/plain": [
       "30"
      ]
     },
     "execution_count": 62,
     "metadata": {},
     "output_type": "execute_result"
    }
   ],
   "source": [
    "o.c"
   ]
  },
  {
   "cell_type": "code",
   "execution_count": 63,
   "id": "b28d2682",
   "metadata": {},
   "outputs": [],
   "source": [
    "class depen:\n",
    "    def get_data(self):\n",
    "        self.a=10\n",
    "        self.b=20\n",
    "        self.c=30\n",
    "    def show_data(self):\n",
    "        print(self.a+self.b+self.c)"
   ]
  },
  {
   "cell_type": "code",
   "execution_count": 64,
   "id": "9d0bdfbf",
   "metadata": {},
   "outputs": [],
   "source": [
    "op=depen()"
   ]
  },
  {
   "cell_type": "code",
   "execution_count": 67,
   "id": "0a7e87b2",
   "metadata": {},
   "outputs": [],
   "source": [
    "op.get_data()"
   ]
  },
  {
   "cell_type": "code",
   "execution_count": 68,
   "id": "7704b498",
   "metadata": {},
   "outputs": [
    {
     "name": "stdout",
     "output_type": "stream",
     "text": [
      "60\n"
     ]
    }
   ],
   "source": [
    "op.show_data()"
   ]
  },
  {
   "cell_type": "code",
   "execution_count": 66,
   "id": "a8cc6fa7",
   "metadata": {},
   "outputs": [],
   "source": [
    "def hello():\n",
    "    return 'hello manish'"
   ]
  },
  {
   "cell_type": "code",
   "execution_count": null,
   "id": "f7cc75f4",
   "metadata": {},
   "outputs": [],
   "source": []
  }
 ],
 "metadata": {
  "kernelspec": {
   "display_name": "Python 3",
   "language": "python",
   "name": "python3"
  },
  "language_info": {
   "codemirror_mode": {
    "name": "ipython",
    "version": 3
   },
   "file_extension": ".py",
   "mimetype": "text/x-python",
   "name": "python",
   "nbconvert_exporter": "python",
   "pygments_lexer": "ipython3",
   "version": "3.6.4"
  }
 },
 "nbformat": 4,
 "nbformat_minor": 5
}
