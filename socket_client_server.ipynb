{
 "cells": [
  {
   "cell_type": "markdown",
   "id": "7ddc2ec3",
   "metadata": {},
   "source": [
    "# Socket prog"
   ]
  },
  {
   "cell_type": "code",
   "execution_count": 1,
   "id": "00a056bf",
   "metadata": {},
   "outputs": [],
   "source": [
    "# Server\n",
    "\n",
    "# clients"
   ]
  },
  {
   "cell_type": "code",
   "execution_count": 2,
   "id": "07aae4df",
   "metadata": {},
   "outputs": [],
   "source": [
    "# host,port "
   ]
  },
  {
   "cell_type": "markdown",
   "id": "0d3e05ef",
   "metadata": {},
   "source": [
    "### Server file "
   ]
  },
  {
   "cell_type": "code",
   "execution_count": 16,
   "id": "19f1ab6d",
   "metadata": {},
   "outputs": [
    {
     "name": "stdout",
     "output_type": "stream",
     "text": [
      "Overwriting Server.py\n"
     ]
    }
   ],
   "source": [
    "%%writefile Server.py\n",
    "import socket\n",
    "con=socket.socket()\n",
    "con.bind(('DESKTOP-DJJ079G',1235))\n",
    "con.listen(1)\n",
    "c_con,c_addr=con.accept()\n",
    "\n",
    "#print('connected.....')\n",
    "#print('client connection:  ',c_con)\n",
    "#print()\n",
    "#print('client address: ',c_addr)\n",
    "while True:\n",
    "    msg=input('Enter msg: ')\n",
    "    c_con.send(msg.encode())\n",
    "    d_re=c_con.recv(1024)\n",
    "    print(d_re.decode())\n"
   ]
  },
  {
   "cell_type": "code",
   "execution_count": 4,
   "id": "3690c812",
   "metadata": {},
   "outputs": [
    {
     "data": {
      "text/plain": [
       "'DESKTOP-DJJ079G'"
      ]
     },
     "execution_count": 4,
     "metadata": {},
     "output_type": "execute_result"
    }
   ],
   "source": [
    "socket.gethostname()"
   ]
  },
  {
   "cell_type": "code",
   "execution_count": 5,
   "id": "2e80431d",
   "metadata": {},
   "outputs": [],
   "source": [
    "c,a=10,40"
   ]
  },
  {
   "cell_type": "code",
   "execution_count": 6,
   "id": "a33b631e",
   "metadata": {},
   "outputs": [
    {
     "data": {
      "text/plain": [
       "10"
      ]
     },
     "execution_count": 6,
     "metadata": {},
     "output_type": "execute_result"
    }
   ],
   "source": [
    "c"
   ]
  },
  {
   "cell_type": "code",
   "execution_count": 8,
   "id": "54a3d0be",
   "metadata": {},
   "outputs": [
    {
     "data": {
      "text/plain": [
       "40"
      ]
     },
     "execution_count": 8,
     "metadata": {},
     "output_type": "execute_result"
    }
   ],
   "source": [
    "a"
   ]
  },
  {
   "cell_type": "code",
   "execution_count": 10,
   "id": "4448c3df",
   "metadata": {},
   "outputs": [],
   "source": [
    "# whatsapp\n",
    "# client \n",
    "# whatsapp------>server "
   ]
  },
  {
   "cell_type": "code",
   "execution_count": 11,
   "id": "80f9266c",
   "metadata": {},
   "outputs": [],
   "source": [
    "socket.socket?"
   ]
  },
  {
   "cell_type": "code",
   "execution_count": 23,
   "id": "60b64105",
   "metadata": {},
   "outputs": [],
   "source": [
    "ip=socket.gethostbyname('www.fb.com')"
   ]
  },
  {
   "cell_type": "code",
   "execution_count": 24,
   "id": "2095416c",
   "metadata": {},
   "outputs": [
    {
     "data": {
      "text/plain": [
       "'157.240.1.35'"
      ]
     },
     "execution_count": 24,
     "metadata": {},
     "output_type": "execute_result"
    }
   ],
   "source": [
    "ip"
   ]
  },
  {
   "cell_type": "code",
   "execution_count": 25,
   "id": "752fee1b",
   "metadata": {},
   "outputs": [
    {
     "data": {
      "text/plain": [
       "'DESKTOP-DJJ079G'"
      ]
     },
     "execution_count": 25,
     "metadata": {},
     "output_type": "execute_result"
    }
   ],
   "source": [
    "socket.gethostname()"
   ]
  },
  {
   "cell_type": "code",
   "execution_count": null,
   "id": "c2ed87f7",
   "metadata": {},
   "outputs": [],
   "source": [
    "# client\n",
    "%%writefile Client.py\n",
    "import socket \n",
    "c=socket.socket()\n",
    "c.connect(('DESKTOP-DJJ079G',1235))\n",
    "print('connect......')\n",
    "while True:\n",
    "    data=c.recv(1024)\n",
    "    print(data.decode())\n",
    "    d=input('Enter data: ')\n",
    "    c.send(d.encode())"
   ]
  }
 ],
 "metadata": {
  "kernelspec": {
   "display_name": "Python 3",
   "language": "python",
   "name": "python3"
  },
  "language_info": {
   "codemirror_mode": {
    "name": "ipython",
    "version": 3
   },
   "file_extension": ".py",
   "mimetype": "text/x-python",
   "name": "python",
   "nbconvert_exporter": "python",
   "pygments_lexer": "ipython3",
   "version": "3.6.4"
  }
 },
 "nbformat": 4,
 "nbformat_minor": 5
}
