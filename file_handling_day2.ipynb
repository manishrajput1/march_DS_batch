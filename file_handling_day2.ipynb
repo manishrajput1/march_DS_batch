{
 "cells": [
  {
   "cell_type": "markdown",
   "id": "6095d36e",
   "metadata": {},
   "source": [
    "                    roll    name     sci    math    com\n",
    "                    1001    rahul    90      92      94"
   ]
  },
  {
   "cell_type": "code",
   "execution_count": 1,
   "id": "9d2b113f",
   "metadata": {},
   "outputs": [],
   "source": [
    "# csv"
   ]
  },
  {
   "cell_type": "code",
   "execution_count": 2,
   "id": "c557231c",
   "metadata": {},
   "outputs": [],
   "source": [
    "r=open('C://Users//rmani//Desktop//student.csv','w')"
   ]
  },
  {
   "cell_type": "code",
   "execution_count": 9,
   "id": "3915e23c",
   "metadata": {},
   "outputs": [
    {
     "name": "stdout",
     "output_type": "stream",
     "text": [
      "enter student data: roll name math sci com\n",
      "enter student data: 101 jeet 90 98 78\n",
      "enter student data: 102 shan 78 77 80\n",
      "enter student data: 103 ram 66 67 68\n",
      "enter student data: 104 mann 45 98 67\n",
      "enter student data: 105 neha 88 77 66\n"
     ]
    }
   ],
   "source": [
    "for i in range(6):\n",
    "    d=input('enter student data: ').split()\n",
    "    d=','.join(d)\n",
    "    d=d+'\\n'\n",
    "    r.write(d)\n",
    "r.close()"
   ]
  },
  {
   "cell_type": "code",
   "execution_count": 5,
   "id": "bb7e2095",
   "metadata": {},
   "outputs": [
    {
     "name": "stdout",
     "output_type": "stream",
     "text": [
      "enterroll name math sci com\n"
     ]
    }
   ],
   "source": [
    "t=input('enter').split()"
   ]
  },
  {
   "cell_type": "code",
   "execution_count": 6,
   "id": "b1ddc493",
   "metadata": {},
   "outputs": [
    {
     "data": {
      "text/plain": [
       "['roll', 'name', 'math', 'sci', 'com']"
      ]
     },
     "execution_count": 6,
     "metadata": {},
     "output_type": "execute_result"
    }
   ],
   "source": [
    "t"
   ]
  },
  {
   "cell_type": "code",
   "execution_count": 7,
   "id": "463df085",
   "metadata": {},
   "outputs": [
    {
     "data": {
      "text/plain": [
       "'roll,name,math,sci,com'"
      ]
     },
     "execution_count": 7,
     "metadata": {},
     "output_type": "execute_result"
    }
   ],
   "source": [
    "','.join(t)"
   ]
  },
  {
   "cell_type": "code",
   "execution_count": 10,
   "id": "8d239b8b",
   "metadata": {},
   "outputs": [],
   "source": [
    "file=open('C://Users//rmani//Desktop//student.csv','r')"
   ]
  },
  {
   "cell_type": "code",
   "execution_count": 11,
   "id": "ffa0b313",
   "metadata": {},
   "outputs": [],
   "source": [
    "data=file.read()"
   ]
  },
  {
   "cell_type": "code",
   "execution_count": 12,
   "id": "689967ef",
   "metadata": {},
   "outputs": [
    {
     "name": "stdout",
     "output_type": "stream",
     "text": [
      "roll,name,math,sci,com\n",
      "101,jeet,90,98,78\n",
      "102,shan,78,77,80\n",
      "103,ram,66,67,68\n",
      "104,mann,45,98,67\n",
      "105,neha,88,77,66\n",
      "\n"
     ]
    }
   ],
   "source": [
    "print(data)"
   ]
  },
  {
   "cell_type": "code",
   "execution_count": 13,
   "id": "7c6a368f",
   "metadata": {},
   "outputs": [
    {
     "name": "stdout",
     "output_type": "stream",
     "text": [
      "'roll,name,math,sci,com\\n101,jeet,90,98,78\\n102,shan,78,77,80\\n103,ram,66,67,68\\n104,mann,45,98,67\\n105,neha,88,77,66\\n'\n"
     ]
    }
   ],
   "source": [
    "print(repr(data))"
   ]
  },
  {
   "cell_type": "code",
   "execution_count": 14,
   "id": "18393c2a",
   "metadata": {},
   "outputs": [],
   "source": [
    "res=data.split('\\n')"
   ]
  },
  {
   "cell_type": "code",
   "execution_count": 19,
   "id": "96024e2c",
   "metadata": {},
   "outputs": [
    {
     "name": "stdout",
     "output_type": "stream",
     "text": [
      "['101,jeet,90,98,78', '102,shan,78,77,80', '103,ram,66,67,68', '104,mann,45,98,67', '105,neha,88,77,66', '']\n"
     ]
    }
   ],
   "source": [
    "print(repr(res[1:]))"
   ]
  },
  {
   "cell_type": "code",
   "execution_count": 16,
   "id": "1489209d",
   "metadata": {},
   "outputs": [
    {
     "data": {
      "text/plain": [
       "'roll,name,math,sci,com'"
      ]
     },
     "execution_count": 16,
     "metadata": {},
     "output_type": "execute_result"
    }
   ],
   "source": [
    "res[0]"
   ]
  },
  {
   "cell_type": "code",
   "execution_count": 17,
   "id": "9ea0dc3f",
   "metadata": {},
   "outputs": [
    {
     "data": {
      "text/plain": [
       "'101,jeet,90,98,78'"
      ]
     },
     "execution_count": 17,
     "metadata": {},
     "output_type": "execute_result"
    }
   ],
   "source": [
    "res[1]"
   ]
  },
  {
   "cell_type": "code",
   "execution_count": 18,
   "id": "12caf261",
   "metadata": {},
   "outputs": [
    {
     "data": {
      "text/plain": [
       "'102,shan,78,77,80'"
      ]
     },
     "execution_count": 18,
     "metadata": {},
     "output_type": "execute_result"
    }
   ],
   "source": [
    "res[2]"
   ]
  },
  {
   "cell_type": "code",
   "execution_count": 31,
   "id": "effc9394",
   "metadata": {},
   "outputs": [
    {
     "name": "stdout",
     "output_type": "stream",
     "text": [
      "'101,jeet,90,98,78,89'\n",
      "'102,shan,78,77,80,78'\n",
      "'103,ram,66,67,68,67'\n",
      "'104,mann,45,98,67,70'\n",
      "'105,neha,88,77,66,77'\n"
     ]
    }
   ],
   "source": [
    "result=[]\n",
    "for item in res[1:-1]:\n",
    "    y=item.split(',')\n",
    "    per=str(round(sum(map(int,y[2:]))/300*100))\n",
    "    y.append(per)\n",
    "    y=','.join(y)\n",
    "    result.append(y)\n",
    "    print(repr(y))\n",
    "    "
   ]
  },
  {
   "cell_type": "code",
   "execution_count": 33,
   "id": "573938c2",
   "metadata": {},
   "outputs": [],
   "source": [
    "result='\\n'.join(result)"
   ]
  },
  {
   "cell_type": "code",
   "execution_count": 34,
   "id": "c6f4d7e1",
   "metadata": {},
   "outputs": [
    {
     "data": {
      "text/plain": [
       "'101,jeet,90,98,78,89\\n102,shan,78,77,80,78\\n103,ram,66,67,68,67\\n104,mann,45,98,67,70\\n105,neha,88,77,66,77'"
      ]
     },
     "execution_count": 34,
     "metadata": {},
     "output_type": "execute_result"
    }
   ],
   "source": [
    "result"
   ]
  },
  {
   "cell_type": "code",
   "execution_count": 35,
   "id": "643c9cb1",
   "metadata": {},
   "outputs": [
    {
     "data": {
      "text/plain": [
       "'roll,name,math,sci,com'"
      ]
     },
     "execution_count": 35,
     "metadata": {},
     "output_type": "execute_result"
    }
   ],
   "source": [
    "res[0]"
   ]
  },
  {
   "cell_type": "code",
   "execution_count": 36,
   "id": "20c1a698",
   "metadata": {},
   "outputs": [],
   "source": [
    "head=res[0]+',percent\\n'"
   ]
  },
  {
   "cell_type": "code",
   "execution_count": 37,
   "id": "d34a9a56",
   "metadata": {},
   "outputs": [
    {
     "data": {
      "text/plain": [
       "'roll,name,math,sci,com,percent\\n'"
      ]
     },
     "execution_count": 37,
     "metadata": {},
     "output_type": "execute_result"
    }
   ],
   "source": [
    "head"
   ]
  },
  {
   "cell_type": "code",
   "execution_count": 38,
   "id": "bc1d4eae",
   "metadata": {},
   "outputs": [],
   "source": [
    "final=head+result"
   ]
  },
  {
   "cell_type": "code",
   "execution_count": 39,
   "id": "357f01e2",
   "metadata": {},
   "outputs": [
    {
     "data": {
      "text/plain": [
       "'roll,name,math,sci,com,percent\\n101,jeet,90,98,78,89\\n102,shan,78,77,80,78\\n103,ram,66,67,68,67\\n104,mann,45,98,67,70\\n105,neha,88,77,66,77'"
      ]
     },
     "execution_count": 39,
     "metadata": {},
     "output_type": "execute_result"
    }
   ],
   "source": [
    "final"
   ]
  },
  {
   "cell_type": "code",
   "execution_count": 40,
   "id": "d03b5163",
   "metadata": {},
   "outputs": [],
   "source": [
    "r=open('C://Users//rmani//Desktop//student_data.csv','w')\n",
    "r.write(final)\n",
    "r.close()"
   ]
  },
  {
   "cell_type": "code",
   "execution_count": 41,
   "id": "38058fa2",
   "metadata": {},
   "outputs": [
    {
     "data": {
      "text/plain": [
       "'101,jeet,90,98,78,89\\n102,shan,78,77,80,78\\n103,ram,66,67,68,67\\n104,mann,45,98,67,70\\n105,neha,88,77,66,77'"
      ]
     },
     "execution_count": 41,
     "metadata": {},
     "output_type": "execute_result"
    }
   ],
   "source": [
    "result"
   ]
  },
  {
   "cell_type": "code",
   "execution_count": 42,
   "id": "563d3be2",
   "metadata": {},
   "outputs": [],
   "source": [
    "t=result.split('\\n')"
   ]
  },
  {
   "cell_type": "code",
   "execution_count": 43,
   "id": "fd7824b7",
   "metadata": {},
   "outputs": [
    {
     "data": {
      "text/plain": [
       "['101,jeet,90,98,78,89',\n",
       " '102,shan,78,77,80,78',\n",
       " '103,ram,66,67,68,67',\n",
       " '104,mann,45,98,67,70',\n",
       " '105,neha,88,77,66,77']"
      ]
     },
     "execution_count": 43,
     "metadata": {},
     "output_type": "execute_result"
    }
   ],
   "source": [
    "t"
   ]
  },
  {
   "cell_type": "code",
   "execution_count": 51,
   "id": "cda8887c",
   "metadata": {},
   "outputs": [
    {
     "name": "stdout",
     "output_type": "stream",
     "text": [
      "Enter your roll number: 104\n"
     ]
    }
   ],
   "source": [
    "roll=input('Enter your roll number: ')\n",
    "\n",
    "for i in t:\n",
    "    u=i.split(',')\n",
    "    \n",
    "    if roll==u[0]:\n",
    "        p=open(f'C://Users//rmani//Desktop//{u[1]}_result.html','w')\n",
    "        per=int(u[-1])\n",
    "        if per>=90:\n",
    "            g=\"Grade A\"\n",
    "        elif per>=60:\n",
    "            g='Grade B'\n",
    "        elif per>=40:\n",
    "            g='Grade C'\n",
    "        else:\n",
    "            g='Grade F'\n",
    "        p.write(f'''\n",
    "        \n",
    "        <html>\n",
    "                <head>\n",
    "                <link rel=\"stylesheet\" href=\"https://cdn.jsdelivr.net/npm/bootstrap@4.0.0/dist/css/bootstrap.min.css\" integrity=\"sha384-Gn5384xqQ1aoWXA+058RXPxPg6fy4IWvTNh0E263XmFcJlSAwiGgFAW/dAiS6JXm\" crossorigin=\"anonymous\">\n",
    "                </head>\n",
    "                <body>\n",
    "                <div class='container'>\n",
    "\n",
    "                <h1 style=\"text-align:center;color:green;margin-bottom:30px\">Cambridge University  (California)</h1>\n",
    "                <table class=\"table\">\n",
    "                  <thead>\n",
    "                    <tr>\n",
    "                      <th scope=\"col\">Roll</th>\n",
    "                      <th scope=\"col\">Name</th>\n",
    "                      <th scope=\"col\">Math</th>\n",
    "                      <th scope=\"col\">Science</th>\n",
    "                    <th scope=\"col\">Computer</th>\n",
    "                    <th scope=\"col\">Percent</th>\n",
    "                    </tr>\n",
    "                  </thead>\n",
    "                  <tbody>\n",
    "                    <tr>\n",
    "                      <th scope=\"row\">{u[0]}</th>\n",
    "                      <td>{u[1]}</td>\n",
    "                      <td>{u[2]}</td>\n",
    "                      <td>{u[3]}</td>\n",
    "                    <td>{u[4]}</td>\n",
    "                    <td>{u[5]}</td>\n",
    "\n",
    "                    </tr>\n",
    "                        \n",
    "                  </tbody>\n",
    "                </table>\n",
    "                    <h2 style=\"text-align:center;color:green;\">{g}</h2>\n",
    "                </div>\n",
    "                </body>\n",
    "                </html>\n",
    "        \n",
    "        ''')\n",
    "        p.close()"
   ]
  },
  {
   "cell_type": "code",
   "execution_count": 52,
   "id": "94c66a33",
   "metadata": {},
   "outputs": [],
   "source": [
    "movies=open('movies.dat')"
   ]
  },
  {
   "cell_type": "code",
   "execution_count": null,
   "id": "2cefe761",
   "metadata": {},
   "outputs": [],
   "source": [
    "print(movies.read())"
   ]
  },
  {
   "cell_type": "code",
   "execution_count": null,
   "id": "c8dd8d6f",
   "metadata": {},
   "outputs": [],
   "source": []
  }
 ],
 "metadata": {
  "kernelspec": {
   "display_name": "Python 3",
   "language": "python",
   "name": "python3"
  },
  "language_info": {
   "codemirror_mode": {
    "name": "ipython",
    "version": 3
   },
   "file_extension": ".py",
   "mimetype": "text/x-python",
   "name": "python",
   "nbconvert_exporter": "python",
   "pygments_lexer": "ipython3",
   "version": "3.6.4"
  }
 },
 "nbformat": 4,
 "nbformat_minor": 5
}
