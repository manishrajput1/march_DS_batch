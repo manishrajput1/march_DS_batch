{
 "cells": [
  {
   "cell_type": "markdown",
   "id": "7234f3b4",
   "metadata": {},
   "source": [
    "                        LOGICAL \n",
    "                        AND \n",
    "                        OR \n",
    "                        NOT\n",
    "                            \n",
    "                        membership\n",
    "                        identity"
   ]
  },
  {
   "cell_type": "markdown",
   "id": "b77967a4",
   "metadata": {},
   "source": [
    "## membership  In or Not in"
   ]
  },
  {
   "cell_type": "code",
   "execution_count": 1,
   "id": "af2d683a",
   "metadata": {},
   "outputs": [],
   "source": [
    "# sequence data type ( string , list , tuple)"
   ]
  },
  {
   "cell_type": "code",
   "execution_count": 3,
   "id": "a6ed4580",
   "metadata": {},
   "outputs": [],
   "source": [
    "l=['shan','manish','rahul','amit']"
   ]
  },
  {
   "cell_type": "code",
   "execution_count": 4,
   "id": "1cdb8e25",
   "metadata": {},
   "outputs": [
    {
     "data": {
      "text/plain": [
       "True"
      ]
     },
     "execution_count": 4,
     "metadata": {},
     "output_type": "execute_result"
    }
   ],
   "source": [
    "'rahul' in l"
   ]
  },
  {
   "cell_type": "code",
   "execution_count": 5,
   "id": "aa3e3df6",
   "metadata": {},
   "outputs": [
    {
     "data": {
      "text/plain": [
       "False"
      ]
     },
     "execution_count": 5,
     "metadata": {},
     "output_type": "execute_result"
    }
   ],
   "source": [
    "'manis' in l"
   ]
  },
  {
   "cell_type": "code",
   "execution_count": 6,
   "id": "15dd5bc7",
   "metadata": {},
   "outputs": [],
   "source": [
    "t=('shan','manish','rahul','amit')"
   ]
  },
  {
   "cell_type": "code",
   "execution_count": 7,
   "id": "67c94b82",
   "metadata": {},
   "outputs": [
    {
     "data": {
      "text/plain": [
       "True"
      ]
     },
     "execution_count": 7,
     "metadata": {},
     "output_type": "execute_result"
    }
   ],
   "source": [
    "'shan' in t"
   ]
  },
  {
   "cell_type": "code",
   "execution_count": 8,
   "id": "5445ac8e",
   "metadata": {},
   "outputs": [],
   "source": [
    "r='hello manish how are you'"
   ]
  },
  {
   "cell_type": "code",
   "execution_count": 9,
   "id": "747df96e",
   "metadata": {},
   "outputs": [
    {
     "data": {
      "text/plain": [
       "'hello manish how are you'"
      ]
     },
     "execution_count": 9,
     "metadata": {},
     "output_type": "execute_result"
    }
   ],
   "source": [
    "r"
   ]
  },
  {
   "cell_type": "code",
   "execution_count": 10,
   "id": "68f522c4",
   "metadata": {},
   "outputs": [
    {
     "data": {
      "text/plain": [
       "True"
      ]
     },
     "execution_count": 10,
     "metadata": {},
     "output_type": "execute_result"
    }
   ],
   "source": [
    "'manish how' in r"
   ]
  },
  {
   "cell_type": "code",
   "execution_count": 11,
   "id": "fba8d06b",
   "metadata": {},
   "outputs": [
    {
     "data": {
      "text/plain": [
       "True"
      ]
     },
     "execution_count": 11,
     "metadata": {},
     "output_type": "execute_result"
    }
   ],
   "source": [
    "'ma' in r"
   ]
  },
  {
   "cell_type": "code",
   "execution_count": 12,
   "id": "3be0079f",
   "metadata": {},
   "outputs": [
    {
     "data": {
      "text/plain": [
       "['shan', 'manish', 'rahul', 'amit']"
      ]
     },
     "execution_count": 12,
     "metadata": {},
     "output_type": "execute_result"
    }
   ],
   "source": [
    "l"
   ]
  },
  {
   "cell_type": "code",
   "execution_count": 14,
   "id": "79728a7d",
   "metadata": {},
   "outputs": [
    {
     "data": {
      "text/plain": [
       "True"
      ]
     },
     "execution_count": 14,
     "metadata": {},
     "output_type": "execute_result"
    }
   ],
   "source": [
    "'jeet' not in l"
   ]
  },
  {
   "cell_type": "code",
   "execution_count": 15,
   "id": "5061b12d",
   "metadata": {},
   "outputs": [],
   "source": [
    "# identity ----> object  is , is not"
   ]
  },
  {
   "cell_type": "code",
   "execution_count": 16,
   "id": "83f257fb",
   "metadata": {},
   "outputs": [],
   "source": [
    "a=500\n",
    "b=500"
   ]
  },
  {
   "cell_type": "code",
   "execution_count": 17,
   "id": "35ff2cb9",
   "metadata": {},
   "outputs": [
    {
     "data": {
      "text/plain": [
       "False"
      ]
     },
     "execution_count": 17,
     "metadata": {},
     "output_type": "execute_result"
    }
   ],
   "source": [
    "a is b"
   ]
  },
  {
   "cell_type": "code",
   "execution_count": 18,
   "id": "3d27b3a5",
   "metadata": {},
   "outputs": [
    {
     "data": {
      "text/plain": [
       "88911008"
      ]
     },
     "execution_count": 18,
     "metadata": {},
     "output_type": "execute_result"
    }
   ],
   "source": [
    "id(a)"
   ]
  },
  {
   "cell_type": "code",
   "execution_count": 19,
   "id": "488eca19",
   "metadata": {},
   "outputs": [
    {
     "data": {
      "text/plain": [
       "88911488"
      ]
     },
     "execution_count": 19,
     "metadata": {},
     "output_type": "execute_result"
    }
   ],
   "source": [
    "id(b)"
   ]
  },
  {
   "cell_type": "code",
   "execution_count": 20,
   "id": "d3c641d7",
   "metadata": {},
   "outputs": [],
   "source": [
    "e=200\n",
    "f=200"
   ]
  },
  {
   "cell_type": "code",
   "execution_count": 21,
   "id": "534908c2",
   "metadata": {},
   "outputs": [
    {
     "data": {
      "text/plain": [
       "True"
      ]
     },
     "execution_count": 21,
     "metadata": {},
     "output_type": "execute_result"
    }
   ],
   "source": [
    "e is f"
   ]
  },
  {
   "cell_type": "code",
   "execution_count": 22,
   "id": "0e163a4d",
   "metadata": {},
   "outputs": [
    {
     "data": {
      "text/plain": [
       "1931337888"
      ]
     },
     "execution_count": 22,
     "metadata": {},
     "output_type": "execute_result"
    }
   ],
   "source": [
    "id(e)"
   ]
  },
  {
   "cell_type": "code",
   "execution_count": 23,
   "id": "22e0c68d",
   "metadata": {},
   "outputs": [
    {
     "data": {
      "text/plain": [
       "1931337888"
      ]
     },
     "execution_count": 23,
     "metadata": {},
     "output_type": "execute_result"
    }
   ],
   "source": [
    "id(f)"
   ]
  },
  {
   "cell_type": "code",
   "execution_count": 24,
   "id": "4aa73cfa",
   "metadata": {},
   "outputs": [],
   "source": [
    "# int ----> 0 to 256\n",
    "# "
   ]
  },
  {
   "cell_type": "code",
   "execution_count": 29,
   "id": "5fcdd852",
   "metadata": {},
   "outputs": [],
   "source": [
    "r='manish '\n",
    "p='manish '"
   ]
  },
  {
   "cell_type": "code",
   "execution_count": 30,
   "id": "f73bc3f8",
   "metadata": {},
   "outputs": [
    {
     "data": {
      "text/plain": [
       "False"
      ]
     },
     "execution_count": 30,
     "metadata": {},
     "output_type": "execute_result"
    }
   ],
   "source": [
    "r is p"
   ]
  },
  {
   "cell_type": "code",
   "execution_count": 31,
   "id": "a617b798",
   "metadata": {},
   "outputs": [
    {
     "data": {
      "text/plain": [
       "108628480"
      ]
     },
     "execution_count": 31,
     "metadata": {},
     "output_type": "execute_result"
    }
   ],
   "source": [
    "id(r)"
   ]
  },
  {
   "cell_type": "code",
   "execution_count": 32,
   "id": "f609af12",
   "metadata": {},
   "outputs": [
    {
     "data": {
      "text/plain": [
       "108629920"
      ]
     },
     "execution_count": 32,
     "metadata": {},
     "output_type": "execute_result"
    }
   ],
   "source": [
    "id(p)"
   ]
  },
  {
   "cell_type": "code",
   "execution_count": 33,
   "id": "3fc32aa0",
   "metadata": {},
   "outputs": [],
   "source": [
    "# string ---> alpha "
   ]
  },
  {
   "cell_type": "code",
   "execution_count": 34,
   "id": "0e99a721",
   "metadata": {},
   "outputs": [],
   "source": [
    "l=[1,2,3]\n",
    "l1=[1,2,3]"
   ]
  },
  {
   "cell_type": "code",
   "execution_count": 35,
   "id": "3f91ccb0",
   "metadata": {},
   "outputs": [
    {
     "data": {
      "text/plain": [
       "108590584"
      ]
     },
     "execution_count": 35,
     "metadata": {},
     "output_type": "execute_result"
    }
   ],
   "source": [
    "id(l)"
   ]
  },
  {
   "cell_type": "code",
   "execution_count": 36,
   "id": "7c5d40af",
   "metadata": {},
   "outputs": [
    {
     "data": {
      "text/plain": [
       "88944888"
      ]
     },
     "execution_count": 36,
     "metadata": {},
     "output_type": "execute_result"
    }
   ],
   "source": [
    "id(l1)"
   ]
  },
  {
   "cell_type": "markdown",
   "id": "28c83041",
   "metadata": {},
   "source": [
    "# Control statement"
   ]
  },
  {
   "cell_type": "code",
   "execution_count": 37,
   "id": "17f681fb",
   "metadata": {},
   "outputs": [],
   "source": [
    "# if , elif , else , pass , continue ,break"
   ]
  },
  {
   "cell_type": "markdown",
   "id": "4fc64f60",
   "metadata": {},
   "source": [
    "                     if condition:\n",
    "                        block of if\n",
    "                        code\n",
    "                        .\n",
    "                        .\n",
    "                        .\n",
    "                      elif condition1:\n",
    "                          block of elif\n",
    "                          code\n",
    "                          \n",
    "                      elif condition3:\n",
    "                          statement\n",
    "                          \n",
    "                          \n",
    "                      else:\n",
    "                          statement"
   ]
  },
  {
   "cell_type": "code",
   "execution_count": 38,
   "id": "08450bae",
   "metadata": {},
   "outputs": [],
   "source": [
    "# 0 , None , False , '' , [],(),{} ----false condition "
   ]
  },
  {
   "cell_type": "code",
   "execution_count": 41,
   "id": "ca001918",
   "metadata": {},
   "outputs": [
    {
     "name": "stdout",
     "output_type": "stream",
     "text": [
      "block of if\n"
     ]
    }
   ],
   "source": [
    "if 'manish':\n",
    "    print('block of if')\n",
    "elif 1:\n",
    "    print('block of elif')\n",
    "else:\n",
    "    print('block of else')"
   ]
  },
  {
   "cell_type": "markdown",
   "id": "bfb21a73",
   "metadata": {},
   "source": [
    "# Write a Python program to find maximum between two numbers.# "
   ]
  },
  {
   "cell_type": "code",
   "execution_count": 44,
   "id": "000cae0e",
   "metadata": {},
   "outputs": [
    {
     "name": "stdout",
     "output_type": "stream",
     "text": [
      "Enter value of a :30\n",
      "Enter value of b: 30\n",
      "both are equal\n"
     ]
    }
   ],
   "source": [
    "a=int(input('Enter value of a :'))\n",
    "b=int(input('Enter value of b: '))\n",
    "if a>b:\n",
    "    print('a is max')\n",
    "elif a==b:\n",
    "    print('both are equal')\n",
    "else:\n",
    "    print('b is max')"
   ]
  },
  {
   "cell_type": "markdown",
   "id": "f04eda05",
   "metadata": {},
   "source": [
    "# Write a Python program to check whether a number is negative, positive or zero."
   ]
  },
  {
   "cell_type": "code",
   "execution_count": 48,
   "id": "3d388d51",
   "metadata": {},
   "outputs": [
    {
     "name": "stdout",
     "output_type": "stream",
     "text": [
      "Enter any number: -2\n",
      "negative\n"
     ]
    }
   ],
   "source": [
    "x=int(input('Enter any number: '))\n",
    "\n",
    "if x>0:\n",
    "    print('positive')\n",
    "elif x<0:\n",
    "    print('negative')\n",
    "else:\n",
    "    print('zero')"
   ]
  },
  {
   "cell_type": "markdown",
   "id": "e748ecb0",
   "metadata": {},
   "source": [
    "# Write a Python program to check whether a number is divisible by 5 and 11 or not."
   ]
  },
  {
   "cell_type": "code",
   "execution_count": 52,
   "id": "50b61817",
   "metadata": {},
   "outputs": [
    {
     "name": "stdout",
     "output_type": "stream",
     "text": [
      "Enter a: 100\n",
      "not divisible\n"
     ]
    }
   ],
   "source": [
    "a=int(input('Enter a: '))\n",
    "if a%5==0 and a%11==0:\n",
    "    print('given number is divisible by 5 and 11')\n",
    "else:\n",
    "    print('not divisible')\n",
    "    "
   ]
  },
  {
   "cell_type": "markdown",
   "id": "20497254",
   "metadata": {},
   "source": [
    "# Write a Python program to check whether a number is even or odd."
   ]
  },
  {
   "cell_type": "code",
   "execution_count": 54,
   "id": "bd2763e2",
   "metadata": {},
   "outputs": [
    {
     "name": "stdout",
     "output_type": "stream",
     "text": [
      "Enter a: 33\n",
      "odd\n"
     ]
    }
   ],
   "source": [
    "a=int(input('Enter a: '))\n",
    "if a%2==0:\n",
    "    print('even')\n",
    "else:\n",
    "    print('odd')"
   ]
  },
  {
   "cell_type": "markdown",
   "id": "6fe79192",
   "metadata": {},
   "source": [
    "# Write a Python program to check whether a year is leap year or not."
   ]
  },
  {
   "cell_type": "code",
   "execution_count": 55,
   "id": "ffa9878a",
   "metadata": {},
   "outputs": [],
   "source": [
    "# nor----4\n",
    "# cen---400"
   ]
  },
  {
   "cell_type": "markdown",
   "id": "219c5ca0",
   "metadata": {},
   "source": [
    "                        if condition:\n",
    "                            if condition:\n",
    "                                 statement\n",
    "                            else:\n",
    "                                 statement\n",
    "                         else:\n",
    "                             statement"
   ]
  },
  {
   "cell_type": "code",
   "execution_count": 60,
   "id": "848859bf",
   "metadata": {},
   "outputs": [
    {
     "name": "stdout",
     "output_type": "stream",
     "text": [
      "Enter year: 1600\n",
      "leap year\n"
     ]
    }
   ],
   "source": [
    "year =int(input('Enter year: '))\n",
    "\n",
    "if year%100==0:\n",
    "    if year%400==0:\n",
    "        print('leap year')\n",
    "    else:\n",
    "        print('not leap year')\n",
    "        \n",
    "    \n",
    "else:\n",
    "    if year%4==0:\n",
    "        print('leap year')\n",
    "    else:\n",
    "        print('not leap year')"
   ]
  },
  {
   "cell_type": "code",
   "execution_count": 64,
   "id": "bf64ba33",
   "metadata": {},
   "outputs": [
    {
     "name": "stdout",
     "output_type": "stream",
     "text": [
      "Enter year: 2008\n",
      "leap year\n"
     ]
    }
   ],
   "source": [
    "y=int(input('Enter year: '))\n",
    "if y%4==0 and (y%400==0 or y%100):\n",
    "    print('leap year')\n",
    "else:\n",
    "    print('not leap year')"
   ]
  },
  {
   "cell_type": "code",
   "execution_count": 66,
   "id": "709275d5",
   "metadata": {},
   "outputs": [
    {
     "name": "stdout",
     "output_type": "stream",
     "text": [
      "Enter t: 5\n",
      "odd\n"
     ]
    }
   ],
   "source": [
    "t=int(input('Enter t: '))\n",
    "if t%2:\n",
    "    print('odd')\n",
    "else:\n",
    "    print('even')"
   ]
  },
  {
   "cell_type": "code",
   "execution_count": null,
   "id": "0f6eb564",
   "metadata": {},
   "outputs": [],
   "source": []
  }
 ],
 "metadata": {
  "kernelspec": {
   "display_name": "Python 3",
   "language": "python",
   "name": "python3"
  },
  "language_info": {
   "codemirror_mode": {
    "name": "ipython",
    "version": 3
   },
   "file_extension": ".py",
   "mimetype": "text/x-python",
   "name": "python",
   "nbconvert_exporter": "python",
   "pygments_lexer": "ipython3",
   "version": "3.6.4"
  }
 },
 "nbformat": 4,
 "nbformat_minor": 5
}
