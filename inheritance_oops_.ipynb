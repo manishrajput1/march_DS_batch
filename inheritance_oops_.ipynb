{
 "cells": [
  {
   "cell_type": "code",
   "execution_count": 1,
   "id": "647c41a0",
   "metadata": {},
   "outputs": [],
   "source": [
    "#oops"
   ]
  },
  {
   "cell_type": "code",
   "execution_count": 2,
   "id": "d94c920d",
   "metadata": {},
   "outputs": [],
   "source": [
    "class test:\n",
    "    def get(self):\n",
    "        self.a=10\n",
    "        self.b=20\n",
    "    def show(self):\n",
    "        return self.a+self.b"
   ]
  },
  {
   "cell_type": "code",
   "execution_count": 5,
   "id": "7fac7511",
   "metadata": {},
   "outputs": [],
   "source": [
    "obj=test()\n",
    "obj.get()"
   ]
  },
  {
   "cell_type": "code",
   "execution_count": 6,
   "id": "e98b9fd2",
   "metadata": {},
   "outputs": [
    {
     "data": {
      "text/plain": [
       "30"
      ]
     },
     "execution_count": 6,
     "metadata": {},
     "output_type": "execute_result"
    }
   ],
   "source": [
    "obj.show()"
   ]
  },
  {
   "cell_type": "code",
   "execution_count": 26,
   "id": "fc8312cc",
   "metadata": {},
   "outputs": [],
   "source": [
    "class robot:\n",
    "    def __init__(self):\n",
    "        self.name='manish'\n",
    "        self.addr='vrindavan'\n",
    "        self.a=50\n",
    "        print('constructor execute......')\n",
    "    def show(self):\n",
    "        return f\"hello my name is {self.name} and address : {self.addr}\"\n",
    "    def __str__(self):\n",
    "        return self.name\n",
    "    def __del__(self):\n",
    "        del self\n",
    "        print('dictructor execute')\n",
    "    def __add__(self,a):\n",
    "        return self.a+a.a"
   ]
  },
  {
   "cell_type": "code",
   "execution_count": 27,
   "id": "f4469807",
   "metadata": {},
   "outputs": [
    {
     "name": "stdout",
     "output_type": "stream",
     "text": [
      "constructor execute......\n"
     ]
    }
   ],
   "source": [
    "ob=robot()"
   ]
  },
  {
   "cell_type": "code",
   "execution_count": 20,
   "id": "8785f900",
   "metadata": {},
   "outputs": [
    {
     "data": {
      "text/plain": [
       "'hello my name is manish and address : vrindavan'"
      ]
     },
     "execution_count": 20,
     "metadata": {},
     "output_type": "execute_result"
    }
   ],
   "source": [
    "ob.show()"
   ]
  },
  {
   "cell_type": "code",
   "execution_count": 21,
   "id": "10e5d956",
   "metadata": {},
   "outputs": [
    {
     "name": "stdout",
     "output_type": "stream",
     "text": [
      "manish\n"
     ]
    }
   ],
   "source": [
    "  print(ob)"
   ]
  },
  {
   "cell_type": "code",
   "execution_count": 22,
   "id": "4b5ff64d",
   "metadata": {},
   "outputs": [
    {
     "name": "stdout",
     "output_type": "stream",
     "text": [
      "dictructor execute\n"
     ]
    }
   ],
   "source": [
    "del ob"
   ]
  },
  {
   "cell_type": "code",
   "execution_count": 23,
   "id": "8e42d962",
   "metadata": {},
   "outputs": [
    {
     "ename": "NameError",
     "evalue": "name 'ob' is not defined",
     "output_type": "error",
     "traceback": [
      "\u001b[1;31m---------------------------------------------------------------------------\u001b[0m",
      "\u001b[1;31mNameError\u001b[0m                                 Traceback (most recent call last)",
      "\u001b[1;32m<ipython-input-23-bb7f1665046c>\u001b[0m in \u001b[0;36m<module>\u001b[1;34m\u001b[0m\n\u001b[1;32m----> 1\u001b[1;33m \u001b[0mprint\u001b[0m\u001b[1;33m(\u001b[0m\u001b[0mob\u001b[0m\u001b[1;33m)\u001b[0m\u001b[1;33m\u001b[0m\u001b[0m\n\u001b[0m",
      "\u001b[1;31mNameError\u001b[0m: name 'ob' is not defined"
     ]
    }
   ],
   "source": [
    "print(ob)"
   ]
  },
  {
   "cell_type": "code",
   "execution_count": 28,
   "id": "97634da2",
   "metadata": {},
   "outputs": [
    {
     "name": "stdout",
     "output_type": "stream",
     "text": [
      "constructor execute......\n"
     ]
    }
   ],
   "source": [
    "o=robot()"
   ]
  },
  {
   "cell_type": "code",
   "execution_count": 29,
   "id": "6db5996b",
   "metadata": {},
   "outputs": [
    {
     "name": "stdout",
     "output_type": "stream",
     "text": [
      "constructor execute......\n"
     ]
    }
   ],
   "source": [
    "m=robot()"
   ]
  },
  {
   "cell_type": "code",
   "execution_count": 30,
   "id": "481f4152",
   "metadata": {},
   "outputs": [
    {
     "data": {
      "text/plain": [
       "100"
      ]
     },
     "execution_count": 30,
     "metadata": {},
     "output_type": "execute_result"
    }
   ],
   "source": [
    "o+m"
   ]
  },
  {
   "cell_type": "code",
   "execution_count": 31,
   "id": "5872ea25",
   "metadata": {},
   "outputs": [],
   "source": [
    "# inheritance\n",
    "\n"
   ]
  },
  {
   "cell_type": "markdown",
   "id": "f621ed97",
   "metadata": {},
   "source": [
    "                                    \n",
    "                                    1. single \n",
    "                                    2. multiple\n",
    "                                    3. multilevel\n",
    "                                    4. heirarchy\n",
    "                                    5. hybrid"
   ]
  },
  {
   "cell_type": "code",
   "execution_count": 35,
   "id": "14887a77",
   "metadata": {},
   "outputs": [],
   "source": [
    "class Parent:\n",
    "    def get(self):\n",
    "        print('hello i am get method ')\n",
    "    def show(self):\n",
    "        print('hello i am show method')\n",
    "class Child(Parent):\n",
    "    def disp(self):\n",
    "        print('i am display method')\n",
    "    def test(self):\n",
    "        print('i am test method')"
   ]
  },
  {
   "cell_type": "code",
   "execution_count": 36,
   "id": "f393f0ac",
   "metadata": {},
   "outputs": [],
   "source": [
    "obj=Child()"
   ]
  },
  {
   "cell_type": "code",
   "execution_count": 37,
   "id": "94626e0b",
   "metadata": {},
   "outputs": [
    {
     "name": "stdout",
     "output_type": "stream",
     "text": [
      "hello i am get method \n"
     ]
    }
   ],
   "source": [
    "obj.get()"
   ]
  },
  {
   "cell_type": "code",
   "execution_count": 38,
   "id": "356d6991",
   "metadata": {},
   "outputs": [
    {
     "name": "stdout",
     "output_type": "stream",
     "text": [
      "['__class__', '__delattr__', '__dict__', '__dir__', '__doc__', '__eq__', '__format__', '__ge__', '__getattribute__', '__gt__', '__hash__', '__init__', '__init_subclass__', '__le__', '__lt__', '__module__', '__ne__', '__new__', '__reduce__', '__reduce_ex__', '__repr__', '__setattr__', '__sizeof__', '__str__', '__subclasshook__', '__weakref__', 'disp', 'get', 'show', 'test']\n"
     ]
    }
   ],
   "source": [
    "print(dir(Child))"
   ]
  },
  {
   "cell_type": "code",
   "execution_count": 39,
   "id": "8fc42c2e",
   "metadata": {},
   "outputs": [],
   "source": [
    "# MRO"
   ]
  },
  {
   "cell_type": "code",
   "execution_count": 49,
   "id": "f18c7856",
   "metadata": {},
   "outputs": [],
   "source": [
    "class A:\n",
    "    def show(self):\n",
    "        return ' i am A class method'\n",
    "class B:\n",
    "    def show(self):\n",
    "        return ' i am B class method'\n",
    "class C:\n",
    "    def show(self):\n",
    "        return ' i am C class method'\n",
    "class D(C,B,A):\n",
    "    def show(self):\n",
    "        print('byebye')"
   ]
  },
  {
   "cell_type": "code",
   "execution_count": 50,
   "id": "9a1c0e27",
   "metadata": {},
   "outputs": [],
   "source": [
    "E=D()"
   ]
  },
  {
   "cell_type": "code",
   "execution_count": 51,
   "id": "cae1a8c4",
   "metadata": {},
   "outputs": [
    {
     "name": "stdout",
     "output_type": "stream",
     "text": [
      "byebye\n"
     ]
    }
   ],
   "source": [
    "E.show()"
   ]
  },
  {
   "cell_type": "code",
   "execution_count": null,
   "id": "d1fa8f27",
   "metadata": {},
   "outputs": [],
   "source": []
  }
 ],
 "metadata": {
  "kernelspec": {
   "display_name": "Python 3",
   "language": "python",
   "name": "python3"
  },
  "language_info": {
   "codemirror_mode": {
    "name": "ipython",
    "version": 3
   },
   "file_extension": ".py",
   "mimetype": "text/x-python",
   "name": "python",
   "nbconvert_exporter": "python",
   "pygments_lexer": "ipython3",
   "version": "3.6.4"
  }
 },
 "nbformat": 4,
 "nbformat_minor": 5
}
